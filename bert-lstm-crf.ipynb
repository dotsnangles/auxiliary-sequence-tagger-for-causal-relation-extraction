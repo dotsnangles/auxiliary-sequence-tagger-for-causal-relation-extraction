{
 "cells": [
  {
   "cell_type": "code",
   "execution_count": 36,
   "metadata": {},
   "outputs": [],
   "source": [
    "import torch\n",
    "import torch.nn as nn\n",
    "from torchcrf import CRF\n",
    "from transformers import ElectraModel, ElectraTokenizer"
   ]
  },
  {
   "cell_type": "code",
   "execution_count": 37,
   "metadata": {},
   "outputs": [],
   "source": [
    "# class KobertBiLSTMCRF(nn.Module):\n",
    "#     \"\"\" koBERT with CRF \"\"\"\n",
    "#     def __init__(self, config, num_classes, vocab=None) -> None:\n",
    "#         super(KobertBiLSTMCRF, self).__init__()\n",
    "\n",
    "#         if vocab is None: # pretraining model 사용\n",
    "#             self.bert, self.vocab = get_pytorch_kobert_model()\n",
    "#         else: # finetuning model 사용           \n",
    "#             self.bert = BertModel(config=BertConfig.from_dict(bert_config))\n",
    "#             self.vocab = vocab\n",
    "#         self._pad_id = self.vocab.token_to_idx[self.vocab.padding_token]\n",
    "\n",
    "#         self.dropout = nn.Dropout(config.dropout)\n",
    "#         self.bilstm = nn.LSTM(config.hidden_size, (config.hidden_size) // 2, dropout=config.dropout, batch_first=True, bidirectional=True)\n",
    "#         self.position_wise_ff = nn.Linear(config.hidden_size, num_classes)\n",
    "#         self.crf = CRF(num_labels=num_classes)\n",
    "\n",
    "#     def forward(self, input_ids, token_type_ids=None, tags=None, using_pack_sequence=True):\n",
    "\n",
    "#         seq_length = input_ids.ne(self._pad_id).sum(dim=1)\n",
    "#         attention_mask = input_ids.ne(self._pad_id).float()\n",
    "#         outputs = self.bert(input_ids=input_ids, token_type_ids=token_type_ids, attention_mask=attention_mask)\n",
    "#         last_encoder_layer = outputs[0]\n",
    "#         last_encoder_layer = self.dropout(last_encoder_layer)\n",
    "#         if using_pack_sequence is True:\n",
    "#             pack_padded_last_encoder_layer = pack_padded_sequence(last_encoder_layer, seq_length, batch_first=True, enforce_sorted=False)\n",
    "#             outputs, hc = self.bilstm(pack_padded_last_encoder_layer)\n",
    "#             outputs = pad_packed_sequence(outputs, batch_first=True, padding_value=self._pad_id)[0]\n",
    "#         else:\n",
    "#             outputs, hc = self.bilstm(last_encoder_layer)\n",
    "#         emissions = self.position_wise_ff(outputs)\n",
    "\n",
    "#         if tags is not None: # crf training\n",
    "#             log_likelihood, sequence_of_tags = self.crf(emissions, tags), self.crf.decode(emissions)\n",
    "#             return log_likelihood, sequence_of_tags\n",
    "#         else: # tag inference\n",
    "#             sequence_of_tags = self.crf.decode(emissions)\n",
    "#             return sequence_of_tags"
   ]
  },
  {
   "cell_type": "code",
   "execution_count": 38,
   "metadata": {},
   "outputs": [],
   "source": [
    "class BERT_BiLSTM_CRF(nn.Module):\n",
    "\n",
    "    def __init__(self, bert, config, need_birnn=False, rnn_dim=128):\n",
    "        super(BERT_BiLSTM_CRF, self).__init__()\n",
    "        \n",
    "        self.num_tags = config.num_labels\n",
    "        self.bert = bert\n",
    "        self.dropout = nn.Dropout(config.hidden_dropout_prob)\n",
    "        out_dim = config.hidden_size\n",
    "        self.need_birnn = need_birnn\n",
    "\n",
    "        # if False, no use of BiLSTM\n",
    "        if need_birnn:\n",
    "            self.birnn = nn.LSTM(config.hidden_size, rnn_dim, num_layers=1, bidirectional=True, batch_first=True)\n",
    "            out_dim = rnn_dim*2\n",
    "        \n",
    "        self.hidden2tag = nn.Linear(out_dim, config.num_labels)\n",
    "        self.crf = CRF(config.num_labels, batch_first=True)\n",
    "    \n",
    "\n",
    "    def forward(self, input_ids, tags, input_mask=None):\n",
    "        emissions = self.tag_outputs(input_ids, input_mask)\n",
    "        loss = -1*self.crf(emissions, tags.long(), input_mask.byte()) # log_likelihood\n",
    "        prediction = self.crf.decode(emissions, input_mask.byte())\n",
    "        return loss, prediction\n",
    "\n",
    "    def tag_outputs(self, input_ids, input_mask=None):\n",
    "\n",
    "        outputs = self.bert(input_ids, attention_mask=input_mask)\n",
    "\n",
    "        sequence_output = outputs[0]\n",
    "        \n",
    "        if self.need_birnn:\n",
    "            sequence_output, _ = self.birnn(sequence_output)\n",
    "\n",
    "        sequence_output = self.dropout(sequence_output)\n",
    "        emissions = self.hidden2tag(sequence_output)\n",
    "\n",
    "        return emissions\n",
    "    \n",
    "    def predict(self, input_ids, input_mask=None):\n",
    "        emissions = self.tag_outputs(input_ids, input_mask)\n",
    "        return self.crf.decode(emissions, input_mask.byte())"
   ]
  },
  {
   "cell_type": "code",
   "execution_count": 39,
   "metadata": {},
   "outputs": [
    {
     "name": "stderr",
     "output_type": "stream",
     "text": [
      "Some weights of the model checkpoint at monologg/koelectra-base-v3-discriminator were not used when initializing ElectraModel: ['discriminator_predictions.dense.weight', 'discriminator_predictions.dense_prediction.bias', 'discriminator_predictions.dense_prediction.weight', 'discriminator_predictions.dense.bias']\n",
      "- This IS expected if you are initializing ElectraModel from the checkpoint of a model trained on another task or with another architecture (e.g. initializing a BertForSequenceClassification model from a BertForPreTraining model).\n",
      "- This IS NOT expected if you are initializing ElectraModel from the checkpoint of a model that you expect to be exactly identical (initializing a BertForSequenceClassification model from a BertForSequenceClassification model).\n"
     ]
    },
    {
     "name": "stdout",
     "output_type": "stream",
     "text": [
      "22\n",
      "0.1\n",
      "768\n"
     ]
    }
   ],
   "source": [
    "ckpt = \"monologg/koelectra-base-v3-discriminator\"\n",
    "bert = ElectraModel.from_pretrained(ckpt, num_labels=22)\n",
    "tokenizer = ElectraTokenizer.from_pretrained('./tokenizer/')\n",
    "bert.resize_token_embeddings(len(tokenizer))\n",
    "config = bert.config\n",
    "print(config.num_labels)\n",
    "print(config.hidden_dropout_prob)\n",
    "print(config.hidden_size)"
   ]
  },
  {
   "cell_type": "code",
   "execution_count": 40,
   "metadata": {},
   "outputs": [],
   "source": [
    "model = BERT_BiLSTM_CRF(bert, config, need_birnn=True, rnn_dim=128)"
   ]
  },
  {
   "cell_type": "code",
   "execution_count": 103,
   "metadata": {},
   "outputs": [
    {
     "data": {
      "text/plain": [
       "tensor(22.3188, grad_fn=<MulBackward0>)"
      ]
     },
     "execution_count": 103,
     "metadata": {},
     "output_type": "execute_result"
    }
   ],
   "source": [
    "text = '야호!!!'\n",
    "input_ids, token_type_ids, attention_mask = dict(tokenizer(text, return_tensors='pt')).values()\n",
    "tags = torch.Tensor([[1, 5, 9, 5, 9, 5, 14]])\n",
    "\n",
    "emissions = model.tag_outputs(input_ids, attention_mask)\n",
    "loss = -1*model.crf(emissions, tags.long(), attention_mask.byte()) # log_likelihood\n",
    "loss"
   ]
  },
  {
   "cell_type": "code",
   "execution_count": 104,
   "metadata": {},
   "outputs": [],
   "source": [
    "input_ids = torch.cat([input_ids, input_ids, input_ids])\n",
    "attention_mask = torch.cat([attention_mask, attention_mask, attention_mask])\n",
    "tags = torch.cat([tags, tags, tags])"
   ]
  },
  {
   "cell_type": "code",
   "execution_count": 105,
   "metadata": {},
   "outputs": [
    {
     "data": {
      "text/plain": [
       "(tensor(66.5115, grad_fn=<MulBackward0>),\n",
       " [[11, 11, 11, 11, 11, 11, 11],\n",
       "  [11, 11, 11, 11, 11, 11, 8],\n",
       "  [11, 11, 11, 11, 11, 11, 11]])"
      ]
     },
     "execution_count": 105,
     "metadata": {},
     "output_type": "execute_result"
    }
   ],
   "source": [
    "loss = model(input_ids, tags, attention_mask)\n",
    "prediction = model.predict(input_ids, attention_mask)\n",
    "loss, prediction"
   ]
  },
  {
   "cell_type": "code",
   "execution_count": 91,
   "metadata": {},
   "outputs": [
    {
     "data": {
      "text/plain": [
       "tensor(22.2125, grad_fn=<MeanBackward0>)"
      ]
     },
     "execution_count": 91,
     "metadata": {},
     "output_type": "execute_result"
    }
   ],
   "source": [
    "loss.mean()"
   ]
  },
  {
   "cell_type": "code",
   "execution_count": 43,
   "metadata": {},
   "outputs": [
    {
     "data": {
      "text/plain": [
       "22.313861846923828"
      ]
     },
     "execution_count": 43,
     "metadata": {},
     "output_type": "execute_result"
    }
   ],
   "source": [
    "loss.item()"
   ]
  },
  {
   "cell_type": "code",
   "execution_count": 44,
   "metadata": {},
   "outputs": [
    {
     "data": {
      "text/plain": [
       "torch.Tensor"
      ]
     },
     "execution_count": 44,
     "metadata": {},
     "output_type": "execute_result"
    }
   ],
   "source": [
    "emissions = model.tag_outputs(input_ids, attention_mask)\n",
    "type(emissions)"
   ]
  },
  {
   "cell_type": "code",
   "execution_count": 89,
   "metadata": {},
   "outputs": [
    {
     "data": {
      "text/plain": [
       "torch.Size([5, 150])"
      ]
     },
     "execution_count": 89,
     "metadata": {},
     "output_type": "execute_result"
    }
   ],
   "source": [
    "import random\n",
    "\n",
    "el = [15, 15, 15, 15, 15, 9, 8]\n",
    "el = [random.randint(0, 21) for _ in range(150)]\n",
    "sample = [el, el, el, el, el]\n",
    "\n",
    "device = torch.device('cuda' if torch.cuda.is_available() else 'cpu')\n",
    "sample = list(map(lambda x: x + [0 for _ in range(128 - len(x))], sample))\n",
    "sample = torch.LongTensor(sample).to(device)\n",
    "sample = sample.view(-1, sample.shape[-1]) # shape(batchsize, length, ouputdim) --> shape(batchsize, length*outputdim)\n",
    "sample.shape"
   ]
  },
  {
   "cell_type": "code",
   "execution_count": null,
   "metadata": {},
   "outputs": [],
   "source": []
  },
  {
   "cell_type": "code",
   "execution_count": 80,
   "metadata": {},
   "outputs": [],
   "source": [
    "def categorical_accuracy(preds, y, tag_pad_idx):\n",
    "    \"\"\"\n",
    "    Returns accuracy per batch, i.e. if you get 8/10 right, this returns 0.8, NOT 8\n",
    "    \"\"\"\n",
    "    # max_preds = preds.argmax(dim = -1, keepdim = True) # get the index of the max probability\n",
    "    non_pad_elements = torch.nonzero((y != tag_pad_idx))\n",
    "    correct = preds[non_pad_elements].squeeze(1).eq(y[non_pad_elements])\n",
    "    return correct.sum() / torch.FloatTensor([y[non_pad_elements].shape[0]]).to(device)"
   ]
  },
  {
   "cell_type": "code",
   "execution_count": 82,
   "metadata": {},
   "outputs": [
    {
     "data": {
      "text/plain": [
       "tensor([7.5972], device='cuda:0')"
      ]
     },
     "execution_count": 82,
     "metadata": {},
     "output_type": "execute_result"
    }
   ],
   "source": [
    "categorical_accuracy(sample[0], sample[0], 0)"
   ]
  },
  {
   "cell_type": "code",
   "execution_count": 83,
   "metadata": {},
   "outputs": [],
   "source": [
    "y = sample[0]"
   ]
  },
  {
   "cell_type": "code",
   "execution_count": 84,
   "metadata": {},
   "outputs": [
    {
     "data": {
      "text/plain": [
       "tensor([144.])"
      ]
     },
     "execution_count": 84,
     "metadata": {},
     "output_type": "execute_result"
    }
   ],
   "source": [
    "tag_pad_idx = 0\n",
    "# non_pad_elements = (y != tag_pad_idx).nonzero()\n",
    "non_pad_elements = torch.nonzero((y != tag_pad_idx))\n",
    "non_pad_elements\n",
    "\n",
    "torch.FloatTensor([y[non_pad_elements].shape[0]])"
   ]
  },
  {
   "cell_type": "code",
   "execution_count": 88,
   "metadata": {},
   "outputs": [
    {
     "data": {
      "text/plain": [
       "tensor([18, 16,  9,  7,  6,  4,  9,  7, 19,  2, 18,  8, 12, 20,  5,  4, 13,  1,\n",
       "        12,  8,  9,  1, 14, 20, 19, 13,  3,  4,  1,  4,  6,  5, 19, 15, 20, 14,\n",
       "        20, 13,  7,  2, 10,  5,  8,  2, 10,  2,  6,  8, 12, 10, 11,  3, 20,  3,\n",
       "         9,  4, 13,  9,  9, 18, 21, 12, 13,  7,  2, 14,  9,  3, 20, 15, 13,  2,\n",
       "        17,  3, 17, 15, 11,  4,  6,  3, 16, 17,  1, 19, 20, 17, 12, 13, 20, 20,\n",
       "        14,  8,  5, 12, 19, 10, 12,  9,  9,  4,  5, 14, 20,  5, 14,  4,  7, 14,\n",
       "        13, 21,  4, 19,  2, 16,  9,  3,  5, 16, 16, 12, 18, 10, 15, 16, 21,  6,\n",
       "        12, 19,  8,  8,  7, 21,  2, 16, 12,  2,  5, 11, 18,  2,  5,  7,  6, 14],\n",
       "       device='cuda:0')"
      ]
     },
     "execution_count": 88,
     "metadata": {},
     "output_type": "execute_result"
    }
   ],
   "source": [
    "y[non_pad_elements].squeeze(1)"
   ]
  },
  {
   "cell_type": "code",
   "execution_count": 85,
   "metadata": {},
   "outputs": [
    {
     "data": {
      "text/plain": [
       "tensor([[ True, False, False,  ..., False, False, False],\n",
       "        [False,  True, False,  ..., False, False, False],\n",
       "        [False, False,  True,  ..., False, False, False],\n",
       "        ...,\n",
       "        [False, False, False,  ...,  True, False, False],\n",
       "        [False, False, False,  ..., False,  True, False],\n",
       "        [False, False, False,  ..., False, False,  True]], device='cuda:0')"
      ]
     },
     "execution_count": 85,
     "metadata": {},
     "output_type": "execute_result"
    }
   ],
   "source": [
    "y[non_pad_elements].squeeze(1).eq(y[non_pad_elements])"
   ]
  }
 ],
 "metadata": {
  "kernelspec": {
   "display_name": "Python 3.8.13 ('jeonghyeon')",
   "language": "python",
   "name": "python3"
  },
  "language_info": {
   "codemirror_mode": {
    "name": "ipython",
    "version": 3
   },
   "file_extension": ".py",
   "mimetype": "text/x-python",
   "name": "python",
   "nbconvert_exporter": "python",
   "pygments_lexer": "ipython3",
   "version": "3.8.13"
  },
  "orig_nbformat": 4,
  "vscode": {
   "interpreter": {
    "hash": "df12b971f0e4e081474c4ac44bd338416eac6f5401e1e938ba342788cee78ecd"
   }
  }
 },
 "nbformat": 4,
 "nbformat_minor": 2
}
