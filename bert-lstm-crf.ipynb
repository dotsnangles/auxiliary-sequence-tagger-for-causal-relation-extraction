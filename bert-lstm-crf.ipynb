{
 "cells": [
  {
   "cell_type": "code",
   "execution_count": 139,
   "metadata": {},
   "outputs": [],
   "source": [
    "import torch\n",
    "import torch.nn as nn\n",
    "from torchcrf import CRF\n",
    "from transformers import ElectraModel, ElectraTokenizer"
   ]
  },
  {
   "cell_type": "code",
   "execution_count": 140,
   "metadata": {},
   "outputs": [],
   "source": [
    "# class KobertBiLSTMCRF(nn.Module):\n",
    "#     \"\"\" koBERT with CRF \"\"\"\n",
    "#     def __init__(self, config, num_classes, vocab=None) -> None:\n",
    "#         super(KobertBiLSTMCRF, self).__init__()\n",
    "\n",
    "#         if vocab is None: # pretraining model 사용\n",
    "#             self.bert, self.vocab = get_pytorch_kobert_model()\n",
    "#         else: # finetuning model 사용           \n",
    "#             self.bert = BertModel(config=BertConfig.from_dict(bert_config))\n",
    "#             self.vocab = vocab\n",
    "#         self._pad_id = self.vocab.token_to_idx[self.vocab.padding_token]\n",
    "\n",
    "#         self.dropout = nn.Dropout(config.dropout)\n",
    "#         self.bilstm = nn.LSTM(config.hidden_size, (config.hidden_size) // 2, dropout=config.dropout, batch_first=True, bidirectional=True)\n",
    "#         self.position_wise_ff = nn.Linear(config.hidden_size, num_classes)\n",
    "#         self.crf = CRF(num_labels=num_classes)\n",
    "\n",
    "#     def forward(self, input_ids, token_type_ids=None, tags=None, using_pack_sequence=True):\n",
    "\n",
    "#         seq_length = input_ids.ne(self._pad_id).sum(dim=1)\n",
    "#         attention_mask = input_ids.ne(self._pad_id).float()\n",
    "#         outputs = self.bert(input_ids=input_ids, token_type_ids=token_type_ids, attention_mask=attention_mask)\n",
    "#         last_encoder_layer = outputs[0]\n",
    "#         last_encoder_layer = self.dropout(last_encoder_layer)\n",
    "#         if using_pack_sequence is True:\n",
    "#             pack_padded_last_encoder_layer = pack_padded_sequence(last_encoder_layer, seq_length, batch_first=True, enforce_sorted=False)\n",
    "#             outputs, hc = self.bilstm(pack_padded_last_encoder_layer)\n",
    "#             outputs = pad_packed_sequence(outputs, batch_first=True, padding_value=self._pad_id)[0]\n",
    "#         else:\n",
    "#             outputs, hc = self.bilstm(last_encoder_layer)\n",
    "#         emissions = self.position_wise_ff(outputs)\n",
    "\n",
    "#         if tags is not None: # crf training\n",
    "#             log_likelihood, sequence_of_tags = self.crf(emissions, tags), self.crf.decode(emissions)\n",
    "#             return log_likelihood, sequence_of_tags\n",
    "#         else: # tag inference\n",
    "#             sequence_of_tags = self.crf.decode(emissions)\n",
    "#             return sequence_of_tags"
   ]
  },
  {
   "cell_type": "code",
   "execution_count": 141,
   "metadata": {},
   "outputs": [],
   "source": [
    "class BERT_BiLSTM_CRF(nn.Module):\n",
    "\n",
    "    def __init__(self, bert, config, need_birnn=False, rnn_dim=128):\n",
    "        super(BERT_BiLSTM_CRF, self).__init__()\n",
    "        \n",
    "        self.num_tags = config.num_labels\n",
    "        self.bert = bert\n",
    "        self.dropout = nn.Dropout(config.hidden_dropout_prob)\n",
    "        out_dim = config.hidden_size\n",
    "        self.need_birnn = need_birnn\n",
    "\n",
    "        # if False, no use of BiLSTM\n",
    "        if need_birnn:\n",
    "            self.birnn = nn.LSTM(config.hidden_size, rnn_dim, num_layers=1, bidirectional=True, batch_first=True)\n",
    "            out_dim = rnn_dim*2\n",
    "        \n",
    "        self.hidden2tag = nn.Linear(out_dim, config.num_labels)\n",
    "        self.crf = CRF(config.num_labels, batch_first=True)\n",
    "    \n",
    "\n",
    "    def forward(self, input_ids, tags, input_mask=None):\n",
    "        emissions = self.tag_outputs(input_ids, input_mask)\n",
    "        loss = -1*self.crf(emissions, tags.long(), input_mask.byte())\n",
    "\n",
    "        return loss\n",
    "\n",
    "    def tag_outputs(self, input_ids, input_mask=None):\n",
    "\n",
    "        outputs = self.bert(input_ids, attention_mask=input_mask)\n",
    "\n",
    "        sequence_output = outputs[0]\n",
    "        \n",
    "        if self.need_birnn:\n",
    "            sequence_output, _ = self.birnn(sequence_output)\n",
    "\n",
    "        sequence_output = self.dropout(sequence_output)\n",
    "        emissions = self.hidden2tag(sequence_output)\n",
    "\n",
    "        return emissions\n",
    "    \n",
    "    def predict(self, input_ids, input_mask=None):\n",
    "        emissions = self.tag_outputs(input_ids, input_mask)\n",
    "        return self.crf.decode(emissions, input_mask.byte())"
   ]
  },
  {
   "cell_type": "code",
   "execution_count": 142,
   "metadata": {},
   "outputs": [
    {
     "name": "stderr",
     "output_type": "stream",
     "text": [
      "Some weights of the model checkpoint at monologg/koelectra-base-v3-discriminator were not used when initializing ElectraModel: ['discriminator_predictions.dense_prediction.weight', 'discriminator_predictions.dense_prediction.bias', 'discriminator_predictions.dense.bias', 'discriminator_predictions.dense.weight']\n",
      "- This IS expected if you are initializing ElectraModel from the checkpoint of a model trained on another task or with another architecture (e.g. initializing a BertForSequenceClassification model from a BertForPreTraining model).\n",
      "- This IS NOT expected if you are initializing ElectraModel from the checkpoint of a model that you expect to be exactly identical (initializing a BertForSequenceClassification model from a BertForSequenceClassification model).\n"
     ]
    },
    {
     "name": "stdout",
     "output_type": "stream",
     "text": [
      "22\n",
      "0.1\n",
      "768\n"
     ]
    }
   ],
   "source": [
    "ckpt = \"monologg/koelectra-base-v3-discriminator\"\n",
    "bert = ElectraModel.from_pretrained(ckpt, num_labels=22)\n",
    "tokenizer = ElectraTokenizer.from_pretrained('./tokenizer/')\n",
    "bert.resize_token_embeddings(len(tokenizer))\n",
    "config = bert.config\n",
    "print(config.num_labels)\n",
    "print(config.hidden_dropout_prob)\n",
    "print(config.hidden_size)"
   ]
  },
  {
   "cell_type": "code",
   "execution_count": 143,
   "metadata": {},
   "outputs": [],
   "source": [
    "model = BERT_BiLSTM_CRF(bert, config, need_birnn=True, rnn_dim=128)"
   ]
  },
  {
   "cell_type": "code",
   "execution_count": 144,
   "metadata": {},
   "outputs": [],
   "source": [
    "text = '야호!!!'\n",
    "input_ids, token_type_ids, attention_mask = dict(tokenizer(text, return_tensors='pt')).values()\n",
    "tags = torch.Tensor([[1, 5, 9, 5, 9, 5, 14]])\n",
    "\n",
    "emissions = model.tag_outputs(input_ids, attention_mask)\n",
    "loss = -1*model.crf(emissions, tags.long(), attention_mask.byte())"
   ]
  },
  {
   "cell_type": "code",
   "execution_count": 147,
   "metadata": {},
   "outputs": [],
   "source": [
    "loss = model.forward(input_ids, tags, attention_mask)"
   ]
  },
  {
   "cell_type": "code",
   "execution_count": 146,
   "metadata": {},
   "outputs": [
    {
     "data": {
      "text/plain": [
       "[[18, 10, 10, 10, 10, 10, 7]]"
      ]
     },
     "execution_count": 146,
     "metadata": {},
     "output_type": "execute_result"
    }
   ],
   "source": [
    "model.predict(input_ids, attention_mask)"
   ]
  }
 ],
 "metadata": {
  "kernelspec": {
   "display_name": "Python 3.8.13 ('jeonghyeon')",
   "language": "python",
   "name": "python3"
  },
  "language_info": {
   "codemirror_mode": {
    "name": "ipython",
    "version": 3
   },
   "file_extension": ".py",
   "mimetype": "text/x-python",
   "name": "python",
   "nbconvert_exporter": "python",
   "pygments_lexer": "ipython3",
   "version": "3.8.13"
  },
  "orig_nbformat": 4,
  "vscode": {
   "interpreter": {
    "hash": "df12b971f0e4e081474c4ac44bd338416eac6f5401e1e938ba342788cee78ecd"
   }
  }
 },
 "nbformat": 4,
 "nbformat_minor": 2
}
