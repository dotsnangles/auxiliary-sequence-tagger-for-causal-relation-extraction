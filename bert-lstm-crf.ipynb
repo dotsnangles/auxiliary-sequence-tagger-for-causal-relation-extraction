{
 "cells": [
  {
   "cell_type": "code",
   "execution_count": 1,
   "metadata": {},
   "outputs": [],
   "source": [
    "import torch.nn as nn\n",
    "from torchcrf import CRF\n",
    "from transformers import ElectraModel, ElectraTokenizer"
   ]
  },
  {
   "cell_type": "code",
   "execution_count": 36,
   "metadata": {},
   "outputs": [],
   "source": [
    "class BERT_BiLSTM_CRF(nn.Module):\n",
    "\n",
    "    def __init__(self, bert, config, need_birnn=False, rnn_dim=128):\n",
    "        super(BERT_BiLSTM_CRF, self).__init__()\n",
    "        \n",
    "        self.num_tags = config.num_labels\n",
    "        self.bert = bert\n",
    "        self.dropout = nn.Dropout(config.hidden_dropout_prob)\n",
    "        out_dim = config.hidden_size\n",
    "        self.need_birnn = need_birnn\n",
    "\n",
    "        # if False, no use of BiLSTM\n",
    "        if need_birnn:\n",
    "            self.birnn = nn.LSTM(config.hidden_size, rnn_dim, num_layers=1, bidirectional=True, batch_first=True)\n",
    "            out_dim = rnn_dim*2\n",
    "        \n",
    "        self.hidden2tag = nn.Linear(out_dim, config.num_labels)\n",
    "        self.crf = CRF(config.num_labels, batch_first=True)\n",
    "    \n",
    "\n",
    "    def forward(self, input_ids, tags, token_type_ids=None, input_mask=None):\n",
    "        emissions = self.tag_outputs(input_ids, token_type_ids, input_mask)\n",
    "        loss = -1*self.crf(emissions, tags, mask=input_mask)\n",
    "        # loss = -1*self.crf(emissions, tags, mask=input_mask.byte())\n",
    "\n",
    "        return loss\n",
    "\n",
    "    \n",
    "    def tag_outputs(self, input_ids, token_type_ids=None, input_mask=None):\n",
    "\n",
    "        outputs = self.bert(input_ids, token_type_ids=token_type_ids, attention_mask=input_mask)\n",
    "\n",
    "        sequence_output = outputs[0]\n",
    "        \n",
    "        if self.need_birnn:\n",
    "            sequence_output, _ = self.birnn(sequence_output)\n",
    "\n",
    "        sequence_output = self.dropout(sequence_output)\n",
    "        emissions = self.hidden2tag(sequence_output)\n",
    "\n",
    "        return emissions\n",
    "    \n",
    "    def predict(self, input_ids, token_type_ids=None, input_mask=None):\n",
    "        emissions = self.tag_outputs(input_ids, token_type_ids, input_mask)\n",
    "        return self.crf.decode(emissions, input_mask.byte())\n"
   ]
  },
  {
   "cell_type": "code",
   "execution_count": 37,
   "metadata": {},
   "outputs": [
    {
     "name": "stderr",
     "output_type": "stream",
     "text": [
      "Some weights of the model checkpoint at monologg/koelectra-base-v3-discriminator were not used when initializing ElectraModel: ['discriminator_predictions.dense_prediction.weight', 'discriminator_predictions.dense_prediction.bias', 'discriminator_predictions.dense.bias', 'discriminator_predictions.dense.weight']\n",
      "- This IS expected if you are initializing ElectraModel from the checkpoint of a model trained on another task or with another architecture (e.g. initializing a BertForSequenceClassification model from a BertForPreTraining model).\n",
      "- This IS NOT expected if you are initializing ElectraModel from the checkpoint of a model that you expect to be exactly identical (initializing a BertForSequenceClassification model from a BertForSequenceClassification model).\n"
     ]
    },
    {
     "name": "stdout",
     "output_type": "stream",
     "text": [
      "22\n",
      "0.1\n",
      "768\n"
     ]
    }
   ],
   "source": [
    "ckpt = \"monologg/koelectra-base-v3-discriminator\"\n",
    "bert = ElectraModel.from_pretrained(ckpt, num_labels=22)\n",
    "tokenizer = ElectraTokenizer.from_pretrained('./tokenizer/')\n",
    "bert.resize_token_embeddings(len(tokenizer))\n",
    "config = bert.config\n",
    "print(config.num_labels)\n",
    "print(config.hidden_dropout_prob)\n",
    "print(config.hidden_size)"
   ]
  },
  {
   "cell_type": "code",
   "execution_count": 38,
   "metadata": {},
   "outputs": [],
   "source": [
    "model = BERT_BiLSTM_CRF(bert, config, need_birnn=True, rnn_dim=128)"
   ]
  },
  {
   "cell_type": "code",
   "execution_count": 39,
   "metadata": {},
   "outputs": [],
   "source": [
    "text = '야호!!!'\n",
    "input_ids, token_type_ids, attention_mask = dict(tokenizer(text, return_tensors='pt')).values()"
   ]
  },
  {
   "cell_type": "code",
   "execution_count": 40,
   "metadata": {},
   "outputs": [
    {
     "data": {
      "text/plain": [
       "tensor([[   2, 3102, 4029,    5,    5,    5,    3]])"
      ]
     },
     "execution_count": 40,
     "metadata": {},
     "output_type": "execute_result"
    }
   ],
   "source": [
    "input_ids"
   ]
  },
  {
   "cell_type": "code",
   "execution_count": 41,
   "metadata": {},
   "outputs": [
    {
     "data": {
      "text/plain": [
       "tensor(21.7547, grad_fn=<MulBackward0>)"
      ]
     },
     "execution_count": 41,
     "metadata": {},
     "output_type": "execute_result"
    }
   ],
   "source": [
    "model.forward(input_ids, token_type_ids, attention_mask)"
   ]
  },
  {
   "cell_type": "code",
   "execution_count": 42,
   "metadata": {},
   "outputs": [
    {
     "data": {
      "text/plain": [
       "[[8, 8, 11, 8, 11, 8, 11]]"
      ]
     },
     "execution_count": 42,
     "metadata": {},
     "output_type": "execute_result"
    }
   ],
   "source": [
    "model.predict(input_ids, token_type_ids, attention_mask)"
   ]
  }
 ],
 "metadata": {
  "kernelspec": {
   "display_name": "Python 3.8.13 ('jeonghyeon')",
   "language": "python",
   "name": "python3"
  },
  "language_info": {
   "codemirror_mode": {
    "name": "ipython",
    "version": 3
   },
   "file_extension": ".py",
   "mimetype": "text/x-python",
   "name": "python",
   "nbconvert_exporter": "python",
   "pygments_lexer": "ipython3",
   "version": "3.8.13"
  },
  "orig_nbformat": 4,
  "vscode": {
   "interpreter": {
    "hash": "df12b971f0e4e081474c4ac44bd338416eac6f5401e1e938ba342788cee78ecd"
   }
  }
 },
 "nbformat": 4,
 "nbformat_minor": 2
}
