{
 "cells": [
  {
   "cell_type": "code",
   "execution_count": 1,
   "metadata": {},
   "outputs": [
    {
     "name": "stderr",
     "output_type": "stream",
     "text": [
      "/home/ubuntu/anaconda3/envs/jeonghyeon/lib/python3.10/site-packages/tqdm/auto.py:22: TqdmWarning: IProgress not found. Please update jupyter and ipywidgets. See https://ipywidgets.readthedocs.io/en/stable/user_install.html\n",
      "  from .autonotebook import tqdm as notebook_tqdm\n"
     ]
    }
   ],
   "source": [
    "import torch\n",
    "import torch.nn as nn\n",
    "import torch.optim as optim\n",
    "import torch.nn.functional as F\n",
    "\n",
    "from torch.utils.data import Dataset\n",
    "from torch.utils.data import DataLoader\n",
    "\n",
    "from torchmetrics.classification import MulticlassF1Score\n",
    "\n",
    "from transformers import ElectraModel, ElectraTokenizer\n",
    "\n",
    "from sklearn.model_selection import train_test_split\n",
    "\n",
    "import os\n",
    "import random\n",
    "import time\n",
    "import pandas as pd"
   ]
  },
  {
   "cell_type": "markdown",
   "metadata": {},
   "source": [
    "# Data Preparation"
   ]
  },
  {
   "cell_type": "markdown",
   "metadata": {},
   "source": [
    "## Loading"
   ]
  },
  {
   "cell_type": "code",
   "execution_count": 2,
   "metadata": {},
   "outputs": [
    {
     "name": "stdout",
     "output_type": "stream",
     "text": [
      "['./dataset/port_NER_v1.xlsx', './dataset/ulsan_2022_NER_v1.xlsx', './dataset/ulsan_2021-2019_NER_v1.xlsx', './dataset/eshc_NER_v1.xlsx']\n",
      "['./dataset/eshc_NER_v1.xlsx', './dataset/port_NER_v1.xlsx', './dataset/ulsan_2021-2019_NER_v1.xlsx', './dataset/ulsan_2022_NER_v1.xlsx']\n"
     ]
    }
   ],
   "source": [
    "file_list = os.listdir('./dataset')\n",
    "file_path = []\n",
    "for file_name in file_list:\n",
    "    tmp_path = os.path.join('./dataset', file_name)\n",
    "    file_path.append(tmp_path)\n",
    "print(file_path)\n",
    "file_path.sort()\n",
    "print(file_path)\n",
    "\n",
    "# './dataset/ulsan_2021-2019_NER_v1.xlsx' start_num 1\n",
    "# './dataset/port_NER_v1.xlsx' start_num 1\n",
    "# './dataset/eshc_NER_v1.xlsx' start_num 0\n",
    "# './dataset/port_NER_v1.xlsx' == './dataset/ulsan_2022_NER_v1.xlsx' (동일한 데이터 )\n"
   ]
  },
  {
   "cell_type": "code",
   "execution_count": 3,
   "metadata": {},
   "outputs": [],
   "source": [
    "load_df = lambda x: pd.read_excel(x, names=['src', 'tar'])\n",
    "dfs = [load_df(x) for x in file_path]\n",
    "df_4, df_2, df_1, df_3 = dfs\n",
    "df_1, df_2, df_3, df_4 = df_1.reset_index(), df_2.reset_index(), df_3.reset_index(), df_4.reset_index()\n",
    "\n",
    "# train = pd.read_excel(\"./ulsan_2021-2019_NER_v1.xlsx\", names=['src', 'tar'])\n",
    "# train = train.reset_index()\n",
    "# for i, row in train.iterrows():\n",
    "#     print(row['index'], row.src, row.tar)\n",
    "#     # print(row)\n",
    "\n",
    "# (df_2 == df_3).nunique()\n",
    "\n",
    "# df_1, df_2, df_4"
   ]
  },
  {
   "cell_type": "markdown",
   "metadata": {},
   "source": [
    "## Cleansing"
   ]
  },
  {
   "cell_type": "code",
   "execution_count": 4,
   "metadata": {},
   "outputs": [],
   "source": [
    "def preprocess(df):\n",
    "    df['src'] = df['src'].str.replace(\"．\", \".\", regex=False)\n",
    "    df['tar'] = df['tar'].str.replace(\"NUMB\", \"NUM_B\", regex=False)\n",
    "    df['tar'] = df['tar'].str.replace(\"TRM_b\", \"TRM_B\", regex=False)\n",
    "    df['tar'] = df['tar'].str.replace(\"WRK_b\", \"WRK_B\", regex=False)\n",
    "    df['tar'] = df['tar'].str.replace(\"NUM_b\", \"NUM_B\", regex=False)\n",
    "    df['tar'] = df['tar'].str.replace(\"AFW_B\", \"AWF_B\", regex=False)\n",
    "    df['tar'] = df['tar'].str.replace(\"ANM_b\", \"ANM_B\", regex=False)\n",
    "    df['tar'] = df['tar'].str.replace(\"NIM_B\", \"NUM_B\", regex=False)\n",
    "    df['tar'] = df['tar'].str.replace(\"LOC_b\", \"LOC_B\", regex=False)\n",
    "    df['tar'] = df['tar'].str.replace(\"AFW_b\", \"AFW_B\", regex=False)\n",
    "    # Fix Tags\n",
    "    df['tar'] = df['tar'].str.replace(r'^AF$', 'AFW_B', regex=True)\n",
    "    df['tar'] = df['tar'].str.replace(r'^WRK_$', 'WRK_I', regex=True)\n",
    "    df['tar'] = df['tar'].str.replace(r'^N$', 'NUM_I', regex=True)\n",
    "    df['tar'] = df['tar'].str.replace(r'^LOC_$', 'LOC_I', regex=True)\n",
    "    df['tar'] = df['tar'].str.replace('AFW _B', 'AFW_B', regex=False)\n",
    "    df['tar'] = df['tar'].str.replace('AWF_B', 'AFW_B', regex=False)\n",
    "    df['tar'] = df['tar'].str.replace('AFW)B', 'AFW_B', regex=False)\n",
    "    df['tar'] = df['tar'].str.replace('AFW0B', 'AFW_B', regex=False)\n",
    "    df['tar'] = df['tar'].str.replace('AFW)I', 'AFW_I', regex=False)\n",
    "    df['tar'] = df['tar'].str.replace('AFW_O', 'AFW_I', regex=False)\n",
    "    df['tar'] = df['tar'].str.replace('DAT+I', 'DAT_I', regex=False)\n",
    "    df['tar'] = df['tar'].str.replace('DAT0B', 'DAT_B', regex=False)\n",
    "    df['tar'] = df['tar'].str.replace('DAT_II', 'DAT_I', regex=False)\n",
    "    df['tar'] = df['tar'].str.replace(',MAT_B', 'MAT_B', regex=False)\n",
    "    df['tar'] = df['tar'].str.replace('MAT)B', 'MAT_B', regex=False)\n",
    "    df['tar'] = df['tar'].str.replace('MAT+I', 'MAT_I', regex=False)\n",
    "    df['tar'] = df['tar'].str.replace('TIOM_I', 'TIM_I', regex=False)\n",
    "    df['tar'] = df['tar'].str.replace('WRL_I', 'WRK_I', regex=False)\n",
    "    # Fix Tags\n",
    "    df['tar'] = df['tar'].str.replace(\"(삭제)\", \"-\", regex=False)\n",
    "    df['tar'] = df['tar'].str.replace(\"TIM_b\", \"TIM_B\", regex=False)\n",
    "    df = df.fillna(\"-\")\n",
    "    df['src'] = df['src'].astype(str)\n",
    "    df['tar'] = df['tar'].astype(str)\n",
    "    df['src'] = df['src'].str.replace(r'[^ㄱ-ㅣ가-힣0-9a-zA-Z.]+', \"\", regex=True)\n",
    "    return df"
   ]
  },
  {
   "cell_type": "code",
   "execution_count": 5,
   "metadata": {},
   "outputs": [],
   "source": [
    "df_1 = preprocess(df_1)\n",
    "df_2 = preprocess(df_2)\n",
    "df_4 = preprocess(df_4)"
   ]
  },
  {
   "cell_type": "code",
   "execution_count": 6,
   "metadata": {},
   "outputs": [],
   "source": [
    "# df_1[:50] # start_num 1\n",
    "# df_2[:50] # start_num 1\n",
    "# df_4[:50] # start_num 0"
   ]
  },
  {
   "cell_type": "code",
   "execution_count": 7,
   "metadata": {},
   "outputs": [],
   "source": [
    "# df_1.isnull().any(), df_2.isnull().any(), df_4.isnull().any() # not found"
   ]
  },
  {
   "cell_type": "markdown",
   "metadata": {},
   "source": [
    "## Reformat / Tokenization / Integrity Check"
   ]
  },
  {
   "cell_type": "code",
   "execution_count": 8,
   "metadata": {},
   "outputs": [],
   "source": [
    "train = pd.concat([df_1, df_2, df_4])"
   ]
  },
  {
   "cell_type": "code",
   "execution_count": 9,
   "metadata": {},
   "outputs": [
    {
     "name": "stdout",
     "output_type": "stream",
     "text": [
      "{'[PAD]': 0, '-': 1, 'AFW_B': 2, 'AFW_I': 3, 'ANM_B': 4, 'ANM_I': 5, 'CVL_B': 6, 'CVL_I': 7, 'DAT_B': 8, 'DAT_I': 9, 'LOC_B': 10, 'LOC_I': 11, 'MAT_B': 12, 'MAT_I': 13, 'NUM_B': 14, 'NUM_I': 15, 'TIM_B': 16, 'TIM_I': 17, 'TRM_B': 18, 'TRM_I': 19, 'WRK_B': 20, 'WRK_I': 21}\n",
      "\n",
      "{0: '[PAD]', 1: '-', 2: 'AFW_B', 3: 'AFW_I', 4: 'ANM_B', 5: 'ANM_I', 6: 'CVL_B', 7: 'CVL_I', 8: 'DAT_B', 9: 'DAT_I', 10: 'LOC_B', 11: 'LOC_I', 12: 'MAT_B', 13: 'MAT_I', 14: 'NUM_B', 15: 'NUM_I', 16: 'TIM_B', 17: 'TIM_I', 18: 'TRM_B', 19: 'TRM_I', 20: 'WRK_B', 21: 'WRK_I'}\n",
      "\n",
      "['[PAD]', '-', 'AFW_B', 'AFW_I', 'ANM_B', 'ANM_I', 'CVL_B', 'CVL_I', 'DAT_B', 'DAT_I', 'LOC_B', 'LOC_I', 'MAT_B', 'MAT_I', 'NUM_B', 'NUM_I', 'TIM_B', 'TIM_I', 'TRM_B', 'TRM_I', 'WRK_B', 'WRK_I']\n",
      "\n",
      "num_labels: 22\n"
     ]
    },
    {
     "data": {
      "text/plain": [
       "(None, None, None, None, None, None, None)"
      ]
     },
     "execution_count": 9,
     "metadata": {},
     "output_type": "execute_result"
    }
   ],
   "source": [
    "label = train['tar'].unique().tolist()\n",
    "label.sort()\n",
    "label = ['[PAD]'] +label\n",
    "label_dict = {word:i for i, word in enumerate(label)}\n",
    "# label_dict.update({\"[PAD]\":len(label_dict)})\n",
    "index_to_ner = {i:j for j, i in label_dict.items()}\n",
    "\n",
    "num_labels = len(label)\n",
    "\n",
    "print(label_dict), print(), print(index_to_ner), print(), print(label), print(), print(f'num_labels: {num_labels}')"
   ]
  },
  {
   "cell_type": "code",
   "execution_count": 10,
   "metadata": {},
   "outputs": [],
   "source": [
    "df_1_list = [list(x) for x in df_1[['index', 'src', 'tar']].to_numpy()] # start_num 1\n",
    "df_2_list = [list(x) for x in df_2[['index', 'src', 'tar']].to_numpy()] # start_num 1\n",
    "df_4_list = [list(x) for x in df_4[['index', 'src', 'tar']].to_numpy()] # start_num 0"
   ]
  },
  {
   "cell_type": "code",
   "execution_count": 11,
   "metadata": {},
   "outputs": [],
   "source": [
    "def makeTups(data, start_num):\n",
    "    tups = []\n",
    "    temp_tup = []\n",
    "    temp_tup.append(data[0][1:])\n",
    "    for i, j, k in data: # index src tgt\n",
    "        if i != start_num:\n",
    "            temp_tup.append([j,k])\n",
    "        if i == start_num:\n",
    "            if len(temp_tup) != 0:\n",
    "                tups.append(temp_tup)\n",
    "                temp_tup = []\n",
    "                temp_tup.append([j,k])\n",
    "\n",
    "    tups[0].pop(0)\n",
    "    return tups"
   ]
  },
  {
   "cell_type": "code",
   "execution_count": 12,
   "metadata": {},
   "outputs": [
    {
     "name": "stdout",
     "output_type": "stream",
     "text": [
      "2236 1299 1028\n"
     ]
    }
   ],
   "source": [
    "tups_1 = makeTups(df_1_list, 1)\n",
    "tups_2 = makeTups(df_2_list, 1)\n",
    "tups_4 = makeTups(df_4_list, 0)\n",
    "print(len(tups_1), len(tups_2), len(tups_4))"
   ]
  },
  {
   "cell_type": "code",
   "execution_count": 13,
   "metadata": {},
   "outputs": [
    {
     "name": "stdout",
     "output_type": "stream",
     "text": [
      "4563\n"
     ]
    }
   ],
   "source": [
    "tups = tups_1 + tups_2 + tups_4\n",
    "print(len(tups))"
   ]
  },
  {
   "cell_type": "markdown",
   "metadata": {},
   "source": [
    "### Check If Empty"
   ]
  },
  {
   "cell_type": "code",
   "execution_count": 14,
   "metadata": {},
   "outputs": [
    {
     "name": "stdout",
     "output_type": "stream",
     "text": [
      "16 empty elements\n"
     ]
    },
    {
     "data": {
      "text/plain": [
       "4547"
      ]
     },
     "execution_count": 14,
     "metadata": {},
     "output_type": "execute_result"
    }
   ],
   "source": [
    "# check and remove if there is any empty row\n",
    "\n",
    "empties = []\n",
    "for i, row in enumerate(tups):\n",
    "    if len(row) < 2 and row[0][0] == '':\n",
    "        # print(i, row)\n",
    "        empties.append(i)\n",
    "\n",
    "empties.sort(reverse=True)\n",
    "\n",
    "print(f'{len(empties)} empty elements')\n",
    "\n",
    "for idx in empties:\n",
    "    tups.pop(idx)\n",
    "\n",
    "for i, row in enumerate(tups):\n",
    "    if len(row) < 2 and row[0][0] == '':\n",
    "        print(i, row)\n",
    "\n",
    "len(tups)"
   ]
  },
  {
   "cell_type": "markdown",
   "metadata": {},
   "source": [
    "### Load Tokenizer and Check Special Tokens"
   ]
  },
  {
   "cell_type": "code",
   "execution_count": 15,
   "metadata": {},
   "outputs": [],
   "source": [
    "tokenizer = ElectraTokenizer.from_pretrained('./tokenizer/')"
   ]
  },
  {
   "cell_type": "code",
   "execution_count": 16,
   "metadata": {},
   "outputs": [
    {
     "data": {
      "text/plain": [
       "0"
      ]
     },
     "execution_count": 16,
     "metadata": {},
     "output_type": "execute_result"
    }
   ],
   "source": [
    "tokenizer.pad_token_id"
   ]
  },
  {
   "cell_type": "code",
   "execution_count": 17,
   "metadata": {},
   "outputs": [
    {
     "data": {
      "text/plain": [
       "('[CLS]', '[PAD]', '[UNK]', '[SEP]')"
      ]
     },
     "execution_count": 17,
     "metadata": {},
     "output_type": "execute_result"
    }
   ],
   "source": [
    "init_token = tokenizer.cls_token\n",
    "sep_token = tokenizer.sep_token\n",
    "pad_token = tokenizer.pad_token\n",
    "unk_token = tokenizer.unk_token\n",
    "init_token, pad_token, unk_token, sep_token"
   ]
  },
  {
   "cell_type": "code",
   "execution_count": 18,
   "metadata": {},
   "outputs": [],
   "source": [
    "sentences = []\n",
    "targets = []\n",
    "for tup in tups:\n",
    "    sentence = []\n",
    "    target = []\n",
    "    # sentence.append(init_token)\n",
    "    # target.append(label_dict['-'])\n",
    "    for i, j in tup:\n",
    "        sentence.append(i)\n",
    "        target.append(j)\n",
    "    # sentence.append(sep_token)\n",
    "    # target.append(label_dict['-'])\n",
    "    sentences.append(sentence)\n",
    "    targets.append(target)"
   ]
  },
  {
   "cell_type": "code",
   "execution_count": 19,
   "metadata": {},
   "outputs": [
    {
     "name": "stdout",
     "output_type": "stream",
     "text": [
      "random inddex k is 3478\n",
      "4547\n",
      "4547\n",
      "24\n",
      "24\n",
      "['2022년', '2월', '4일', '오후', '4시경', '용인의', '반도체', '장비', '제조업체에서', '작업자가', '기계에', '목부분이', '끼이는', '사고가', '발생하였다.', '이', '사고로', '작업자는', '의식', '불명인', '상태로', '병원으로', '이송이', '되었다.']\n",
      "['DAT_B', 'DAT_I', 'DAT_I', 'TIM_B', 'TIM_I', 'LOC_B', 'LOC_I', 'LOC_I', 'LOC_I', 'CVL_B', '-', 'ANM_B', '-', '-', '-', '-', '-', 'CVL_B', '-', '-', '-', 'LOC_B', '-', '-']\n"
     ]
    },
    {
     "data": {
      "text/plain": [
       "(None, None)"
      ]
     },
     "execution_count": 19,
     "metadata": {},
     "output_type": "execute_result"
    }
   ],
   "source": [
    "k = random.randrange(len(sentences))\n",
    "print(f'random inddex k is {k}')\n",
    "print(len(sentences)), print(len(targets))\n",
    "print(len(sentences[k])), print(len(targets[k]))\n",
    "print(sentences[k]), print(targets[k])"
   ]
  },
  {
   "cell_type": "code",
   "execution_count": 20,
   "metadata": {},
   "outputs": [],
   "source": [
    "for sent, tgt in zip(sentences, targets):\n",
    "    if len(sent) != len(tgt):\n",
    "        print(sent)\n",
    "        print(tgt)"
   ]
  },
  {
   "cell_type": "markdown",
   "metadata": {},
   "source": [
    "### Tokenization and Label Matching"
   ]
  },
  {
   "cell_type": "code",
   "execution_count": 21,
   "metadata": {},
   "outputs": [],
   "source": [
    "# tokenized_sentence_ = []\n",
    "# labels_ = []\n",
    "\n",
    "# word_ = '우리나라만세만세만세'\n",
    "# label_ = 'WRK_B'\n",
    "\n",
    "# tokenized_word_ = tokenizer.tokenize(word_)\n",
    "# n_subwords = len(tokenized_word_)\n",
    "\n",
    "# tokenized_sentence_.extend(tokenized_word_)\n",
    "# if label_[-1] == 'B':\n",
    "#     tail = list(label_)\n",
    "#     tail[-1] = 'I'\n",
    "#     tail = ''.join(tail)\n",
    "#     labels_.extend([label_] + [tail]*(n_subwords-1))\n",
    "# else:\n",
    "#     labels_.extend([label_] * n_subwords)\n",
    "\n",
    "# tokenized_sentence_, labels_"
   ]
  },
  {
   "cell_type": "code",
   "execution_count": 22,
   "metadata": {},
   "outputs": [],
   "source": [
    "def tokenize_and_preserve_labels(sentence, text_labels):\n",
    "    tokenized_sentence = []\n",
    "    labels = []\n",
    "    for word, label in zip(sentence, text_labels):\n",
    "        tokenized_word = tokenizer.tokenize(word)\n",
    "        n_subwords = len(tokenized_word)\n",
    "\n",
    "        tokenized_sentence.extend(tokenized_word)\n",
    "\n",
    "        if label[-1] == 'B' and n_subwords > 1:\n",
    "            tail = list(label)\n",
    "            tail[-1] = 'I'\n",
    "            tail = ''.join(tail)\n",
    "            labels.extend([label] + [tail]*(n_subwords-1))\n",
    "        else:\n",
    "            labels.extend([label] * n_subwords)\n",
    "\n",
    "    return tokenized_sentence, labels"
   ]
  },
  {
   "cell_type": "code",
   "execution_count": 23,
   "metadata": {},
   "outputs": [],
   "source": [
    "tokenized_texts_and_labels = [\n",
    "                              tokenize_and_preserve_labels(sent, labs)\n",
    "                              for sent, labs in zip(sentences, targets)]"
   ]
  },
  {
   "cell_type": "code",
   "execution_count": 24,
   "metadata": {},
   "outputs": [],
   "source": [
    "# # [(문장, 개체들), (문장, 개체들),...] 형식으로 저장되어 있음.\n",
    "# k = random.randrange(len(tokenized_texts_and_labels))\n",
    "# print(f'random inddex k is {k}')\n",
    "# print(len(tokenized_texts_and_labels)), print(len(tokenized_texts_and_labels))\n",
    "# print(len(tokenized_texts_and_labels[k][0])), print(len(tokenized_texts_and_labels[k][1]))\n",
    "# print(tokenized_texts_and_labels[k][0]), print(), print(tokenized_texts_and_labels[k][1])"
   ]
  },
  {
   "cell_type": "code",
   "execution_count": 25,
   "metadata": {},
   "outputs": [],
   "source": [
    "tokenized_texts = [token_label_pair[0] for token_label_pair in tokenized_texts_and_labels]\n",
    "labels = [token_label_pair[1] for token_label_pair in tokenized_texts_and_labels]"
   ]
  },
  {
   "cell_type": "code",
   "execution_count": 26,
   "metadata": {},
   "outputs": [],
   "source": [
    "# k = random.randrange(len(tokenized_texts))\n",
    "# print(f'random inddex k is {k}')\n",
    "# print(len(tokenized_texts)), print(len(labels))\n",
    "# print(len(tokenized_texts[k])), print(len(labels[k])), print()\n",
    "# print(tokenized_texts[k]), print(labels[k])\n",
    "# for tok, lab in zip(tokenized_texts[k], labels[k]):\n",
    "#     print(tok, '\\t',lab)"
   ]
  },
  {
   "cell_type": "code",
   "execution_count": 27,
   "metadata": {},
   "outputs": [
    {
     "name": "stdout",
     "output_type": "stream",
     "text": [
      "0\n"
     ]
    }
   ],
   "source": [
    "error_count = 0\n",
    "for txt, lab in zip(tokenized_texts, labels):\n",
    "    if len(txt) != len(lab):\n",
    "        # print(txt)\n",
    "        # print(lab)\n",
    "        error_count += 1\n",
    "print(error_count)"
   ]
  },
  {
   "cell_type": "code",
   "execution_count": 28,
   "metadata": {},
   "outputs": [
    {
     "data": {
      "text/plain": [
       "'the longest is 241'"
      ]
     },
     "execution_count": 28,
     "metadata": {},
     "output_type": "execute_result"
    }
   ],
   "source": [
    "lengths = []\n",
    "for tokens in tokenized_texts:\n",
    "    lengths.append(len(tokens))\n",
    "\n",
    "f'the longest is {max(lengths)}'"
   ]
  },
  {
   "cell_type": "code",
   "execution_count": 29,
   "metadata": {},
   "outputs": [],
   "source": [
    "tokenized_texts_list, labels_list = tokenized_texts, labels"
   ]
  },
  {
   "cell_type": "markdown",
   "metadata": {},
   "source": [
    "### Add Special Tokens and Pad Inputs"
   ]
  },
  {
   "cell_type": "code",
   "execution_count": 30,
   "metadata": {},
   "outputs": [
    {
     "name": "stdout",
     "output_type": "stream",
     "text": [
      "['[PAD]', '-', 'AFW_B', 'AFW_I', 'ANM_B', 'ANM_I', 'CVL_B', 'CVL_I', 'DAT_B', 'DAT_I', 'LOC_B', 'LOC_I', 'MAT_B', 'MAT_I', 'NUM_B', 'NUM_I', 'TIM_B', 'TIM_I', 'TRM_B', 'TRM_I', 'WRK_B', 'WRK_I']\n"
     ]
    }
   ],
   "source": [
    "# print(len(label_dict)), print(len(index_to_ner))\n",
    "# print(label_dict)\n",
    "# print(index_to_ner)\n",
    "print(label)"
   ]
  },
  {
   "cell_type": "code",
   "execution_count": 31,
   "metadata": {},
   "outputs": [],
   "source": [
    "def make_inputs(tokenized_texts_list, labels_list, max_length):\n",
    "    max_length = max_length\n",
    "    input_tokens = []\n",
    "    input_mask = []\n",
    "    input_labels = []\n",
    "    num = len(tokenized_texts_list)\n",
    "    for i in range(num):\n",
    "        data = tokenized_texts_list[i]\n",
    "        labels = labels_list[i]\n",
    "        tmp_tokens = [init_token] + data\n",
    "        tmp_labels = ['-'] + labels\n",
    "        if len(tmp_tokens) < max_length-1:\n",
    "            tmp_tokens += [sep_token]\n",
    "            tmp_labels += ['-']\n",
    "            tmp_mask = [1] * len(tmp_tokens)\n",
    "            for _ in range(max_length-len(tmp_tokens)):\n",
    "                tmp_tokens.append(pad_token)\n",
    "                tmp_labels.append('[PAD]')\n",
    "                tmp_mask.append(0)\n",
    "            input_tokens.append(tmp_tokens)\n",
    "            input_labels.append(tmp_labels)\n",
    "            input_mask.append(tmp_mask)\n",
    "        elif len(tmp_tokens) > max_length-1:\n",
    "            tmp_tokens = tmp_tokens[:max_length-1] + [sep_token]\n",
    "            tmp_labels = tmp_labels[:max_length-1] + ['-']\n",
    "            tmp_mask = [1] * max_length\n",
    "            input_tokens.append(tmp_tokens)\n",
    "            input_labels.append(tmp_labels)\n",
    "            input_mask.append(tmp_mask)\n",
    "        elif len(tmp_tokens) == max_length-1:\n",
    "            tmp_tokens += [sep_token]\n",
    "            tmp_labels += [label_dict['-']]\n",
    "            tmp_mask = [1] * max_length\n",
    "            input_tokens.append(tmp_tokens)\n",
    "            input_labels.append(tmp_labels)\n",
    "            input_mask.append(tmp_mask)\n",
    "\n",
    "    return input_tokens, input_mask, input_labels"
   ]
  },
  {
   "cell_type": "code",
   "execution_count": 32,
   "metadata": {},
   "outputs": [],
   "source": [
    "max_length = 256\n",
    "input_tokens, input_mask, input_labels = make_inputs(tokenized_texts, labels, max_length)"
   ]
  },
  {
   "cell_type": "code",
   "execution_count": 33,
   "metadata": {},
   "outputs": [
    {
     "name": "stdout",
     "output_type": "stream",
     "text": [
      "length of input_tokens: 4547\n",
      "length of input_labels: 4547\n",
      "length of input_mask: 4547\n",
      "random inddex k is 1327\n",
      "256\n",
      "256\n",
      "256\n",
      "\n",
      "['[CLS]', '2021', '##년', '3', '##월', '8', '##일', '오전', '9', '##시', '4', '0', '##분', '##경', '창원', '##의', '한', '사업장', '##에', '##서', '원자로', '설비', '부품', '100', '##토', '##을', '크레인', '을', '이용해', '트레일러', '##에', '싣', '##는', '작업', '을', '하', '##다가', '부품', '##에', '깔리', '##는', '사고', '##가', '발생', '##하', '##였', '##다', '.', '재해자', '인', '운전자', '는', '미끄럼', '방지', '나무', '깔', '##판', '##을', '이', '동', '시키', '##기', '위해', '상체', '##를', '부품', '##과', '트레일러', '사이', '##에', '넣', '##었', '##다가', '부품', '##이', '움직여', '협착', '된', '것', '##으로', '알려졌', '##다', '.', '병원', '##으로', '후송', '##되', '##었', '##으나', '결국', '사망', '##하', '##였', '##다', '.', '[SEP]', '[PAD]', '[PAD]', '[PAD]', '[PAD]', '[PAD]', '[PAD]', '[PAD]', '[PAD]', '[PAD]', '[PAD]', '[PAD]', '[PAD]', '[PAD]', '[PAD]', '[PAD]', '[PAD]', '[PAD]', '[PAD]', '[PAD]', '[PAD]', '[PAD]', '[PAD]', '[PAD]', '[PAD]', '[PAD]', '[PAD]', '[PAD]', '[PAD]', '[PAD]', '[PAD]', '[PAD]', '[PAD]', '[PAD]', '[PAD]', '[PAD]', '[PAD]', '[PAD]', '[PAD]', '[PAD]', '[PAD]', '[PAD]', '[PAD]', '[PAD]', '[PAD]', '[PAD]', '[PAD]', '[PAD]', '[PAD]', '[PAD]', '[PAD]', '[PAD]', '[PAD]', '[PAD]', '[PAD]', '[PAD]', '[PAD]', '[PAD]', '[PAD]', '[PAD]', '[PAD]', '[PAD]', '[PAD]', '[PAD]', '[PAD]', '[PAD]', '[PAD]', '[PAD]', '[PAD]', '[PAD]', '[PAD]', '[PAD]', '[PAD]', '[PAD]', '[PAD]', '[PAD]', '[PAD]', '[PAD]', '[PAD]', '[PAD]', '[PAD]', '[PAD]', '[PAD]', '[PAD]', '[PAD]', '[PAD]', '[PAD]', '[PAD]', '[PAD]', '[PAD]', '[PAD]', '[PAD]', '[PAD]', '[PAD]', '[PAD]', '[PAD]', '[PAD]', '[PAD]', '[PAD]', '[PAD]', '[PAD]', '[PAD]', '[PAD]', '[PAD]', '[PAD]', '[PAD]', '[PAD]', '[PAD]', '[PAD]', '[PAD]', '[PAD]', '[PAD]', '[PAD]', '[PAD]', '[PAD]', '[PAD]', '[PAD]', '[PAD]', '[PAD]', '[PAD]', '[PAD]', '[PAD]', '[PAD]', '[PAD]', '[PAD]', '[PAD]', '[PAD]', '[PAD]', '[PAD]', '[PAD]', '[PAD]', '[PAD]', '[PAD]', '[PAD]', '[PAD]', '[PAD]', '[PAD]', '[PAD]', '[PAD]', '[PAD]', '[PAD]', '[PAD]', '[PAD]', '[PAD]', '[PAD]', '[PAD]', '[PAD]', '[PAD]', '[PAD]', '[PAD]', '[PAD]', '[PAD]', '[PAD]', '[PAD]', '[PAD]', '[PAD]', '[PAD]', '[PAD]', '[PAD]', '[PAD]', '[PAD]']\n",
      "\n",
      "['-', 'DAT_B', 'DAT_I', 'DAT_I', 'DAT_I', 'DAT_I', 'DAT_I', 'TIM_B', 'TIM_I', 'TIM_I', 'TIM_I', 'TIM_I', 'TIM_I', 'TIM_I', 'LOC_B', 'LOC_I', 'LOC_I', 'LOC_I', 'LOC_I', 'LOC_I', 'AFW_B', '-', '-', '-', '-', '-', 'WRK_B', 'WRK_I', 'WRK_I', 'WRK_I', 'WRK_I', 'WRK_I', 'WRK_I', 'WRK_I', 'WRK_I', '-', '-', '-', '-', '-', '-', '-', '-', '-', '-', '-', '-', '-', 'CVL_B', 'CVL_I', 'CVL_B', 'CVL_I', '-', '-', '-', '-', '-', '-', '-', '-', '-', '-', '-', 'ANM_B', 'ANM_I', 'AFW_B', 'AFW_I', 'AFW_B', '-', '-', '-', '-', '-', 'AFW_B', 'AFW_I', '-', '-', '-', '-', '-', '-', '-', '-', '-', '-', '-', '-', '-', '-', '-', '-', '-', '-', '-', '-', '-', '[PAD]', '[PAD]', '[PAD]', '[PAD]', '[PAD]', '[PAD]', '[PAD]', '[PAD]', '[PAD]', '[PAD]', '[PAD]', '[PAD]', '[PAD]', '[PAD]', '[PAD]', '[PAD]', '[PAD]', '[PAD]', '[PAD]', '[PAD]', '[PAD]', '[PAD]', '[PAD]', '[PAD]', '[PAD]', '[PAD]', '[PAD]', '[PAD]', '[PAD]', '[PAD]', '[PAD]', '[PAD]', '[PAD]', '[PAD]', '[PAD]', '[PAD]', '[PAD]', '[PAD]', '[PAD]', '[PAD]', '[PAD]', '[PAD]', '[PAD]', '[PAD]', '[PAD]', '[PAD]', '[PAD]', '[PAD]', '[PAD]', '[PAD]', '[PAD]', '[PAD]', '[PAD]', '[PAD]', '[PAD]', '[PAD]', '[PAD]', '[PAD]', '[PAD]', '[PAD]', '[PAD]', '[PAD]', '[PAD]', '[PAD]', '[PAD]', '[PAD]', '[PAD]', '[PAD]', '[PAD]', '[PAD]', '[PAD]', '[PAD]', '[PAD]', '[PAD]', '[PAD]', '[PAD]', '[PAD]', '[PAD]', '[PAD]', '[PAD]', '[PAD]', '[PAD]', '[PAD]', '[PAD]', '[PAD]', '[PAD]', '[PAD]', '[PAD]', '[PAD]', '[PAD]', '[PAD]', '[PAD]', '[PAD]', '[PAD]', '[PAD]', '[PAD]', '[PAD]', '[PAD]', '[PAD]', '[PAD]', '[PAD]', '[PAD]', '[PAD]', '[PAD]', '[PAD]', '[PAD]', '[PAD]', '[PAD]', '[PAD]', '[PAD]', '[PAD]', '[PAD]', '[PAD]', '[PAD]', '[PAD]', '[PAD]', '[PAD]', '[PAD]', '[PAD]', '[PAD]', '[PAD]', '[PAD]', '[PAD]', '[PAD]', '[PAD]', '[PAD]', '[PAD]', '[PAD]', '[PAD]', '[PAD]', '[PAD]', '[PAD]', '[PAD]', '[PAD]', '[PAD]', '[PAD]', '[PAD]', '[PAD]', '[PAD]', '[PAD]', '[PAD]', '[PAD]', '[PAD]', '[PAD]', '[PAD]', '[PAD]', '[PAD]', '[PAD]', '[PAD]', '[PAD]', '[PAD]', '[PAD]', '[PAD]', '[PAD]', '[PAD]', '[PAD]', '[PAD]', '[PAD]', '[PAD]', '[PAD]']\n",
      "\n",
      "[1, 1, 1, 1, 1, 1, 1, 1, 1, 1, 1, 1, 1, 1, 1, 1, 1, 1, 1, 1, 1, 1, 1, 1, 1, 1, 1, 1, 1, 1, 1, 1, 1, 1, 1, 1, 1, 1, 1, 1, 1, 1, 1, 1, 1, 1, 1, 1, 1, 1, 1, 1, 1, 1, 1, 1, 1, 1, 1, 1, 1, 1, 1, 1, 1, 1, 1, 1, 1, 1, 1, 1, 1, 1, 1, 1, 1, 1, 1, 1, 1, 1, 1, 1, 1, 1, 1, 1, 1, 1, 1, 1, 1, 1, 1, 1, 0, 0, 0, 0, 0, 0, 0, 0, 0, 0, 0, 0, 0, 0, 0, 0, 0, 0, 0, 0, 0, 0, 0, 0, 0, 0, 0, 0, 0, 0, 0, 0, 0, 0, 0, 0, 0, 0, 0, 0, 0, 0, 0, 0, 0, 0, 0, 0, 0, 0, 0, 0, 0, 0, 0, 0, 0, 0, 0, 0, 0, 0, 0, 0, 0, 0, 0, 0, 0, 0, 0, 0, 0, 0, 0, 0, 0, 0, 0, 0, 0, 0, 0, 0, 0, 0, 0, 0, 0, 0, 0, 0, 0, 0, 0, 0, 0, 0, 0, 0, 0, 0, 0, 0, 0, 0, 0, 0, 0, 0, 0, 0, 0, 0, 0, 0, 0, 0, 0, 0, 0, 0, 0, 0, 0, 0, 0, 0, 0, 0, 0, 0, 0, 0, 0, 0, 0, 0, 0, 0, 0, 0, 0, 0, 0, 0, 0, 0, 0, 0, 0, 0, 0, 0, 0, 0, 0, 0, 0, 0]\n"
     ]
    },
    {
     "data": {
      "text/plain": [
       "(None, None, None, None, None, None)"
      ]
     },
     "execution_count": 33,
     "metadata": {},
     "output_type": "execute_result"
    }
   ],
   "source": [
    "print(f'length of input_tokens: {len(input_tokens)}')\n",
    "print(f'length of input_labels: {len(input_labels)}')\n",
    "print(f'length of input_mask: {len(input_mask)}')\n",
    "\n",
    "k = random.randrange(len(input_tokens))\n",
    "print(f'random inddex k is {k}')\n",
    "print(len(input_tokens[k])), print(len(input_labels[k])), print(len(input_mask[k]))\n",
    "print(), print(input_tokens[k]), print(), print(input_labels[k]), print(), print(input_mask[k])"
   ]
  },
  {
   "cell_type": "markdown",
   "metadata": {},
   "source": [
    "### Check Lengths"
   ]
  },
  {
   "cell_type": "code",
   "execution_count": 34,
   "metadata": {},
   "outputs": [
    {
     "name": "stdout",
     "output_type": "stream",
     "text": [
      "0\n"
     ]
    }
   ],
   "source": [
    "temp = 0\n",
    "num = len(input_tokens)\n",
    "for i in range(num):\n",
    "    curr_tokens = input_tokens[i]\n",
    "    curr_label = input_labels[i]\n",
    "    curr_mask = input_mask[i]\n",
    "    \n",
    "    count_tokens, count_label, count_mask = 0,0,0\n",
    "    for count, token in enumerate(curr_tokens):\n",
    "        if token == '[PAD]':\n",
    "            break\n",
    "    count_tokens = count\n",
    "    for count, label in enumerate(curr_label):\n",
    "        if label == '[PAD]':\n",
    "            break\n",
    "    count_label = count\n",
    "    for count, mask in enumerate(curr_mask):\n",
    "        if mask == 0:\n",
    "            break\n",
    "    count_mask = count\n",
    "    if not (count_tokens == count_label == count_mask):\n",
    "        # print(count_tokens, count_label, count_mask)\n",
    "        temp += 1\n",
    "print(temp)"
   ]
  },
  {
   "cell_type": "markdown",
   "metadata": {},
   "source": [
    "### Pair Inputs and Split to Ratio"
   ]
  },
  {
   "cell_type": "code",
   "execution_count": 35,
   "metadata": {},
   "outputs": [],
   "source": [
    "input_pair = []\n",
    "num = len(input_tokens)\n",
    "for i in range(num):\n",
    "    tmp_token_idx = input_tokens[i]\n",
    "    tmp_mask = input_mask[i]\n",
    "    tmp_label_idx = input_labels[i]\n",
    "    input_pair.append((tmp_token_idx, tmp_mask, tmp_label_idx))"
   ]
  },
  {
   "cell_type": "code",
   "execution_count": 36,
   "metadata": {},
   "outputs": [],
   "source": [
    "# k = random.randrange(len(input_tokens))\n",
    "# print(input_pair[k])"
   ]
  },
  {
   "cell_type": "markdown",
   "metadata": {},
   "source": [
    "데이터셋을 8:2 비율로 훈련 데이터셋과 검증 데이터셋으로 분할합니다. 데이터셋의 양이 적어 테스트셋은 생성하지 않았습니다."
   ]
  },
  {
   "cell_type": "code",
   "execution_count": 37,
   "metadata": {},
   "outputs": [],
   "source": [
    "train, valid = train_test_split(input_pair, test_size=0.2)"
   ]
  },
  {
   "cell_type": "code",
   "execution_count": 38,
   "metadata": {},
   "outputs": [
    {
     "name": "stdout",
     "output_type": "stream",
     "text": [
      "3637\n",
      "910\n"
     ]
    },
    {
     "data": {
      "text/plain": [
       "(None, None)"
      ]
     },
     "execution_count": 38,
     "metadata": {},
     "output_type": "execute_result"
    }
   ],
   "source": [
    "print(len(train)), print(len(valid))\n",
    "# print(train[0]), print(valid[0])"
   ]
  },
  {
   "cell_type": "code",
   "execution_count": 39,
   "metadata": {},
   "outputs": [],
   "source": [
    "# temp = []\n",
    "# for e in train[0][0]:\n",
    "#     encoded = tokenizer.convert_tokens_to_ids(str(e))\n",
    "#     temp.append(encoded)\n",
    "# print(temp)"
   ]
  },
  {
   "cell_type": "markdown",
   "metadata": {},
   "source": [
    "### Delcare Dataset (Iterator)"
   ]
  },
  {
   "cell_type": "markdown",
   "metadata": {},
   "source": [
    "pytorch에서 데이터를 받아들일 수 있도록 커스텀 데이터셋을 생성합니다. 이 때 문장을 구성하는 토큰들을 고유한 인덱스 번호로 변환합니다. 마찬가지로 레이블도 인덱스 번호로 변환합니다."
   ]
  },
  {
   "cell_type": "code",
   "execution_count": 40,
   "metadata": {},
   "outputs": [],
   "source": [
    "class CustomDataset(Dataset): \n",
    "    def __init__(self, data, tokenizer):\n",
    "        self.data = data\n",
    "        self.tokenizer = tokenizer\n",
    "    def __len__(self): \n",
    "        return len(self.data)\n",
    "\n",
    "    def __getitem__(self, idx):\n",
    "        tokens = self.data[idx][0]\n",
    "        masks = self.data[idx][1]\n",
    "        labels = self.data[idx][2]\n",
    "        token_ids = []\n",
    "        for token in tokens:\n",
    "            ids = tokenizer.convert_tokens_to_ids(str(token))\n",
    "            token_ids.append(ids)\n",
    "        label_ids = []\n",
    "        for label in labels:\n",
    "            label_ids.append(label_dict[label])\n",
    "                \n",
    "        return (torch.LongTensor(token_ids), torch.LongTensor(masks), torch.LongTensor(label_ids))"
   ]
  },
  {
   "cell_type": "code",
   "execution_count": 41,
   "metadata": {},
   "outputs": [],
   "source": [
    "trainset = CustomDataset(train, tokenizer)\n",
    "validset = CustomDataset(valid, tokenizer)"
   ]
  },
  {
   "cell_type": "markdown",
   "metadata": {},
   "source": [
    "배치 크기가 128인 데이터로더를 생성합니다."
   ]
  },
  {
   "cell_type": "code",
   "execution_count": 42,
   "metadata": {},
   "outputs": [],
   "source": [
    "train_loader = DataLoader(trainset, batch_size = 128, shuffle = True)\n",
    "valid_loader = DataLoader(validset, batch_size = 128, shuffle = True)"
   ]
  },
  {
   "cell_type": "code",
   "execution_count": 43,
   "metadata": {},
   "outputs": [
    {
     "name": "stdout",
     "output_type": "stream",
     "text": [
      "256\n",
      "256\n",
      "256\n"
     ]
    }
   ],
   "source": [
    "for i, el in enumerate(train_loader):\n",
    "    print(len(el[0][0]))\n",
    "    print(len(el[1][0]))\n",
    "    print(len(el[2][0]))\n",
    "    # print(el[0][0])\n",
    "    # print(el[1][0])\n",
    "    # print(el[2][0])\n",
    "    break"
   ]
  },
  {
   "cell_type": "markdown",
   "metadata": {},
   "source": [
    "# Create Model / Training / Evaluation / Inference"
   ]
  },
  {
   "cell_type": "markdown",
   "metadata": {},
   "source": [
    "모델을 생성합니다."
   ]
  },
  {
   "cell_type": "code",
   "execution_count": 44,
   "metadata": {},
   "outputs": [],
   "source": [
    "class BERTPoSTagger(nn.Module):\n",
    "    def __init__(self,\n",
    "                 bert,\n",
    "                 output_dim, \n",
    "                 dropout):\n",
    "        \n",
    "        super().__init__()\n",
    "        \n",
    "        self.bert = bert\n",
    "        \n",
    "        embedding_dim = bert.config.to_dict()['hidden_size']\n",
    "        \n",
    "        self.fc = nn.Linear(embedding_dim, output_dim)\n",
    "        \n",
    "        self.dropout = nn.Dropout(dropout)\n",
    "        \n",
    "    def forward(self, text, mask):\n",
    "        \n",
    "        #text = [batch size, sent len]\n",
    "        embedded = self.dropout(self.bert(text, mask)[0])\n",
    "        #embedded = [batch size, seq len, emb dim]\n",
    "        \n",
    "        predictions = self.fc(self.dropout(embedded))\n",
    "        \n",
    "        \n",
    "        return predictions"
   ]
  },
  {
   "cell_type": "code",
   "execution_count": 45,
   "metadata": {},
   "outputs": [
    {
     "name": "stderr",
     "output_type": "stream",
     "text": [
      "Some weights of the model checkpoint at monologg/koelectra-base-v3-discriminator were not used when initializing ElectraModel: ['discriminator_predictions.dense.bias', 'discriminator_predictions.dense.weight', 'discriminator_predictions.dense_prediction.weight', 'discriminator_predictions.dense_prediction.bias']\n",
      "- This IS expected if you are initializing ElectraModel from the checkpoint of a model trained on another task or with another architecture (e.g. initializing a BertForSequenceClassification model from a BertForPreTraining model).\n",
      "- This IS NOT expected if you are initializing ElectraModel from the checkpoint of a model that you expect to be exactly identical (initializing a BertForSequenceClassification model from a BertForSequenceClassification model).\n"
     ]
    },
    {
     "name": "stdout",
     "output_type": "stream",
     "text": [
      "36223\n"
     ]
    }
   ],
   "source": [
    "bert = ElectraModel.from_pretrained(\"monologg/koelectra-base-v3-discriminator\")\n",
    "print(len(tokenizer))"
   ]
  },
  {
   "cell_type": "code",
   "execution_count": 46,
   "metadata": {},
   "outputs": [
    {
     "data": {
      "text/plain": [
       "Embedding(36223, 768)"
      ]
     },
     "execution_count": 46,
     "metadata": {},
     "output_type": "execute_result"
    }
   ],
   "source": [
    "OUTPUT_DIM = num_labels\n",
    "DROPOUT = 0.25\n",
    "\n",
    "model = BERTPoSTagger(bert,\n",
    "                      OUTPUT_DIM, \n",
    "                      DROPOUT)\n",
    "model.bert.resize_token_embeddings(len(tokenizer))"
   ]
  },
  {
   "cell_type": "code",
   "execution_count": 47,
   "metadata": {},
   "outputs": [
    {
     "data": {
      "text/plain": [
       "768"
      ]
     },
     "execution_count": 47,
     "metadata": {},
     "output_type": "execute_result"
    }
   ],
   "source": [
    "model.bert.config.to_dict()['hidden_size']"
   ]
  },
  {
   "cell_type": "code",
   "execution_count": 48,
   "metadata": {},
   "outputs": [
    {
     "data": {
      "text/plain": [
       "torch.Size([1, 256, 768])"
      ]
     },
     "execution_count": 48,
     "metadata": {},
     "output_type": "execute_result"
    }
   ],
   "source": [
    "bert_result = model.bert(trainset[0][0].unsqueeze(0), trainset[0][1].unsqueeze(0))\n",
    "bert_result.last_hidden_state.shape"
   ]
  },
  {
   "cell_type": "code",
   "execution_count": 49,
   "metadata": {},
   "outputs": [
    {
     "data": {
      "text/plain": [
       "torch.Size([1, 256, 22])"
      ]
     },
     "execution_count": 49,
     "metadata": {},
     "output_type": "execute_result"
    }
   ],
   "source": [
    "tagger_result = model(trainset[0][0].unsqueeze(0), trainset[0][1].unsqueeze(0))\n",
    "tagger_result.shape"
   ]
  },
  {
   "cell_type": "markdown",
   "metadata": {},
   "source": [
    "모델을 학습시키기 위한 옵티마이저와 목적함수(cross entropy)를 호출합니다."
   ]
  },
  {
   "cell_type": "code",
   "execution_count": 50,
   "metadata": {},
   "outputs": [],
   "source": [
    "LEARNING_RATE = 5e-5\n",
    "\n",
    "optimizer = optim.Adam(model.parameters(), lr = LEARNING_RATE)"
   ]
  },
  {
   "cell_type": "code",
   "execution_count": 51,
   "metadata": {},
   "outputs": [],
   "source": [
    "criterion = nn.CrossEntropyLoss(ignore_index = 0)"
   ]
  },
  {
   "cell_type": "markdown",
   "metadata": {},
   "source": [
    "GPU 연산을 위해 cuda를 호출합니다. 이 때 복수의 연산장치(GPU)가 있을 경우 모든 연산장치를 활용하여 연산의 속도를 높이도록 설정합니다."
   ]
  },
  {
   "cell_type": "code",
   "execution_count": 52,
   "metadata": {},
   "outputs": [],
   "source": [
    "device = torch.device('cuda' if torch.cuda.is_available() else 'cpu')\n",
    "\n",
    "NGPU = torch.cuda.device_count()\n",
    "if NGPU > 1:\n",
    "    model = torch.nn.DataParallel(model, device_ids=list(range(NGPU)))\n",
    "    # torch.multiprocessing.set_start_method('spawn', force=True)\n",
    "model = model.to(device)\n",
    "criterion = criterion.to(device)"
   ]
  },
  {
   "cell_type": "markdown",
   "metadata": {},
   "source": [
    "정확도를 계산하기 위한 함수를 생성합니다."
   ]
  },
  {
   "cell_type": "code",
   "execution_count": 53,
   "metadata": {},
   "outputs": [],
   "source": [
    "def categorical_accuracy(preds, y, tag_pad_idx):\n",
    "    \"\"\"\n",
    "    Returns accuracy per batch, i.e. if you get 8/10 right, this returns 0.8, NOT 8\n",
    "    \"\"\"\n",
    "    max_preds = preds.argmax(dim = -1, keepdim = True) # get the index of the max probability\n",
    "    non_pad_elements = (y != tag_pad_idx).nonzero()\n",
    "    correct = max_preds[non_pad_elements].squeeze(1).eq(y[non_pad_elements])\n",
    "    return correct.sum() / torch.FloatTensor([y[non_pad_elements].shape[0]]).to(device)"
   ]
  },
  {
   "cell_type": "markdown",
   "metadata": {},
   "source": [
    "F1 Macro and F1 Micro"
   ]
  },
  {
   "cell_type": "code",
   "execution_count": 54,
   "metadata": {},
   "outputs": [],
   "source": [
    "f1_macro = MulticlassF1Score(num_classes=num_labels, average='macro', ignore_index=0).to(device)\n",
    "f1_micro = MulticlassF1Score(num_classes=num_labels, average='micro', ignore_index=0).to(device)"
   ]
  },
  {
   "cell_type": "markdown",
   "metadata": {},
   "source": [
    "모델을 훈련시키기 위한 함수입니다."
   ]
  },
  {
   "cell_type": "code",
   "execution_count": 55,
   "metadata": {},
   "outputs": [],
   "source": [
    "def train(model, iterator, optimizer, criterion, tag_pad_idx):\n",
    "    \n",
    "    epoch_loss = 0\n",
    "    epoch_acc = 0\n",
    "    \n",
    "    model.train()\n",
    "    \n",
    "    for batch in iterator:\n",
    "        \n",
    "        text = batch[0].to(device)\n",
    "        mask = batch[1].to(device)\n",
    "        tags = batch[2].to(device)\n",
    "\n",
    "        optimizer.zero_grad()\n",
    "        \n",
    "        #text = [sent len, batch size]\n",
    "        \n",
    "        # print(text)\n",
    "        # print()\n",
    "        # print(mask)\n",
    "        # print()\n",
    "        # print(tags)\n",
    "                \n",
    "        predictions = model(text, mask)\n",
    "\n",
    "        # print()\n",
    "        # print(predictions)\n",
    "        \n",
    "        #predictions = [sent len, batch size, output dim]\n",
    "        #tags = [sent len, batch size]\n",
    "        # torch.Size([32, 256, 40])\n",
    "        predictions = predictions.view(-1, predictions.shape[-1]) # shape(batchsize, length, ouputdim) --> shape(batchsize, length*outputdim)\n",
    "        # torch.Size([8192, 40])\n",
    "        tags = tags.view(-1)\n",
    "        \n",
    "        #predictions = [sent len * batch size, output dim]\n",
    "        #tags = [sent len * batch size]\n",
    "        \n",
    "        loss = criterion(predictions, tags)\n",
    "                \n",
    "        acc = categorical_accuracy(predictions, tags, tag_pad_idx)\n",
    "        \n",
    "        loss.backward()\n",
    "        \n",
    "        optimizer.step()\n",
    "        \n",
    "        epoch_loss += loss.item()\n",
    "        epoch_acc += acc.item()\n",
    "        \n",
    "    return epoch_loss / len(iterator), epoch_acc / len(iterator)"
   ]
  },
  {
   "cell_type": "markdown",
   "metadata": {},
   "source": [
    "모델의 성능을 평가하기 위한 함수입니다."
   ]
  },
  {
   "cell_type": "code",
   "execution_count": 56,
   "metadata": {},
   "outputs": [],
   "source": [
    "def evaluate(model, iterator, criterion, tag_pad_idx):\n",
    "    \n",
    "    epoch_loss = 0\n",
    "    epoch_acc = 0\n",
    "    epoch_f1_mac = 0\n",
    "    epoch_f1_mic = 0\n",
    "    \n",
    "    model.eval()\n",
    "    \n",
    "    with torch.no_grad():\n",
    "    \n",
    "        for batch in iterator:\n",
    "\n",
    "            text = batch[0].to(device)\n",
    "            mask = batch[1].to(device)\n",
    "            tags = batch[2].to(device)\n",
    "            \n",
    "            predictions = model(text, mask)\n",
    "            \n",
    "            predictions = predictions.view(-1, predictions.shape[-1])\n",
    "            tags = tags.view(-1)\n",
    "            \n",
    "            loss = criterion(predictions, tags)\n",
    "            \n",
    "            acc = categorical_accuracy(predictions, tags, tag_pad_idx)\n",
    "\n",
    "            f1_mac = f1_macro(predictions, tags)\n",
    "            f1_mic = f1_micro(predictions, tags)\n",
    "\n",
    "            epoch_loss += loss.item()\n",
    "            epoch_acc += acc.item()\n",
    "            epoch_f1_mac += f1_mac\n",
    "            epoch_f1_mic += f1_mic\n",
    "        \n",
    "    return epoch_loss / len(iterator), epoch_acc / len(iterator), epoch_f1_mac / len(iterator), epoch_f1_mic / len(iterator)"
   ]
  },
  {
   "cell_type": "markdown",
   "metadata": {},
   "source": [
    "에폭마다 걸리는 시간을 계산하기 위한 함수입니다."
   ]
  },
  {
   "cell_type": "code",
   "execution_count": 57,
   "metadata": {},
   "outputs": [],
   "source": [
    "def epoch_time(start_time, end_time):\n",
    "    elapsed_time = end_time - start_time\n",
    "    elapsed_mins = int(elapsed_time / 60)\n",
    "    elapsed_secs = int(elapsed_time - (elapsed_mins * 60))\n",
    "    return elapsed_mins, elapsed_secs"
   ]
  },
  {
   "cell_type": "markdown",
   "metadata": {},
   "source": [
    "실질적으로 모델을 학습시킵니다. 에폭마다 검증데이터셋에서 성능을 평가하여 검증데이터셋에서 가장 좋은 성능을 보여줬을 때의 모델의 weight를 저장합니다."
   ]
  },
  {
   "cell_type": "code",
   "execution_count": 58,
   "metadata": {},
   "outputs": [
    {
     "name": "stdout",
     "output_type": "stream",
     "text": [
      "Epoch: 01 | Epoch Time: 0m 59s\n",
      "\tTrain Loss: 1.968 | Train Acc: 50.09%\n",
      "\t Val. Loss: 1.203 |  Val. Acc: 69.46%\n",
      "\t Val. F1 Mac: 0.16 |  Val. F1 Mic: 0.69\n",
      "Epoch: 02 | Epoch Time: 0m 52s\n",
      "\tTrain Loss: 1.009 | Train Acc: 74.36%\n",
      "\t Val. Loss: 0.707 |  Val. Acc: 81.79%\n",
      "\t Val. F1 Mac: 0.47 |  Val. F1 Mic: 0.82\n",
      "Epoch: 03 | Epoch Time: 0m 53s\n",
      "\tTrain Loss: 0.672 | Train Acc: 82.84%\n",
      "\t Val. Loss: 0.541 |  Val. Acc: 85.06%\n",
      "\t Val. F1 Mac: 0.57 |  Val. F1 Mic: 0.85\n",
      "Epoch: 04 | Epoch Time: 0m 53s\n",
      "\tTrain Loss: 0.531 | Train Acc: 85.73%\n",
      "\t Val. Loss: 0.473 |  Val. Acc: 86.28%\n",
      "\t Val. F1 Mac: 0.61 |  Val. F1 Mic: 0.86\n",
      "Epoch: 05 | Epoch Time: 0m 53s\n",
      "\tTrain Loss: 0.452 | Train Acc: 87.24%\n",
      "\t Val. Loss: 0.465 |  Val. Acc: 85.62%\n",
      "\t Val. F1 Mac: 0.61 |  Val. F1 Mic: 0.86\n",
      "Epoch: 06 | Epoch Time: 0m 53s\n",
      "\tTrain Loss: 0.399 | Train Acc: 88.46%\n",
      "\t Val. Loss: 0.429 |  Val. Acc: 86.74%\n",
      "\t Val. F1 Mac: 0.66 |  Val. F1 Mic: 0.87\n",
      "Epoch: 07 | Epoch Time: 0m 53s\n",
      "\tTrain Loss: 0.376 | Train Acc: 89.18%\n",
      "\t Val. Loss: 0.462 |  Val. Acc: 87.02%\n",
      "\t Val. F1 Mac: 0.66 |  Val. F1 Mic: 0.87\n",
      "Epoch: 08 | Epoch Time: 0m 53s\n",
      "\tTrain Loss: 0.358 | Train Acc: 89.51%\n",
      "\t Val. Loss: 0.465 |  Val. Acc: 85.72%\n",
      "\t Val. F1 Mac: 0.65 |  Val. F1 Mic: 0.86\n",
      "Epoch: 09 | Epoch Time: 0m 53s\n",
      "\tTrain Loss: 0.323 | Train Acc: 90.21%\n",
      "\t Val. Loss: 0.419 |  Val. Acc: 87.27%\n",
      "\t Val. F1 Mac: 0.69 |  Val. F1 Mic: 0.87\n",
      "Epoch: 10 | Epoch Time: 0m 53s\n",
      "\tTrain Loss: 0.296 | Train Acc: 90.91%\n",
      "\t Val. Loss: 0.436 |  Val. Acc: 87.06%\n",
      "\t Val. F1 Mac: 0.68 |  Val. F1 Mic: 0.87\n",
      "Epoch: 11 | Epoch Time: 0m 53s\n",
      "\tTrain Loss: 0.275 | Train Acc: 91.48%\n",
      "\t Val. Loss: 0.438 |  Val. Acc: 87.03%\n",
      "\t Val. F1 Mac: 0.72 |  Val. F1 Mic: 0.87\n",
      "Epoch: 12 | Epoch Time: 0m 53s\n",
      "\tTrain Loss: 0.257 | Train Acc: 92.11%\n",
      "\t Val. Loss: 0.438 |  Val. Acc: 86.99%\n",
      "\t Val. F1 Mac: 0.71 |  Val. F1 Mic: 0.87\n",
      "Epoch: 13 | Epoch Time: 0m 53s\n",
      "\tTrain Loss: 0.238 | Train Acc: 92.68%\n",
      "\t Val. Loss: 0.416 |  Val. Acc: 87.90%\n",
      "\t Val. F1 Mac: 0.71 |  Val. F1 Mic: 0.88\n",
      "Epoch: 14 | Epoch Time: 0m 53s\n",
      "\tTrain Loss: 0.228 | Train Acc: 92.93%\n",
      "\t Val. Loss: 0.455 |  Val. Acc: 87.37%\n",
      "\t Val. F1 Mac: 0.72 |  Val. F1 Mic: 0.87\n",
      "Epoch: 15 | Epoch Time: 0m 53s\n",
      "\tTrain Loss: 0.214 | Train Acc: 93.35%\n",
      "\t Val. Loss: 0.450 |  Val. Acc: 87.19%\n",
      "\t Val. F1 Mac: 0.71 |  Val. F1 Mic: 0.87\n"
     ]
    }
   ],
   "source": [
    "N_EPOCHS = 15\n",
    "\n",
    "best_valid_loss = float('inf')\n",
    "\n",
    "for epoch in range(N_EPOCHS):\n",
    "\n",
    "    start_time = time.time()\n",
    "    \n",
    "    train_loss, train_acc = train(model, train_loader, optimizer, criterion, 0)\n",
    "    valid_loss, valid_acc, f1_mac, f1_mic = evaluate(model, valid_loader, criterion, 0)\n",
    "    \n",
    "    end_time = time.time()\n",
    "\n",
    "    epoch_mins, epoch_secs = epoch_time(start_time, end_time)\n",
    "    \n",
    "    if valid_loss < best_valid_loss:\n",
    "        best_valid_loss = valid_loss\n",
    "        torch.save(model.state_dict(), 'tut2-model.pt')\n",
    "    \n",
    "    print(f'Epoch: {epoch+1:02} | Epoch Time: {epoch_mins}m {epoch_secs}s')\n",
    "    print(f'\\tTrain Loss: {train_loss:.3f} | Train Acc: {train_acc*100:.2f}%')\n",
    "    print(f'\\t Val. Loss: {valid_loss:.3f} |  Val. Acc: {valid_acc*100:.2f}%')\n",
    "    print(f'\\t Val. F1 Mac: {f1_mac:.2f} |  Val. F1 Mic: {f1_mic:.2f}')"
   ]
  },
  {
   "cell_type": "markdown",
   "metadata": {},
   "source": [
    "학습된 모델을 이용하여 예시 문장으로 inference 합니다."
   ]
  },
  {
   "cell_type": "code",
   "execution_count": 59,
   "metadata": {},
   "outputs": [
    {
     "name": "stdout",
     "output_type": "stream",
     "text": [
      "2013 DAT_B\n",
      "##년 DAT_I\n",
      "11 DAT_I\n",
      "##월 DAT_I\n",
      "18 DAT_I\n",
      "##일 DAT_I\n",
      "인천 LOC_B\n",
      "항 LOC_I\n",
      "4 LOC_I\n",
      "부두 LOC_I\n",
      "에서 LOC_I\n",
      "컨테이너 WRK_B\n",
      "작업 WRK_I\n",
      "중 WRK_I\n",
      "핸들러 AFW_B\n",
      "집게 AFW_I\n",
      "##가 AFW_I\n",
      "풀리 -\n",
      "##면 -\n",
      "##서 -\n",
      "피해자 CVL_B\n",
      "끼 -\n",
      "##임 -\n",
      ". -\n",
      "허리 ANM_B\n",
      "##에 ANM_I\n",
      "경상 -\n",
      "##을 -\n",
      "입 -\n",
      "##음 -\n"
     ]
    }
   ],
   "source": [
    "model.load_state_dict(torch.load(\"tut2-model.pt\"))\n",
    "model.eval()\n",
    "with torch.no_grad():\n",
    "    sample = '2013년 11월 18일 인천항 4부두에서 컨테이너 작업 중 핸들러 집게가 풀리면서 피해자 끼임. 허리에 경상을 입음'\n",
    "    words = tokenizer.tokenize(sample)\n",
    "    tokens = tokenizer(sample)[\"input_ids\"]\n",
    "    mask = tokenizer(sample)['attention_mask']\n",
    "    tensor = torch.LongTensor(tokens).unsqueeze(0).to(device)\n",
    "    tensor_mask = torch.LongTensor(mask).unsqueeze(0).to(device)\n",
    "    logit = model(tensor, tensor_mask)\n",
    "    pred = torch.argmax(logit, dim=-1).squeeze().detach().cpu().tolist()\n",
    "    for i in range(len(words)):\n",
    "        print(words[i], index_to_ner[pred[i+1]])"
   ]
  },
  {
   "cell_type": "markdown",
   "metadata": {},
   "source": [
    "검증 데이터셋에서 5%의 데이터를 임의로 추출하여 inference 한 다음 그 결과를 csv파일로 저장합니다."
   ]
  },
  {
   "cell_type": "code",
   "execution_count": null,
   "metadata": {},
   "outputs": [
    {
     "name": "stdout",
     "output_type": "stream",
     "text": [
      "38\n"
     ]
    }
   ],
   "source": [
    "import random\n",
    "import numpy as np\n",
    "\n",
    "num = len(valid)\n",
    "random_choice = np.random.choice(num, int(num*0.05), replace=False).tolist()\n",
    "selected_sample = []\n",
    "\n",
    "for i in random_choice:\n",
    "    selected_sample.append(valid[i])\n",
    "    \n",
    "print(len(selected_sample))"
   ]
  },
  {
   "cell_type": "code",
   "execution_count": null,
   "metadata": {},
   "outputs": [],
   "source": [
    "model.eval()\n",
    "with torch.no_grad():\n",
    "    sample_results = []\n",
    "    for idx, _ in enumerate(selected_sample):\n",
    "        item = selected_sample[idx]\n",
    "        token_ids = list(map(lambda x:tokenizer.convert_tokens_to_ids(x), item[0]))\n",
    "        input_tensor = torch.LongTensor(token_ids).unsqueeze(0).to(device)\n",
    "        mask_tensor = torch.LongTensor(item[1]).unsqueeze(0).to(device)\n",
    "        output = model(input_tensor, mask_tensor)\n",
    "        pred = torch.argmax(output, dim=-1).squeeze().detach().cpu().tolist()\n",
    "        sample_results.append(pred)"
   ]
  },
  {
   "cell_type": "code",
   "execution_count": null,
   "metadata": {},
   "outputs": [],
   "source": [
    "f = open('sample_result.csv', 'w', encoding='utf-8-sig')\n",
    "idx_to_label = {0:\"pad\", 1:\"O\", 2:\"C\", 3:\"CE\", 4:\"E\"}\n",
    "for idx, item in enumerate(selected_sample):\n",
    "    all_tokens = item[0]\n",
    "    if '[PAD]' not in all_tokens:\n",
    "        continue\n",
    "    pad_loc = all_tokens.index('[PAD]')\n",
    "    tokens = all_tokens[:pad_loc][1:-1]\n",
    "    labels = item[-1][:pad_loc][1:-1]\n",
    "    predicts = sample_results[idx][:pad_loc][1:-1]\n",
    "    length = len(tokens)\n",
    "    for i in range(length):\n",
    "        token = tokens[i]\n",
    "        label = labels[i]\n",
    "        predict = idx_to_label[predicts[i]]\n",
    "        f.write(token+','+label+','+predict+'\\n')\n",
    "    f.write('\\n')\n",
    "f.close()"
   ]
  },
  {
   "cell_type": "code",
   "execution_count": null,
   "metadata": {},
   "outputs": [
    {
     "ename": "FileNotFoundError",
     "evalue": "[Errno 2] No such file or directory: './8-9_cause_effec.csv'",
     "output_type": "error",
     "traceback": [
      "\u001b[0;31m---------------------------------------------------------------------------\u001b[0m\n",
      "\u001b[0;31mFileNotFoundError\u001b[0m                         Traceback (most recent call last)\n",
      "\u001b[1;32m/home/ubuntu/jongmin/Port/v4.ipynb Cell 45\u001b[0m in \u001b[0;36m<cell line: 1>\u001b[0;34m()\u001b[0m\n",
      "\u001b[0;32m----> <a href='vscode-notebook-cell://ssh-remote%2B7b22686f73744e616d65223a224149227d/home/ubuntu/jongmin/Port/v4.ipynb#X62sdnNjb2RlLXJlbW90ZQ%3D%3D?line=0'>1</a>\u001b[0m df \u001b[39m=\u001b[39m pd\u001b[39m.\u001b[39;49mread_csv(\u001b[39m'\u001b[39;49m\u001b[39m./8-9_cause_effec.csv\u001b[39;49m\u001b[39m'\u001b[39;49m)\n",
      "\u001b[1;32m      <a href='vscode-notebook-cell://ssh-remote%2B7b22686f73744e616d65223a224149227d/home/ubuntu/jongmin/Port/v4.ipynb#X62sdnNjb2RlLXJlbW90ZQ%3D%3D?line=1'>2</a>\u001b[0m df\u001b[39m.\u001b[39mhead()\n",
      "\n",
      "File \u001b[0;32m~/anaconda3/envs/jongmin_shipping/lib/python3.10/site-packages/pandas/util/_decorators.py:311\u001b[0m, in \u001b[0;36mdeprecate_nonkeyword_arguments.<locals>.decorate.<locals>.wrapper\u001b[0;34m(*args, **kwargs)\u001b[0m\n",
      "\u001b[1;32m    305\u001b[0m \u001b[39mif\u001b[39;00m \u001b[39mlen\u001b[39m(args) \u001b[39m>\u001b[39m num_allow_args:\n",
      "\u001b[1;32m    306\u001b[0m     warnings\u001b[39m.\u001b[39mwarn(\n",
      "\u001b[1;32m    307\u001b[0m         msg\u001b[39m.\u001b[39mformat(arguments\u001b[39m=\u001b[39marguments),\n",
      "\u001b[1;32m    308\u001b[0m         \u001b[39mFutureWarning\u001b[39;00m,\n",
      "\u001b[1;32m    309\u001b[0m         stacklevel\u001b[39m=\u001b[39mstacklevel,\n",
      "\u001b[1;32m    310\u001b[0m     )\n",
      "\u001b[0;32m--> 311\u001b[0m \u001b[39mreturn\u001b[39;00m func(\u001b[39m*\u001b[39;49margs, \u001b[39m*\u001b[39;49m\u001b[39m*\u001b[39;49mkwargs)\n",
      "\n",
      "File \u001b[0;32m~/anaconda3/envs/jongmin_shipping/lib/python3.10/site-packages/pandas/io/parsers/readers.py:680\u001b[0m, in \u001b[0;36mread_csv\u001b[0;34m(filepath_or_buffer, sep, delimiter, header, names, index_col, usecols, squeeze, prefix, mangle_dupe_cols, dtype, engine, converters, true_values, false_values, skipinitialspace, skiprows, skipfooter, nrows, na_values, keep_default_na, na_filter, verbose, skip_blank_lines, parse_dates, infer_datetime_format, keep_date_col, date_parser, dayfirst, cache_dates, iterator, chunksize, compression, thousands, decimal, lineterminator, quotechar, quoting, doublequote, escapechar, comment, encoding, encoding_errors, dialect, error_bad_lines, warn_bad_lines, on_bad_lines, delim_whitespace, low_memory, memory_map, float_precision, storage_options)\u001b[0m\n",
      "\u001b[1;32m    665\u001b[0m kwds_defaults \u001b[39m=\u001b[39m _refine_defaults_read(\n",
      "\u001b[1;32m    666\u001b[0m     dialect,\n",
      "\u001b[1;32m    667\u001b[0m     delimiter,\n",
      "\u001b[0;32m   (...)\u001b[0m\n",
      "\u001b[1;32m    676\u001b[0m     defaults\u001b[39m=\u001b[39m{\u001b[39m\"\u001b[39m\u001b[39mdelimiter\u001b[39m\u001b[39m\"\u001b[39m: \u001b[39m\"\u001b[39m\u001b[39m,\u001b[39m\u001b[39m\"\u001b[39m},\n",
      "\u001b[1;32m    677\u001b[0m )\n",
      "\u001b[1;32m    678\u001b[0m kwds\u001b[39m.\u001b[39mupdate(kwds_defaults)\n",
      "\u001b[0;32m--> 680\u001b[0m \u001b[39mreturn\u001b[39;00m _read(filepath_or_buffer, kwds)\n",
      "\n",
      "File \u001b[0;32m~/anaconda3/envs/jongmin_shipping/lib/python3.10/site-packages/pandas/io/parsers/readers.py:575\u001b[0m, in \u001b[0;36m_read\u001b[0;34m(filepath_or_buffer, kwds)\u001b[0m\n",
      "\u001b[1;32m    572\u001b[0m _validate_names(kwds\u001b[39m.\u001b[39mget(\u001b[39m\"\u001b[39m\u001b[39mnames\u001b[39m\u001b[39m\"\u001b[39m, \u001b[39mNone\u001b[39;00m))\n",
      "\u001b[1;32m    574\u001b[0m \u001b[39m# Create the parser.\u001b[39;00m\n",
      "\u001b[0;32m--> 575\u001b[0m parser \u001b[39m=\u001b[39m TextFileReader(filepath_or_buffer, \u001b[39m*\u001b[39;49m\u001b[39m*\u001b[39;49mkwds)\n",
      "\u001b[1;32m    577\u001b[0m \u001b[39mif\u001b[39;00m chunksize \u001b[39mor\u001b[39;00m iterator:\n",
      "\u001b[1;32m    578\u001b[0m     \u001b[39mreturn\u001b[39;00m parser\n",
      "\n",
      "File \u001b[0;32m~/anaconda3/envs/jongmin_shipping/lib/python3.10/site-packages/pandas/io/parsers/readers.py:934\u001b[0m, in \u001b[0;36mTextFileReader.__init__\u001b[0;34m(self, f, engine, **kwds)\u001b[0m\n",
      "\u001b[1;32m    931\u001b[0m     \u001b[39mself\u001b[39m\u001b[39m.\u001b[39moptions[\u001b[39m\"\u001b[39m\u001b[39mhas_index_names\u001b[39m\u001b[39m\"\u001b[39m] \u001b[39m=\u001b[39m kwds[\u001b[39m\"\u001b[39m\u001b[39mhas_index_names\u001b[39m\u001b[39m\"\u001b[39m]\n",
      "\u001b[1;32m    933\u001b[0m \u001b[39mself\u001b[39m\u001b[39m.\u001b[39mhandles: IOHandles \u001b[39m|\u001b[39m \u001b[39mNone\u001b[39;00m \u001b[39m=\u001b[39m \u001b[39mNone\u001b[39;00m\n",
      "\u001b[0;32m--> 934\u001b[0m \u001b[39mself\u001b[39m\u001b[39m.\u001b[39m_engine \u001b[39m=\u001b[39m \u001b[39mself\u001b[39;49m\u001b[39m.\u001b[39;49m_make_engine(f, \u001b[39mself\u001b[39;49m\u001b[39m.\u001b[39;49mengine)\n",
      "\n",
      "File \u001b[0;32m~/anaconda3/envs/jongmin_shipping/lib/python3.10/site-packages/pandas/io/parsers/readers.py:1218\u001b[0m, in \u001b[0;36mTextFileReader._make_engine\u001b[0;34m(self, f, engine)\u001b[0m\n",
      "\u001b[1;32m   1214\u001b[0m     mode \u001b[39m=\u001b[39m \u001b[39m\"\u001b[39m\u001b[39mrb\u001b[39m\u001b[39m\"\u001b[39m\n",
      "\u001b[1;32m   1215\u001b[0m \u001b[39m# error: No overload variant of \"get_handle\" matches argument types\u001b[39;00m\n",
      "\u001b[1;32m   1216\u001b[0m \u001b[39m# \"Union[str, PathLike[str], ReadCsvBuffer[bytes], ReadCsvBuffer[str]]\"\u001b[39;00m\n",
      "\u001b[1;32m   1217\u001b[0m \u001b[39m# , \"str\", \"bool\", \"Any\", \"Any\", \"Any\", \"Any\", \"Any\"\u001b[39;00m\n",
      "\u001b[0;32m-> 1218\u001b[0m \u001b[39mself\u001b[39m\u001b[39m.\u001b[39mhandles \u001b[39m=\u001b[39m get_handle(  \u001b[39m# type: ignore[call-overload]\u001b[39;49;00m\n",
      "\u001b[1;32m   1219\u001b[0m     f,\n",
      "\u001b[1;32m   1220\u001b[0m     mode,\n",
      "\u001b[1;32m   1221\u001b[0m     encoding\u001b[39m=\u001b[39;49m\u001b[39mself\u001b[39;49m\u001b[39m.\u001b[39;49moptions\u001b[39m.\u001b[39;49mget(\u001b[39m\"\u001b[39;49m\u001b[39mencoding\u001b[39;49m\u001b[39m\"\u001b[39;49m, \u001b[39mNone\u001b[39;49;00m),\n",
      "\u001b[1;32m   1222\u001b[0m     compression\u001b[39m=\u001b[39;49m\u001b[39mself\u001b[39;49m\u001b[39m.\u001b[39;49moptions\u001b[39m.\u001b[39;49mget(\u001b[39m\"\u001b[39;49m\u001b[39mcompression\u001b[39;49m\u001b[39m\"\u001b[39;49m, \u001b[39mNone\u001b[39;49;00m),\n",
      "\u001b[1;32m   1223\u001b[0m     memory_map\u001b[39m=\u001b[39;49m\u001b[39mself\u001b[39;49m\u001b[39m.\u001b[39;49moptions\u001b[39m.\u001b[39;49mget(\u001b[39m\"\u001b[39;49m\u001b[39mmemory_map\u001b[39;49m\u001b[39m\"\u001b[39;49m, \u001b[39mFalse\u001b[39;49;00m),\n",
      "\u001b[1;32m   1224\u001b[0m     is_text\u001b[39m=\u001b[39;49mis_text,\n",
      "\u001b[1;32m   1225\u001b[0m     errors\u001b[39m=\u001b[39;49m\u001b[39mself\u001b[39;49m\u001b[39m.\u001b[39;49moptions\u001b[39m.\u001b[39;49mget(\u001b[39m\"\u001b[39;49m\u001b[39mencoding_errors\u001b[39;49m\u001b[39m\"\u001b[39;49m, \u001b[39m\"\u001b[39;49m\u001b[39mstrict\u001b[39;49m\u001b[39m\"\u001b[39;49m),\n",
      "\u001b[1;32m   1226\u001b[0m     storage_options\u001b[39m=\u001b[39;49m\u001b[39mself\u001b[39;49m\u001b[39m.\u001b[39;49moptions\u001b[39m.\u001b[39;49mget(\u001b[39m\"\u001b[39;49m\u001b[39mstorage_options\u001b[39;49m\u001b[39m\"\u001b[39;49m, \u001b[39mNone\u001b[39;49;00m),\n",
      "\u001b[1;32m   1227\u001b[0m )\n",
      "\u001b[1;32m   1228\u001b[0m \u001b[39massert\u001b[39;00m \u001b[39mself\u001b[39m\u001b[39m.\u001b[39mhandles \u001b[39mis\u001b[39;00m \u001b[39mnot\u001b[39;00m \u001b[39mNone\u001b[39;00m\n",
      "\u001b[1;32m   1229\u001b[0m f \u001b[39m=\u001b[39m \u001b[39mself\u001b[39m\u001b[39m.\u001b[39mhandles\u001b[39m.\u001b[39mhandle\n",
      "\n",
      "File \u001b[0;32m~/anaconda3/envs/jongmin_shipping/lib/python3.10/site-packages/pandas/io/common.py:786\u001b[0m, in \u001b[0;36mget_handle\u001b[0;34m(path_or_buf, mode, encoding, compression, memory_map, is_text, errors, storage_options)\u001b[0m\n",
      "\u001b[1;32m    781\u001b[0m \u001b[39melif\u001b[39;00m \u001b[39misinstance\u001b[39m(handle, \u001b[39mstr\u001b[39m):\n",
      "\u001b[1;32m    782\u001b[0m     \u001b[39m# Check whether the filename is to be opened in binary mode.\u001b[39;00m\n",
      "\u001b[1;32m    783\u001b[0m     \u001b[39m# Binary mode does not support 'encoding' and 'newline'.\u001b[39;00m\n",
      "\u001b[1;32m    784\u001b[0m     \u001b[39mif\u001b[39;00m ioargs\u001b[39m.\u001b[39mencoding \u001b[39mand\u001b[39;00m \u001b[39m\"\u001b[39m\u001b[39mb\u001b[39m\u001b[39m\"\u001b[39m \u001b[39mnot\u001b[39;00m \u001b[39min\u001b[39;00m ioargs\u001b[39m.\u001b[39mmode:\n",
      "\u001b[1;32m    785\u001b[0m         \u001b[39m# Encoding\u001b[39;00m\n",
      "\u001b[0;32m--> 786\u001b[0m         handle \u001b[39m=\u001b[39m \u001b[39mopen\u001b[39;49m(\n",
      "\u001b[1;32m    787\u001b[0m             handle,\n",
      "\u001b[1;32m    788\u001b[0m             ioargs\u001b[39m.\u001b[39;49mmode,\n",
      "\u001b[1;32m    789\u001b[0m             encoding\u001b[39m=\u001b[39;49mioargs\u001b[39m.\u001b[39;49mencoding,\n",
      "\u001b[1;32m    790\u001b[0m             errors\u001b[39m=\u001b[39;49merrors,\n",
      "\u001b[1;32m    791\u001b[0m             newline\u001b[39m=\u001b[39;49m\u001b[39m\"\u001b[39;49m\u001b[39m\"\u001b[39;49m,\n",
      "\u001b[1;32m    792\u001b[0m         )\n",
      "\u001b[1;32m    793\u001b[0m     \u001b[39melse\u001b[39;00m:\n",
      "\u001b[1;32m    794\u001b[0m         \u001b[39m# Binary mode\u001b[39;00m\n",
      "\u001b[1;32m    795\u001b[0m         handle \u001b[39m=\u001b[39m \u001b[39mopen\u001b[39m(handle, ioargs\u001b[39m.\u001b[39mmode)\n",
      "\n",
      "\u001b[0;31mFileNotFoundError\u001b[0m: [Errno 2] No such file or directory: './8-9_cause_effec.csv'"
     ]
    }
   ],
   "source": [
    "df = pd.read_csv('./8-9_cause_effec.csv')\n",
    "df.head()"
   ]
  },
  {
   "cell_type": "code",
   "execution_count": null,
   "metadata": {},
   "outputs": [],
   "source": [
    "num = len(df)\n",
    "idx_to_label = {0:\"pad\", 1:\"O\", 2:\"C\", 3:\"CE\", 4:\"E\"}\n",
    "result = []\n",
    "for i in range(num):\n",
    "    sentence = df.iloc[i,0]\n",
    "    tokenizer_result = tokenizer.encode_plus(sentence)\n",
    "    tokens = tokenizer.tokenize(sentence)\n",
    "    input_ids = tokenizer_result[\"input_ids\"]\n",
    "    mask = tokenizer_result[\"attention_mask\"]\n",
    "    input_tensor = torch.LongTensor(input_ids).unsqueeze(0).to(device)\n",
    "    mask_tensor = torch.LongTensor(mask).unsqueeze(0).to(device)\n",
    "    output = model(input_tensor, mask_tensor)\n",
    "    pred = torch.argmax(output, dim=-1).squeeze().detach().cpu().tolist()\n",
    "    pred_label = list(map(lambda x:idx_to_label[x], pred))\n",
    "    result.append([tokens, pred_label[1:-1]])\n",
    "    "
   ]
  },
  {
   "cell_type": "code",
   "execution_count": null,
   "metadata": {},
   "outputs": [],
   "source": [
    "f = open('./8-9_cause_effec_result.csv', 'w', encoding='utf-8-sig')\n",
    "for item in result:\n",
    "    length = len(item[0])\n",
    "    for i in range(length):\n",
    "        f.write(item[0][i]+','+item[1][i]+'\\n')\n",
    "    f.write('\\n')\n",
    "f.close()"
   ]
  },
  {
   "cell_type": "code",
   "execution_count": null,
   "metadata": {},
   "outputs": [],
   "source": []
  }
 ],
 "metadata": {
  "kernelspec": {
   "display_name": "Python 3.10.6 ('jeonghyeon')",
   "language": "python",
   "name": "python3"
  },
  "language_info": {
   "codemirror_mode": {
    "name": "ipython",
    "version": 3
   },
   "file_extension": ".py",
   "mimetype": "text/x-python",
   "name": "python",
   "nbconvert_exporter": "python",
   "pygments_lexer": "ipython3",
   "version": "3.10.6"
  },
  "orig_nbformat": 4,
  "vscode": {
   "interpreter": {
    "hash": "df12b971f0e4e081474c4ac44bd338416eac6f5401e1e938ba342788cee78ecd"
   }
  }
 },
 "nbformat": 4,
 "nbformat_minor": 2
}
