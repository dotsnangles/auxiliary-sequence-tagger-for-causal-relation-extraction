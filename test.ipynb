{
 "cells": [
  {
   "cell_type": "code",
   "execution_count": 3,
   "metadata": {},
   "outputs": [],
   "source": [
    "import pandas as pd\n",
    "import os"
   ]
  },
  {
   "cell_type": "code",
   "execution_count": 4,
   "metadata": {},
   "outputs": [
    {
     "data": {
      "text/html": [
       "<div>\n",
       "<style scoped>\n",
       "    .dataframe tbody tr th:only-of-type {\n",
       "        vertical-align: middle;\n",
       "    }\n",
       "\n",
       "    .dataframe tbody tr th {\n",
       "        vertical-align: top;\n",
       "    }\n",
       "\n",
       "    .dataframe thead th {\n",
       "        text-align: right;\n",
       "    }\n",
       "</style>\n",
       "<table border=\"1\" class=\"dataframe\">\n",
       "  <thead>\n",
       "    <tr style=\"text-align: right;\">\n",
       "      <th></th>\n",
       "      <th>Date</th>\n",
       "      <th>Time</th>\n",
       "      <th>Location</th>\n",
       "      <th>Work</th>\n",
       "      <th>Event</th>\n",
       "    </tr>\n",
       "  </thead>\n",
       "  <tbody>\n",
       "    <tr>\n",
       "      <th>0</th>\n",
       "      <td>2016년 5월 8일</td>\n",
       "      <td>12 : 55</td>\n",
       "      <td>울릉 도 도동항 ( [SEP] 선외 [SEP] 경북운항관리센터 울릉사무소 에 [SE...</td>\n",
       "      <td>계류색 조정 작업 [SEP] 선외 유출유 방제작업 을 [SEP] 방제작업 이 [SE...</td>\n",
       "      <td>묵호→울릉 항로를 운항하는 S호가 2016년 5월 8일 12:55 울릉도 도동항(N...</td>\n",
       "    </tr>\n",
       "  </tbody>\n",
       "</table>\n",
       "</div>"
      ],
      "text/plain": [
       "          Date     Time                                           Location  \\\n",
       "0  2016년 5월 8일  12 : 55  울릉 도 도동항 ( [SEP] 선외 [SEP] 경북운항관리센터 울릉사무소 에 [SE...   \n",
       "\n",
       "                                                Work  \\\n",
       "0  계류색 조정 작업 [SEP] 선외 유출유 방제작업 을 [SEP] 방제작업 이 [SE...   \n",
       "\n",
       "                                               Event  \n",
       "0  묵호→울릉 항로를 운항하는 S호가 2016년 5월 8일 12:55 울릉도 도동항(N...  "
      ]
     },
     "execution_count": 4,
     "metadata": {},
     "output_type": "execute_result"
    }
   ],
   "source": [
    "pd.read_csv('inference_results/묵호,울릉,운항_ner.csv')"
   ]
  },
  {
   "cell_type": "code",
   "execution_count": 65,
   "metadata": {},
   "outputs": [],
   "source": [
    "file_list = os.listdir('./inference_data')\n",
    "file_path = []\n",
    "for file_name in file_list:\n",
    "    tmp_path = os.path.join('./inference_data', file_name)\n",
    "    file_path.append(tmp_path)\n",
    "file_path.sort()\n",
    "\n",
    "load_df = lambda x: pd.read_csv(x)\n",
    "dfs = [load_df(x) for x in file_path]\n",
    "data = pd.concat(dfs).reset_index(drop=True)\n",
    "data.dropna(inplace=True)"
   ]
  },
  {
   "cell_type": "code",
   "execution_count": 66,
   "metadata": {},
   "outputs": [],
   "source": [
    "keyword = '묵호 울릉 운항'"
   ]
  },
  {
   "cell_type": "code",
   "execution_count": null,
   "metadata": {},
   "outputs": [],
   "source": []
  },
  {
   "cell_type": "code",
   "execution_count": 67,
   "metadata": {},
   "outputs": [],
   "source": [
    "keywords = keyword.split(' ')\n",
    "\n",
    "word_isins = []\n",
    "for word in keywords:\n",
    "    word_isin = data.Event.str.contains(word, case=False, regex=True).to_frame()\n",
    "    word_isins.append(word_isin)\n",
    "search_result = pd.concat(word_isins, axis=1)\n",
    "infer_data = data[search_result.all(axis=1)]"
   ]
  },
  {
   "cell_type": "code",
   "execution_count": 68,
   "metadata": {},
   "outputs": [
    {
     "data": {
      "text/plain": [
       "1"
      ]
     },
     "execution_count": 68,
     "metadata": {},
     "output_type": "execute_result"
    }
   ],
   "source": [
    "len(infer_data)"
   ]
  },
  {
   "cell_type": "code",
   "execution_count": null,
   "metadata": {},
   "outputs": [],
   "source": []
  },
  {
   "cell_type": "code",
   "execution_count": null,
   "metadata": {},
   "outputs": [],
   "source": [
    "sub_org = crawling_trg.split(query)[0].strip()\n",
    "search_sub_org = crawled_news_df.content.str.contains(sub_org, case=False, regex=True)\n",
    "search_query = crawled_news_df.content.str.contains(query, case=False, regex=True)\n",
    "crawled_news_df = crawled_news_df[search_sub_org & search_query].copy().reset_index(drop=True)"
   ]
  },
  {
   "cell_type": "code",
   "execution_count": 7,
   "metadata": {},
   "outputs": [
    {
     "data": {
      "text/html": [
       "<div>\n",
       "<style scoped>\n",
       "    .dataframe tbody tr th:only-of-type {\n",
       "        vertical-align: middle;\n",
       "    }\n",
       "\n",
       "    .dataframe tbody tr th {\n",
       "        vertical-align: top;\n",
       "    }\n",
       "\n",
       "    .dataframe thead th {\n",
       "        text-align: right;\n",
       "    }\n",
       "</style>\n",
       "<table border=\"1\" class=\"dataframe\">\n",
       "  <thead>\n",
       "    <tr style=\"text-align: right;\">\n",
       "      <th></th>\n",
       "      <th>Event</th>\n",
       "    </tr>\n",
       "  </thead>\n",
       "  <tbody>\n",
       "    <tr>\n",
       "      <th>0</th>\n",
       "      <td>2015년 3월 15일 20:35경 포항항 ○○부두에 수출용 파이프 선적을 위해 접...</td>\n",
       "    </tr>\n",
       "    <tr>\n",
       "      <th>1</th>\n",
       "      <td>2013년 2월 4일 11:30경 부산항 ○○부두에서 잡화 선적 작업을 수행하던 중...</td>\n",
       "    </tr>\n",
       "    <tr>\n",
       "      <th>2</th>\n",
       "      <td>2021. 6. 4.(금) 09:45분경, 인천 서구 소재 00부두 창고에서 25t...</td>\n",
       "    </tr>\n",
       "    <tr>\n",
       "      <th>3</th>\n",
       "      <td>2016년 7월 울산 염포부두에서 선박에 열연코일 하역작업을 하기 위해 선수 쪽 본...</td>\n",
       "    </tr>\n",
       "    <tr>\n",
       "      <th>4</th>\n",
       "      <td>2017년 2월 울산 염포부두에서 하역작업을 위해 육상 스프레더 와이어로프를 크레인...</td>\n",
       "    </tr>\n",
       "    <tr>\n",
       "      <th>...</th>\n",
       "      <td>...</td>\n",
       "    </tr>\n",
       "    <tr>\n",
       "      <th>166</th>\n",
       "      <td>2013년 12월 7일 00:30경 전남 여수시 여수항 D1 정박지에서 유조선 S호...</td>\n",
       "    </tr>\n",
       "    <tr>\n",
       "      <th>167</th>\n",
       "      <td>2015년 6월 3일 22:40경 케미컬운반선 L호가 울산 온산항에 접안하여 화물을...</td>\n",
       "    </tr>\n",
       "    <tr>\n",
       "      <th>168</th>\n",
       "      <td>묵호→울릉 항로를 운항하는 S호가 2016년 5월 8일 12:55 울릉도 도동항(N...</td>\n",
       "    </tr>\n",
       "    <tr>\n",
       "      <th>169</th>\n",
       "      <td>본선에서 발생한 슬러지를 육상으로 양륙하기 위해 육상 탱크로리에 호스를 연결하여 이...</td>\n",
       "    </tr>\n",
       "    <tr>\n",
       "      <th>170</th>\n",
       "      <td>부두에서 주기관 정비를 마친 후 출항 준비 중, 주기관의 윤활유 계통의 압력이 비정...</td>\n",
       "    </tr>\n",
       "  </tbody>\n",
       "</table>\n",
       "<p>171 rows × 1 columns</p>\n",
       "</div>"
      ],
      "text/plain": [
       "                                                 Event\n",
       "0    2015년 3월 15일 20:35경 포항항 ○○부두에 수출용 파이프 선적을 위해 접...\n",
       "1    2013년 2월 4일 11:30경 부산항 ○○부두에서 잡화 선적 작업을 수행하던 중...\n",
       "2    2021. 6. 4.(금) 09:45분경, 인천 서구 소재 00부두 창고에서 25t...\n",
       "3    2016년 7월 울산 염포부두에서 선박에 열연코일 하역작업을 하기 위해 선수 쪽 본...\n",
       "4    2017년 2월 울산 염포부두에서 하역작업을 위해 육상 스프레더 와이어로프를 크레인...\n",
       "..                                                 ...\n",
       "166  2013년 12월 7일 00:30경 전남 여수시 여수항 D1 정박지에서 유조선 S호...\n",
       "167  2015년 6월 3일 22:40경 케미컬운반선 L호가 울산 온산항에 접안하여 화물을...\n",
       "168  묵호→울릉 항로를 운항하는 S호가 2016년 5월 8일 12:55 울릉도 도동항(N...\n",
       "169  본선에서 발생한 슬러지를 육상으로 양륙하기 위해 육상 탱크로리에 호스를 연결하여 이...\n",
       "170  부두에서 주기관 정비를 마친 후 출항 준비 중, 주기관의 윤활유 계통의 압력이 비정...\n",
       "\n",
       "[171 rows x 1 columns]"
      ]
     },
     "execution_count": 7,
     "metadata": {},
     "output_type": "execute_result"
    }
   ],
   "source": [
    "data"
   ]
  },
  {
   "cell_type": "code",
   "execution_count": null,
   "metadata": {},
   "outputs": [],
   "source": []
  }
 ],
 "metadata": {
  "kernelspec": {
   "display_name": "Python 3.8.13 ('jeonghyeon')",
   "language": "python",
   "name": "python3"
  },
  "language_info": {
   "codemirror_mode": {
    "name": "ipython",
    "version": 3
   },
   "file_extension": ".py",
   "mimetype": "text/x-python",
   "name": "python",
   "nbconvert_exporter": "python",
   "pygments_lexer": "ipython3",
   "version": "3.8.13"
  },
  "orig_nbformat": 4,
  "vscode": {
   "interpreter": {
    "hash": "df12b971f0e4e081474c4ac44bd338416eac6f5401e1e938ba342788cee78ecd"
   }
  }
 },
 "nbformat": 4,
 "nbformat_minor": 2
}
