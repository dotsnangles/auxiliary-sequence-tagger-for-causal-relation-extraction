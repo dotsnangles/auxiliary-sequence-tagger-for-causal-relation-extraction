{
 "cells": [
  {
   "cell_type": "code",
   "execution_count": 1,
   "metadata": {},
   "outputs": [],
   "source": [
    "import torch\n",
    "import torch.nn as nn\n",
    "import torch.optim as optim\n",
    "import torch.nn.functional as F\n",
    "\n",
    "from torchcrf import CRF\n",
    "\n",
    "from torch.utils.data import Dataset\n",
    "from torch.utils.data import DataLoader\n",
    "from torch.nn.utils.rnn import pad_sequence\n",
    "\n",
    "from transformers import ElectraModel, ElectraTokenizer\n",
    "\n",
    "from sklearn.model_selection import train_test_split\n",
    "from sklearn.metrics import f1_score\n",
    "\n",
    "import os\n",
    "import random\n",
    "import time\n",
    "import pandas as pd"
   ]
  },
  {
   "cell_type": "markdown",
   "metadata": {},
   "source": [
    "# Data Preparation"
   ]
  },
  {
   "cell_type": "markdown",
   "metadata": {},
   "source": [
    "## Loading"
   ]
  },
  {
   "cell_type": "code",
   "execution_count": 2,
   "metadata": {},
   "outputs": [
    {
     "data": {
      "text/plain": [
       "(17688, 6819, 69241, 26984)"
      ]
     },
     "execution_count": 2,
     "metadata": {},
     "output_type": "execute_result"
    }
   ],
   "source": [
    "df_1 = pd.read_excel('dataset/eshc_NER_v2.xlsx').set_axis(['index', 'src', 'tar'], axis='columns')\n",
    "df_2 = pd.read_excel('dataset/port_NER_v2.xlsx').set_axis(['index', 'src', 'tar'], axis='columns')\n",
    "df_3 = pd.read_excel('dataset/ulsan_2021-2019_NER_v2.xlsx').set_axis(['index', 'src', 'tar'], axis='columns')\n",
    "df_4 = pd.read_excel('dataset/ulsan_2022_NER_v2.xlsx').set_axis(['index', 'src', 'tar'], axis='columns')\n",
    "len(df_1), len(df_2), len(df_3), len(df_4)"
   ]
  },
  {
   "cell_type": "code",
   "execution_count": 3,
   "metadata": {},
   "outputs": [],
   "source": [
    "### start_num\n",
    "\n",
    "# df_1[100:150] # 0\n",
    "# df_2[100:150] # 0\n",
    "# df_3[100:150] # 1\n",
    "# df_4[100:150] # 1"
   ]
  },
  {
   "cell_type": "markdown",
   "metadata": {},
   "source": [
    "## Cleansing"
   ]
  },
  {
   "cell_type": "code",
   "execution_count": 4,
   "metadata": {},
   "outputs": [],
   "source": [
    "def preprocess(df):\n",
    "    df = df.fillna(\"-\")\n",
    "    df['src'] = df['src'].astype(str)\n",
    "    df['src'] = df['src'].str.replace(\"．\", \".\", regex=False)\n",
    "    df['src'] = df['src'].str.replace(r'[^ㄱ-ㅣ가-힣0-9a-zA-Z.]+', \"\", regex=True)\n",
    "    df['tar'] = df['tar'].astype(str)\n",
    "    df['tar'] = df['tar'].str.replace(\"1\", \"-\", regex=False)\n",
    "    df['tar'] = df['tar'].str.replace(\"(삭제)\", \"-\", regex=False)\n",
    "    df['tar'] = df['tar'].str.replace(r'^AF$', 'AFW_B', regex=True)\n",
    "    df['tar'] = df['tar'].str.replace(\"AFW_B\", \"AWF_B\", regex=False)\n",
    "    df['tar'] = df['tar'].str.replace(\"AFW_b\", \"AFW_B\", regex=False)\n",
    "    df['tar'] = df['tar'].str.replace('AFW _B', 'AFW_B', regex=False)\n",
    "    df['tar'] = df['tar'].str.replace('AWF_B', 'AFW_B', regex=False)\n",
    "    df['tar'] = df['tar'].str.replace('AFW)B', 'AFW_B', regex=False)\n",
    "    df['tar'] = df['tar'].str.replace('AFW0B', 'AFW_B', regex=False)\n",
    "    df['tar'] = df['tar'].str.replace('AFW)I', 'AFW_I', regex=False)\n",
    "    df['tar'] = df['tar'].str.replace('AFW_O', 'AFW_I', regex=False)\n",
    "    df['tar'] = df['tar'].str.replace(\"ANW_B\", \"ANM_B\", regex=False)\n",
    "    df['tar'] = df['tar'].str.replace(\"ANM_b\", \"ANM_B\", regex=False)\n",
    "    df['tar'] = df['tar'].str.replace('DAT0B', 'DAT_B', regex=False)\n",
    "    df['tar'] = df['tar'].str.replace('DAT+I', 'DAT_I', regex=False)\n",
    "    df['tar'] = df['tar'].str.replace('DAT_II', 'DAT_I', regex=False)\n",
    "    df['tar'] = df['tar'].str.replace(\"LOC_b\", \"LOC_B\", regex=False)\n",
    "    df['tar'] = df['tar'].str.replace(r'^LOC_$', 'LOC_I', regex=True)\n",
    "    df['tar'] = df['tar'].str.replace(\"LOC_2\", \"LOC_I\", regex=False)\n",
    "    df['tar'] = df['tar'].str.replace(r'^C$', 'MAT_B', regex=True)\n",
    "    df['tar'] = df['tar'].str.replace(',MAT_B', 'MAT_B', regex=False)\n",
    "    df['tar'] = df['tar'].str.replace('MAT)B', 'MAT_B', regex=False)\n",
    "    df['tar'] = df['tar'].str.replace('MAT+I', 'MAT_I', regex=False)\n",
    "    df['tar'] = df['tar'].str.replace(\"NUMB\", \"NUM_B\", regex=False)\n",
    "    df['tar'] = df['tar'].str.replace(\"NUM_b\", \"NUM_B\", regex=False)\n",
    "    df['tar'] = df['tar'].str.replace(\"NIM_B\", \"NUM_B\", regex=False)\n",
    "    df['tar'] = df['tar'].str.replace(r'^N$', 'NUM_I', regex=True)\n",
    "    df['tar'] = df['tar'].str.replace(\"TRM_b\", \"TRM_B\", regex=False)\n",
    "    df['tar'] = df['tar'].str.replace(\"TIM_b\", \"TIM_B\", regex=False)\n",
    "    df['tar'] = df['tar'].str.replace('TIOM_I', 'TIM_I', regex=False)\n",
    "    df['tar'] = df['tar'].str.replace(\"WRK_b\", \"WRK_B\", regex=False)\n",
    "    df['tar'] = df['tar'].str.replace(\"WRK_L\", \"WRK_I\", regex=False)\n",
    "    df['tar'] = df['tar'].str.replace(r'^WRK_$', 'WRK_I', regex=True)\n",
    "    df['tar'] = df['tar'].str.replace('WRL_I', 'WRK_I', regex=False)\n",
    "    return df"
   ]
  },
  {
   "cell_type": "code",
   "execution_count": 5,
   "metadata": {},
   "outputs": [],
   "source": [
    "df_1 = preprocess(df_1)\n",
    "df_2 = preprocess(df_2)\n",
    "df_3 = preprocess(df_3)\n",
    "df_4 = preprocess(df_4)"
   ]
  },
  {
   "cell_type": "code",
   "execution_count": 6,
   "metadata": {},
   "outputs": [],
   "source": [
    "# df_1.isnull().any(), df_2.isnull().any(), df_3.isnull().any(), df_4.isnull().any() # not found"
   ]
  },
  {
   "cell_type": "markdown",
   "metadata": {},
   "source": [
    "## Reformat / Tokenization / Integrity Check"
   ]
  },
  {
   "cell_type": "code",
   "execution_count": 7,
   "metadata": {},
   "outputs": [],
   "source": [
    "train = pd.concat([df_1, df_2, df_3, df_4])"
   ]
  },
  {
   "cell_type": "code",
   "execution_count": 8,
   "metadata": {},
   "outputs": [
    {
     "name": "stdout",
     "output_type": "stream",
     "text": [
      "{'[PAD]': 0, '-': 1, 'AFW_B': 2, 'AFW_I': 3, 'ANM_B': 4, 'ANM_I': 5, 'CVL_B': 6, 'CVL_I': 7, 'DAT_B': 8, 'DAT_I': 9, 'LOC_B': 10, 'LOC_I': 11, 'MAT_B': 12, 'MAT_I': 13, 'NUM_B': 14, 'NUM_I': 15, 'TIM_B': 16, 'TIM_I': 17, 'TRM_B': 18, 'TRM_I': 19, 'WRK_B': 20, 'WRK_I': 21}\n",
      "\n",
      "{0: '[PAD]', 1: '-', 2: 'AFW_B', 3: 'AFW_I', 4: 'ANM_B', 5: 'ANM_I', 6: 'CVL_B', 7: 'CVL_I', 8: 'DAT_B', 9: 'DAT_I', 10: 'LOC_B', 11: 'LOC_I', 12: 'MAT_B', 13: 'MAT_I', 14: 'NUM_B', 15: 'NUM_I', 16: 'TIM_B', 17: 'TIM_I', 18: 'TRM_B', 19: 'TRM_I', 20: 'WRK_B', 21: 'WRK_I'}\n",
      "\n",
      "['[PAD]', '-', 'AFW_B', 'AFW_I', 'ANM_B', 'ANM_I', 'CVL_B', 'CVL_I', 'DAT_B', 'DAT_I', 'LOC_B', 'LOC_I', 'MAT_B', 'MAT_I', 'NUM_B', 'NUM_I', 'TIM_B', 'TIM_I', 'TRM_B', 'TRM_I', 'WRK_B', 'WRK_I']\n",
      "\n",
      "num_labels: 22\n"
     ]
    },
    {
     "data": {
      "text/plain": [
       "(None, None, None, None, None, None, None)"
      ]
     },
     "execution_count": 8,
     "metadata": {},
     "output_type": "execute_result"
    }
   ],
   "source": [
    "label = train['tar'].unique().tolist()\n",
    "label.sort()\n",
    "label = ['[PAD]'] +label\n",
    "label_dict = {word:i for i, word in enumerate(label)}\n",
    "# label_dict.update({\"[PAD]\":len(label_dict)})\n",
    "index_to_ner = {i:j for j, i in label_dict.items()}\n",
    "\n",
    "num_labels = len(label)\n",
    "\n",
    "print(label_dict), print(), print(index_to_ner), print(), print(label), print(), print(f'num_labels: {num_labels}')"
   ]
  },
  {
   "cell_type": "code",
   "execution_count": 9,
   "metadata": {},
   "outputs": [],
   "source": [
    "df_1_list = [list(x) for x in df_1[['index', 'src', 'tar']].to_numpy()]\n",
    "df_2_list = [list(x) for x in df_2[['index', 'src', 'tar']].to_numpy()]\n",
    "df_3_list = [list(x) for x in df_3[['index', 'src', 'tar']].to_numpy()]\n",
    "df_4_list = [list(x) for x in df_4[['index', 'src', 'tar']].to_numpy()]"
   ]
  },
  {
   "cell_type": "code",
   "execution_count": 10,
   "metadata": {},
   "outputs": [],
   "source": [
    "def makeTups(data, start_num):\n",
    "    tups = []\n",
    "    temp_tup = []\n",
    "    temp_tup.append(data[0][1:])\n",
    "    for i, j, k in data: # index src tgt\n",
    "        if i != start_num:\n",
    "            temp_tup.append([j,k])\n",
    "        if i == start_num:\n",
    "            if len(temp_tup) != 0:\n",
    "                tups.append(temp_tup)\n",
    "                temp_tup = []\n",
    "                temp_tup.append([j,k])\n",
    "\n",
    "    tups[0].pop(0)\n",
    "    return tups"
   ]
  },
  {
   "cell_type": "code",
   "execution_count": 11,
   "metadata": {},
   "outputs": [
    {
     "name": "stdout",
     "output_type": "stream",
     "text": [
      "1028 151 2236 1299\n"
     ]
    }
   ],
   "source": [
    "tups_1 = makeTups(df_1_list, 0) # start_num 0\n",
    "tups_2 = makeTups(df_2_list, 0) # start_num 0\n",
    "tups_3 = makeTups(df_3_list, 1) # start_num 1\n",
    "tups_4 = makeTups(df_4_list, 1) # start_num 1\n",
    "print(len(tups_1), len(tups_2), len(tups_3), len(tups_4))"
   ]
  },
  {
   "cell_type": "code",
   "execution_count": 12,
   "metadata": {},
   "outputs": [
    {
     "name": "stdout",
     "output_type": "stream",
     "text": [
      "number of samples: 4714\n"
     ]
    }
   ],
   "source": [
    "tups = tups_1 + tups_2 + tups_3 + tups_4\n",
    "print(f'number of samples: {len(tups)}')"
   ]
  },
  {
   "cell_type": "markdown",
   "metadata": {},
   "source": [
    "### Check If Empty"
   ]
  },
  {
   "cell_type": "code",
   "execution_count": 13,
   "metadata": {},
   "outputs": [
    {
     "name": "stdout",
     "output_type": "stream",
     "text": [
      "16 empty elements removed.\n",
      "number of samples: 4698\n"
     ]
    }
   ],
   "source": [
    "# check and remove if there is any empty row\n",
    "\n",
    "empties = []\n",
    "for i, row in enumerate(tups):\n",
    "    if len(row) < 2 and row[0][0] == '':\n",
    "        # print(i, row)\n",
    "        empties.append(i)\n",
    "\n",
    "empties.sort(reverse=True)\n",
    "\n",
    "print(f'{len(empties)} empty elements removed.')\n",
    "\n",
    "for idx in empties:\n",
    "    tups.pop(idx)\n",
    "\n",
    "for i, row in enumerate(tups):\n",
    "    if len(row) < 2 and row[0][0] == '':\n",
    "        print(i, row)\n",
    "\n",
    "print(f'number of samples: {len(tups)}')"
   ]
  },
  {
   "cell_type": "markdown",
   "metadata": {},
   "source": [
    "### Load Tokenizer and Check Special Tokens"
   ]
  },
  {
   "cell_type": "code",
   "execution_count": 14,
   "metadata": {},
   "outputs": [],
   "source": [
    "tokenizer = ElectraTokenizer.from_pretrained('./tokenizer/')"
   ]
  },
  {
   "cell_type": "code",
   "execution_count": 15,
   "metadata": {},
   "outputs": [
    {
     "data": {
      "text/plain": [
       "0"
      ]
     },
     "execution_count": 15,
     "metadata": {},
     "output_type": "execute_result"
    }
   ],
   "source": [
    "tokenizer.pad_token_id"
   ]
  },
  {
   "cell_type": "code",
   "execution_count": 16,
   "metadata": {},
   "outputs": [
    {
     "data": {
      "text/plain": [
       "('[CLS]', '[PAD]', '[UNK]', '[SEP]')"
      ]
     },
     "execution_count": 16,
     "metadata": {},
     "output_type": "execute_result"
    }
   ],
   "source": [
    "init_token = tokenizer.cls_token\n",
    "sep_token = tokenizer.sep_token\n",
    "pad_token = tokenizer.pad_token\n",
    "unk_token = tokenizer.unk_token\n",
    "init_token, pad_token, unk_token, sep_token"
   ]
  },
  {
   "cell_type": "code",
   "execution_count": 17,
   "metadata": {},
   "outputs": [
    {
     "data": {
      "text/plain": [
       "[['소재', 'LOC_I'],\n",
       " ['창고', 'WRK_B'],\n",
       " ['대수선', 'WRK_I'],\n",
       " ['공사현장에서', 'WRK_I'],\n",
       " ['지붕판넬', 'WRK_B'],\n",
       " ['철거작업', 'WRK_I'],\n",
       " ['중', '-'],\n",
       " ['절단', '-'],\n",
       " ['및', '-'],\n",
       " ['고정볼트가', 'AFW_I'],\n",
       " ['해체된', '-'],\n",
       " ['지붕판넬을', 'AFW_B'],\n",
       " ['밟아', '-'],\n",
       " ['떨어짐.', '-']]"
      ]
     },
     "execution_count": 17,
     "metadata": {},
     "output_type": "execute_result"
    }
   ],
   "source": [
    "tups[0]"
   ]
  },
  {
   "cell_type": "code",
   "execution_count": 18,
   "metadata": {},
   "outputs": [],
   "source": [
    "sentences = []\n",
    "targets = []\n",
    "for tup in tups:\n",
    "    sentence = []\n",
    "    target = []\n",
    "    for i, j in tup:\n",
    "        sentence.append(i)\n",
    "        target.append(j)\n",
    "    sentences.append(sentence)\n",
    "    targets.append(target)"
   ]
  },
  {
   "cell_type": "code",
   "execution_count": 19,
   "metadata": {},
   "outputs": [
    {
     "name": "stdout",
     "output_type": "stream",
     "text": [
      "random inddex k is 3691\n",
      "4698\n",
      "4698\n",
      "18\n",
      "18\n",
      "['울산', '제조', '현장', '내', '탱크로리', '지입차주가', '제품을', '로딩한', '후', '쿨다운작업을', '위해', '이동하여', '작업', '중', '탱크로리에서', '사망된', '채로', '발견.']\n",
      "['LOC_B', 'LOC_I', 'LOC_I', '-', 'CVL_B', 'CVL_I', '-', '-', '-', 'WRK_B', '-', '-', '-', '-', 'LOC_B', '-', '-', '-']\n"
     ]
    },
    {
     "data": {
      "text/plain": [
       "(None, None)"
      ]
     },
     "execution_count": 19,
     "metadata": {},
     "output_type": "execute_result"
    }
   ],
   "source": [
    "k = random.randrange(len(sentences))\n",
    "print(f'random inddex k is {k}')\n",
    "print(len(sentences)), print(len(targets))\n",
    "print(len(sentences[k])), print(len(targets[k]))\n",
    "print(sentences[k]), print(targets[k])"
   ]
  },
  {
   "cell_type": "code",
   "execution_count": 20,
   "metadata": {},
   "outputs": [],
   "source": [
    "### 길이 검사\n",
    "for sent, tgt in zip(sentences, targets):\n",
    "    if len(sent) != len(tgt):\n",
    "        print(sent)\n",
    "        print(tgt)"
   ]
  },
  {
   "cell_type": "markdown",
   "metadata": {},
   "source": [
    "### Tokenization and Label Matching"
   ]
  },
  {
   "cell_type": "code",
   "execution_count": 21,
   "metadata": {},
   "outputs": [],
   "source": [
    "def tokenize_and_preserve_labels(sentence, text_labels):\n",
    "    tokenized_sentence = []\n",
    "    labels = []\n",
    "    for word, label in zip(sentence, text_labels):\n",
    "        tokenized_word = tokenizer.tokenize(word)\n",
    "        n_subwords = len(tokenized_word)\n",
    "\n",
    "        tokenized_sentence.extend(tokenized_word)\n",
    "\n",
    "        if label[-1] == 'B' and n_subwords > 1:\n",
    "            tail = list(label)\n",
    "            tail[-1] = 'I'\n",
    "            tail = ''.join(tail)\n",
    "            labels.extend([label] + [tail]*(n_subwords-1))\n",
    "        else:\n",
    "            labels.extend([label] * n_subwords)\n",
    "\n",
    "    return tokenized_sentence, labels"
   ]
  },
  {
   "cell_type": "code",
   "execution_count": 22,
   "metadata": {},
   "outputs": [],
   "source": [
    "tokenized_texts_and_labels = [\n",
    "                              tokenize_and_preserve_labels(sent, labs)\n",
    "                              for sent, labs in zip(sentences, targets)\n",
    "                              ]"
   ]
  },
  {
   "cell_type": "code",
   "execution_count": 23,
   "metadata": {},
   "outputs": [],
   "source": [
    "# # [(문장, 개체들), (문장, 개체들),...] 형식으로 저장되어 있음.\n",
    "# k = random.randrange(len(tokenized_texts_and_labels))\n",
    "# print(f'random inddex k is {k}')\n",
    "# print(len(tokenized_texts_and_labels)), print(len(tokenized_texts_and_labels))\n",
    "# print(len(tokenized_texts_and_labels[k][0])), print(len(tokenized_texts_and_labels[k][1]))\n",
    "# print(tokenized_texts_and_labels[k][0]), print(), print(tokenized_texts_and_labels[k][1])"
   ]
  },
  {
   "cell_type": "code",
   "execution_count": 24,
   "metadata": {},
   "outputs": [],
   "source": [
    "tokenized_texts = [token_label_pair[0] for token_label_pair in tokenized_texts_and_labels]\n",
    "labels = [token_label_pair[1] for token_label_pair in tokenized_texts_and_labels]"
   ]
  },
  {
   "cell_type": "code",
   "execution_count": 25,
   "metadata": {},
   "outputs": [],
   "source": [
    "# k = random.randrange(len(tokenized_texts))\n",
    "# print(f'random inddex k is {k}')\n",
    "# print(len(tokenized_texts)), print(len(labels))\n",
    "# print(len(tokenized_texts[k])), print(len(labels[k])), print()\n",
    "# print(tokenized_texts[k]), print(labels[k])\n",
    "# for tok, lab in zip(tokenized_texts[k], labels[k]):\n",
    "#     print(tok, '\\t',lab)"
   ]
  },
  {
   "cell_type": "code",
   "execution_count": 26,
   "metadata": {},
   "outputs": [
    {
     "name": "stdout",
     "output_type": "stream",
     "text": [
      "0\n"
     ]
    }
   ],
   "source": [
    "error_count = 0\n",
    "for txt, lab in zip(tokenized_texts, labels):\n",
    "    if len(txt) != len(lab):\n",
    "        # print(txt)\n",
    "        # print(lab)\n",
    "        error_count += 1\n",
    "print(error_count)"
   ]
  },
  {
   "cell_type": "code",
   "execution_count": 27,
   "metadata": {},
   "outputs": [
    {
     "data": {
      "text/plain": [
       "'the longest is 395'"
      ]
     },
     "execution_count": 27,
     "metadata": {},
     "output_type": "execute_result"
    }
   ],
   "source": [
    "lengths = []\n",
    "for tokens in tokenized_texts:\n",
    "    lengths.append(len(tokens))\n",
    "\n",
    "f'the longest is {max(lengths)}'"
   ]
  },
  {
   "cell_type": "code",
   "execution_count": 28,
   "metadata": {},
   "outputs": [],
   "source": [
    "tokenized_texts_list, labels_list = tokenized_texts, labels"
   ]
  },
  {
   "cell_type": "markdown",
   "metadata": {},
   "source": [
    "### Add Special Tokens and Pad Inputs"
   ]
  },
  {
   "cell_type": "code",
   "execution_count": 29,
   "metadata": {},
   "outputs": [
    {
     "name": "stdout",
     "output_type": "stream",
     "text": [
      "['[PAD]', '-', 'AFW_B', 'AFW_I', 'ANM_B', 'ANM_I', 'CVL_B', 'CVL_I', 'DAT_B', 'DAT_I', 'LOC_B', 'LOC_I', 'MAT_B', 'MAT_I', 'NUM_B', 'NUM_I', 'TIM_B', 'TIM_I', 'TRM_B', 'TRM_I', 'WRK_B', 'WRK_I']\n"
     ]
    }
   ],
   "source": [
    "# print(len(label_dict)), print(len(index_to_ner))\n",
    "# print(label_dict)\n",
    "# print(index_to_ner)\n",
    "print(label)"
   ]
  },
  {
   "cell_type": "code",
   "execution_count": 30,
   "metadata": {},
   "outputs": [],
   "source": [
    "def make_inputs(tokenized_texts_list, labels_list, max_length):\n",
    "    max_length = max_length\n",
    "    input_tokens = []\n",
    "    input_mask = []\n",
    "    input_labels = []\n",
    "    num = len(tokenized_texts_list)\n",
    "    for i in range(num):\n",
    "        data = tokenized_texts_list[i]\n",
    "        labels = labels_list[i]\n",
    "        tmp_tokens = [init_token] + data\n",
    "        tmp_labels = ['-'] + labels\n",
    "        if len(tmp_tokens) < max_length-1:\n",
    "            tmp_tokens += [sep_token]\n",
    "            tmp_labels += ['-']\n",
    "            tmp_mask = [1] * len(tmp_tokens)\n",
    "            for _ in range(max_length-len(tmp_tokens)):\n",
    "                tmp_tokens.append(pad_token)\n",
    "                tmp_labels.append('[PAD]')\n",
    "                tmp_mask.append(0)\n",
    "            input_tokens.append(tmp_tokens)\n",
    "            input_labels.append(tmp_labels)\n",
    "            input_mask.append(tmp_mask)\n",
    "        elif len(tmp_tokens) > max_length-1:\n",
    "            tmp_tokens = tmp_tokens[:max_length-1] + [sep_token]\n",
    "            tmp_labels = tmp_labels[:max_length-1] + ['-']\n",
    "            tmp_mask = [1] * max_length\n",
    "            input_tokens.append(tmp_tokens)\n",
    "            input_labels.append(tmp_labels)\n",
    "            input_mask.append(tmp_mask)\n",
    "        elif len(tmp_tokens) == max_length-1:\n",
    "            tmp_tokens += [sep_token]\n",
    "            tmp_labels += [label_dict['-']]\n",
    "            tmp_mask = [1] * max_length\n",
    "            input_tokens.append(tmp_tokens)\n",
    "            input_labels.append(tmp_labels)\n",
    "            input_mask.append(tmp_mask)\n",
    "\n",
    "    return input_tokens, input_mask, input_labels"
   ]
  },
  {
   "cell_type": "code",
   "execution_count": 31,
   "metadata": {},
   "outputs": [],
   "source": [
    "max_length = 256\n",
    "input_tokens, input_mask, input_labels = make_inputs(tokenized_texts, labels, max_length)"
   ]
  },
  {
   "cell_type": "code",
   "execution_count": 32,
   "metadata": {},
   "outputs": [
    {
     "name": "stdout",
     "output_type": "stream",
     "text": [
      "length of input_tokens: 4698\n",
      "length of input_labels: 4698\n",
      "length of input_mask: 4698\n",
      "random inddex k is 2651\n",
      "256\n",
      "256\n",
      "256\n",
      "\n",
      "['[CLS]', '2021', '##년', '5', '##월', '2', '4', '일', '3', '##시', '30', '##분', '##경', '서울', '노원구', '지상', '9', '##층', '상가', '건물', '에서', 'H빔', '철거작업', '을', '하', '##던', '60', '##대', '작업자', '6', '아래', '로', '추락', '##하', '##는', '사고', '##가', '발생', '##하', '##였', '##다', '.', '왼쪽', '다리', '##와', '머리', '등', '##을', '다쳐', '인근', '병원', '##으로', '이송', '##되', '##어', '치료', '중', '이', '##다', '.', '[SEP]', '[PAD]', '[PAD]', '[PAD]', '[PAD]', '[PAD]', '[PAD]', '[PAD]', '[PAD]', '[PAD]', '[PAD]', '[PAD]', '[PAD]', '[PAD]', '[PAD]', '[PAD]', '[PAD]', '[PAD]', '[PAD]', '[PAD]', '[PAD]', '[PAD]', '[PAD]', '[PAD]', '[PAD]', '[PAD]', '[PAD]', '[PAD]', '[PAD]', '[PAD]', '[PAD]', '[PAD]', '[PAD]', '[PAD]', '[PAD]', '[PAD]', '[PAD]', '[PAD]', '[PAD]', '[PAD]', '[PAD]', '[PAD]', '[PAD]', '[PAD]', '[PAD]', '[PAD]', '[PAD]', '[PAD]', '[PAD]', '[PAD]', '[PAD]', '[PAD]', '[PAD]', '[PAD]', '[PAD]', '[PAD]', '[PAD]', '[PAD]', '[PAD]', '[PAD]', '[PAD]', '[PAD]', '[PAD]', '[PAD]', '[PAD]', '[PAD]', '[PAD]', '[PAD]', '[PAD]', '[PAD]', '[PAD]', '[PAD]', '[PAD]', '[PAD]', '[PAD]', '[PAD]', '[PAD]', '[PAD]', '[PAD]', '[PAD]', '[PAD]', '[PAD]', '[PAD]', '[PAD]', '[PAD]', '[PAD]', '[PAD]', '[PAD]', '[PAD]', '[PAD]', '[PAD]', '[PAD]', '[PAD]', '[PAD]', '[PAD]', '[PAD]', '[PAD]', '[PAD]', '[PAD]', '[PAD]', '[PAD]', '[PAD]', '[PAD]', '[PAD]', '[PAD]', '[PAD]', '[PAD]', '[PAD]', '[PAD]', '[PAD]', '[PAD]', '[PAD]', '[PAD]', '[PAD]', '[PAD]', '[PAD]', '[PAD]', '[PAD]', '[PAD]', '[PAD]', '[PAD]', '[PAD]', '[PAD]', '[PAD]', '[PAD]', '[PAD]', '[PAD]', '[PAD]', '[PAD]', '[PAD]', '[PAD]', '[PAD]', '[PAD]', '[PAD]', '[PAD]', '[PAD]', '[PAD]', '[PAD]', '[PAD]', '[PAD]', '[PAD]', '[PAD]', '[PAD]', '[PAD]', '[PAD]', '[PAD]', '[PAD]', '[PAD]', '[PAD]', '[PAD]', '[PAD]', '[PAD]', '[PAD]', '[PAD]', '[PAD]', '[PAD]', '[PAD]', '[PAD]', '[PAD]', '[PAD]', '[PAD]', '[PAD]', '[PAD]', '[PAD]', '[PAD]', '[PAD]', '[PAD]', '[PAD]', '[PAD]', '[PAD]', '[PAD]', '[PAD]', '[PAD]', '[PAD]', '[PAD]', '[PAD]', '[PAD]', '[PAD]', '[PAD]', '[PAD]', '[PAD]', '[PAD]', '[PAD]', '[PAD]', '[PAD]', '[PAD]', '[PAD]', '[PAD]', '[PAD]', '[PAD]', '[PAD]', '[PAD]', '[PAD]', '[PAD]', '[PAD]', '[PAD]']\n",
      "\n",
      "['-', 'DAT_B', 'DAT_I', 'DAT_I', 'DAT_I', 'DAT_I', 'DAT_I', 'DAT_I', 'TIM_I', 'TIM_I', 'TIM_I', 'TIM_I', 'TIM_I', 'LOC_B', 'LOC_I', '-', '-', '-', 'LOC_B', 'LOC_I', 'LOC_I', 'WRK_B', 'WRK_I', 'WRK_I', '-', '-', 'CVL_B', 'CVL_I', 'CVL_I', 'NUM_B', '-', '-', '-', '-', '-', '-', '-', '-', '-', '-', '-', '-', 'ANM_B', 'ANM_I', 'ANM_I', 'ANM_B', '-', '-', '-', '-', '-', '-', '-', '-', '-', '-', '-', '-', '-', '-', '-', '[PAD]', '[PAD]', '[PAD]', '[PAD]', '[PAD]', '[PAD]', '[PAD]', '[PAD]', '[PAD]', '[PAD]', '[PAD]', '[PAD]', '[PAD]', '[PAD]', '[PAD]', '[PAD]', '[PAD]', '[PAD]', '[PAD]', '[PAD]', '[PAD]', '[PAD]', '[PAD]', '[PAD]', '[PAD]', '[PAD]', '[PAD]', '[PAD]', '[PAD]', '[PAD]', '[PAD]', '[PAD]', '[PAD]', '[PAD]', '[PAD]', '[PAD]', '[PAD]', '[PAD]', '[PAD]', '[PAD]', '[PAD]', '[PAD]', '[PAD]', '[PAD]', '[PAD]', '[PAD]', '[PAD]', '[PAD]', '[PAD]', '[PAD]', '[PAD]', '[PAD]', '[PAD]', '[PAD]', '[PAD]', '[PAD]', '[PAD]', '[PAD]', '[PAD]', '[PAD]', '[PAD]', '[PAD]', '[PAD]', '[PAD]', '[PAD]', '[PAD]', '[PAD]', '[PAD]', '[PAD]', '[PAD]', '[PAD]', '[PAD]', '[PAD]', '[PAD]', '[PAD]', '[PAD]', '[PAD]', '[PAD]', '[PAD]', '[PAD]', '[PAD]', '[PAD]', '[PAD]', '[PAD]', '[PAD]', '[PAD]', '[PAD]', '[PAD]', '[PAD]', '[PAD]', '[PAD]', '[PAD]', '[PAD]', '[PAD]', '[PAD]', '[PAD]', '[PAD]', '[PAD]', '[PAD]', '[PAD]', '[PAD]', '[PAD]', '[PAD]', '[PAD]', '[PAD]', '[PAD]', '[PAD]', '[PAD]', '[PAD]', '[PAD]', '[PAD]', '[PAD]', '[PAD]', '[PAD]', '[PAD]', '[PAD]', '[PAD]', '[PAD]', '[PAD]', '[PAD]', '[PAD]', '[PAD]', '[PAD]', '[PAD]', '[PAD]', '[PAD]', '[PAD]', '[PAD]', '[PAD]', '[PAD]', '[PAD]', '[PAD]', '[PAD]', '[PAD]', '[PAD]', '[PAD]', '[PAD]', '[PAD]', '[PAD]', '[PAD]', '[PAD]', '[PAD]', '[PAD]', '[PAD]', '[PAD]', '[PAD]', '[PAD]', '[PAD]', '[PAD]', '[PAD]', '[PAD]', '[PAD]', '[PAD]', '[PAD]', '[PAD]', '[PAD]', '[PAD]', '[PAD]', '[PAD]', '[PAD]', '[PAD]', '[PAD]', '[PAD]', '[PAD]', '[PAD]', '[PAD]', '[PAD]', '[PAD]', '[PAD]', '[PAD]', '[PAD]', '[PAD]', '[PAD]', '[PAD]', '[PAD]', '[PAD]', '[PAD]', '[PAD]', '[PAD]', '[PAD]', '[PAD]', '[PAD]', '[PAD]', '[PAD]', '[PAD]', '[PAD]', '[PAD]', '[PAD]', '[PAD]', '[PAD]', '[PAD]', '[PAD]', '[PAD]', '[PAD]', '[PAD]']\n",
      "\n",
      "[1, 1, 1, 1, 1, 1, 1, 1, 1, 1, 1, 1, 1, 1, 1, 1, 1, 1, 1, 1, 1, 1, 1, 1, 1, 1, 1, 1, 1, 1, 1, 1, 1, 1, 1, 1, 1, 1, 1, 1, 1, 1, 1, 1, 1, 1, 1, 1, 1, 1, 1, 1, 1, 1, 1, 1, 1, 1, 1, 1, 1, 0, 0, 0, 0, 0, 0, 0, 0, 0, 0, 0, 0, 0, 0, 0, 0, 0, 0, 0, 0, 0, 0, 0, 0, 0, 0, 0, 0, 0, 0, 0, 0, 0, 0, 0, 0, 0, 0, 0, 0, 0, 0, 0, 0, 0, 0, 0, 0, 0, 0, 0, 0, 0, 0, 0, 0, 0, 0, 0, 0, 0, 0, 0, 0, 0, 0, 0, 0, 0, 0, 0, 0, 0, 0, 0, 0, 0, 0, 0, 0, 0, 0, 0, 0, 0, 0, 0, 0, 0, 0, 0, 0, 0, 0, 0, 0, 0, 0, 0, 0, 0, 0, 0, 0, 0, 0, 0, 0, 0, 0, 0, 0, 0, 0, 0, 0, 0, 0, 0, 0, 0, 0, 0, 0, 0, 0, 0, 0, 0, 0, 0, 0, 0, 0, 0, 0, 0, 0, 0, 0, 0, 0, 0, 0, 0, 0, 0, 0, 0, 0, 0, 0, 0, 0, 0, 0, 0, 0, 0, 0, 0, 0, 0, 0, 0, 0, 0, 0, 0, 0, 0, 0, 0, 0, 0, 0, 0, 0, 0, 0, 0, 0, 0, 0, 0, 0, 0, 0, 0, 0, 0, 0, 0, 0, 0]\n"
     ]
    },
    {
     "data": {
      "text/plain": [
       "(None, None, None, None, None, None)"
      ]
     },
     "execution_count": 32,
     "metadata": {},
     "output_type": "execute_result"
    }
   ],
   "source": [
    "print(f'length of input_tokens: {len(input_tokens)}')\n",
    "print(f'length of input_labels: {len(input_labels)}')\n",
    "print(f'length of input_mask: {len(input_mask)}')\n",
    "\n",
    "k = random.randrange(len(input_tokens))\n",
    "print(f'random inddex k is {k}')\n",
    "print(len(input_tokens[k])), print(len(input_labels[k])), print(len(input_mask[k]))\n",
    "print(), print(input_tokens[k]), print(), print(input_labels[k]), print(), print(input_mask[k])"
   ]
  },
  {
   "cell_type": "markdown",
   "metadata": {},
   "source": [
    "### Check Lengths"
   ]
  },
  {
   "cell_type": "code",
   "execution_count": 33,
   "metadata": {},
   "outputs": [
    {
     "name": "stdout",
     "output_type": "stream",
     "text": [
      "0\n"
     ]
    }
   ],
   "source": [
    "temp = 0\n",
    "num = len(input_tokens)\n",
    "for i in range(num):\n",
    "    curr_tokens = input_tokens[i]\n",
    "    curr_label = input_labels[i]\n",
    "    curr_mask = input_mask[i]\n",
    "    \n",
    "    count_tokens, count_label, count_mask = 0,0,0\n",
    "    for count, token in enumerate(curr_tokens):\n",
    "        if token == '[PAD]':\n",
    "            break\n",
    "    count_tokens = count\n",
    "    for count, label in enumerate(curr_label):\n",
    "        if label == '[PAD]':\n",
    "            break\n",
    "    count_label = count\n",
    "    for count, mask in enumerate(curr_mask):\n",
    "        if mask == 0:\n",
    "            break\n",
    "    count_mask = count\n",
    "    if not (count_tokens == count_label == count_mask):\n",
    "        # print(count_tokens, count_label, count_mask)\n",
    "        temp += 1\n",
    "print(temp)"
   ]
  },
  {
   "cell_type": "markdown",
   "metadata": {},
   "source": [
    "### Pair Inputs and Split to Ratio"
   ]
  },
  {
   "cell_type": "code",
   "execution_count": 34,
   "metadata": {},
   "outputs": [],
   "source": [
    "input_pair = []\n",
    "num = len(input_tokens)\n",
    "for i in range(num):\n",
    "    tmp_token_idx = input_tokens[i]\n",
    "    tmp_mask = input_mask[i]\n",
    "    tmp_label_idx = input_labels[i]\n",
    "    input_pair.append((tmp_token_idx, tmp_mask, tmp_label_idx))"
   ]
  },
  {
   "cell_type": "code",
   "execution_count": 35,
   "metadata": {},
   "outputs": [],
   "source": [
    "# k = random.randrange(len(input_tokens))\n",
    "# print(input_pair[k])"
   ]
  },
  {
   "cell_type": "markdown",
   "metadata": {},
   "source": [
    "데이터셋을 8:2 비율로 훈련 데이터셋과 검증 데이터셋으로 분할합니다. 데이터셋의 양이 적어 테스트셋은 생성하지 않았습니다."
   ]
  },
  {
   "cell_type": "code",
   "execution_count": 36,
   "metadata": {},
   "outputs": [],
   "source": [
    "train, valid = train_test_split(input_pair, test_size=0.2)"
   ]
  },
  {
   "cell_type": "code",
   "execution_count": 37,
   "metadata": {},
   "outputs": [
    {
     "name": "stdout",
     "output_type": "stream",
     "text": [
      "3758\n",
      "940\n"
     ]
    },
    {
     "data": {
      "text/plain": [
       "(None, None)"
      ]
     },
     "execution_count": 37,
     "metadata": {},
     "output_type": "execute_result"
    }
   ],
   "source": [
    "print(len(train)), print(len(valid))\n",
    "# print(train[0]), print(valid[0])"
   ]
  },
  {
   "cell_type": "code",
   "execution_count": 38,
   "metadata": {},
   "outputs": [],
   "source": [
    "# temp = []\n",
    "# for e in train[0][0]:\n",
    "#     encoded = tokenizer.convert_tokens_to_ids(str(e))\n",
    "#     temp.append(encoded)\n",
    "# print(temp)"
   ]
  },
  {
   "cell_type": "markdown",
   "metadata": {},
   "source": [
    "### Delcare Dataset (Iterator)"
   ]
  },
  {
   "cell_type": "markdown",
   "metadata": {},
   "source": [
    "pytorch에서 데이터를 받아들일 수 있도록 커스텀 데이터셋을 생성합니다. 이 때 문장을 구성하는 토큰들을 고유한 인덱스 번호로 변환합니다. 마찬가지로 레이블도 인덱스 번호로 변환합니다."
   ]
  },
  {
   "cell_type": "code",
   "execution_count": 39,
   "metadata": {},
   "outputs": [],
   "source": [
    "class CustomDataset(Dataset): \n",
    "    def __init__(self, data, tokenizer):\n",
    "        self.data = data\n",
    "        self.tokenizer = tokenizer\n",
    "    def __len__(self): \n",
    "        return len(self.data)\n",
    "\n",
    "    def __getitem__(self, idx):\n",
    "        tokens = self.data[idx][0]\n",
    "        masks = self.data[idx][1]\n",
    "        labels = self.data[idx][2]\n",
    "        token_ids = []\n",
    "        for token in tokens:\n",
    "            ids = tokenizer.convert_tokens_to_ids(str(token))\n",
    "            token_ids.append(ids)\n",
    "        label_ids = []\n",
    "        for label in labels:\n",
    "            label_ids.append(label_dict[label])\n",
    "                \n",
    "        return (torch.LongTensor(token_ids), torch.LongTensor(masks), torch.LongTensor(label_ids))"
   ]
  },
  {
   "cell_type": "code",
   "execution_count": 40,
   "metadata": {},
   "outputs": [],
   "source": [
    "trainset = CustomDataset(train, tokenizer)\n",
    "validset = CustomDataset(valid, tokenizer)"
   ]
  },
  {
   "cell_type": "markdown",
   "metadata": {},
   "source": [
    "배치 크기가 128인 데이터로더를 생성합니다."
   ]
  },
  {
   "cell_type": "code",
   "execution_count": 41,
   "metadata": {},
   "outputs": [],
   "source": [
    "cpu_num = os.cpu_count()"
   ]
  },
  {
   "cell_type": "code",
   "execution_count": 42,
   "metadata": {},
   "outputs": [],
   "source": [
    "batch_size = 16\n",
    "train_loader = DataLoader(trainset, batch_size = batch_size, shuffle = True, num_workers=cpu_num)\n",
    "valid_loader = DataLoader(validset, batch_size = batch_size, shuffle = True, num_workers=cpu_num)"
   ]
  },
  {
   "cell_type": "code",
   "execution_count": 43,
   "metadata": {},
   "outputs": [
    {
     "name": "stdout",
     "output_type": "stream",
     "text": [
      "256\n",
      "256\n",
      "256\n"
     ]
    }
   ],
   "source": [
    "for i, el in enumerate(train_loader):\n",
    "    print(len(el[0][0]))\n",
    "    print(len(el[1][0]))\n",
    "    print(len(el[2][0]))\n",
    "    # print(el[0][0])\n",
    "    # print(el[1][0])\n",
    "    # print(el[2][0])\n",
    "    break"
   ]
  },
  {
   "cell_type": "markdown",
   "metadata": {},
   "source": [
    "# Create Model / Training / Evaluation / Inference"
   ]
  },
  {
   "cell_type": "markdown",
   "metadata": {},
   "source": [
    "모델을 생성합니다."
   ]
  },
  {
   "cell_type": "code",
   "execution_count": 44,
   "metadata": {},
   "outputs": [],
   "source": [
    "class BERT_BiLSTM_CRF(nn.Module):\n",
    "    \n",
    "    def __init__(self, bert, config, need_birnn=False, rnn_dim=128):\n",
    "        super(BERT_BiLSTM_CRF, self).__init__()\n",
    "        \n",
    "        self.num_tags = config.num_labels\n",
    "        self.bert = bert\n",
    "        self.dropout = nn.Dropout(config.hidden_dropout_prob)\n",
    "        out_dim = config.hidden_size\n",
    "        self.need_birnn = need_birnn\n",
    "\n",
    "        # if False, no use of BiLSTM\n",
    "        if need_birnn:\n",
    "            self.birnn = nn.LSTM(config.hidden_size, rnn_dim, num_layers=1, bidirectional=True, batch_first=True)\n",
    "            out_dim = rnn_dim*2\n",
    "        \n",
    "        self.hidden2tag = nn.Linear(out_dim, config.num_labels)\n",
    "        self.crf = CRF(config.num_labels, batch_first=True)\n",
    "    \n",
    "    def predict(self, input_ids, input_mask=None):\n",
    "        emissions = self.tag_outputs(input_ids, input_mask)\n",
    "        return self.crf.decode(emissions, input_mask.byte())\n",
    "\n",
    "    def forward(self, input_ids, tags, input_mask=None):\n",
    "        emissions = self.tag_outputs(input_ids, input_mask)\n",
    "        loss = -1*self.crf(emissions, tags.long(), input_mask.byte()) # negative log likelihood loss\n",
    "        return loss\n",
    "\n",
    "    def tag_outputs(self, input_ids, input_mask=None):\n",
    "        outputs = self.bert(input_ids, attention_mask=input_mask)\n",
    "        sequence_output = outputs[0]\n",
    "        \n",
    "        if self.need_birnn:\n",
    "            self.birnn.flatten_parameters()\n",
    "            sequence_output, _ = self.birnn(sequence_output)\n",
    "\n",
    "        sequence_output = self.dropout(sequence_output)\n",
    "        emissions = self.hidden2tag(sequence_output)\n",
    "        return emissions"
   ]
  },
  {
   "cell_type": "code",
   "execution_count": 45,
   "metadata": {},
   "outputs": [
    {
     "name": "stderr",
     "output_type": "stream",
     "text": [
      "Some weights of the model checkpoint at monologg/koelectra-base-v3-discriminator were not used when initializing ElectraModel: ['discriminator_predictions.dense_prediction.bias', 'discriminator_predictions.dense_prediction.weight', 'discriminator_predictions.dense.bias', 'discriminator_predictions.dense.weight']\n",
      "- This IS expected if you are initializing ElectraModel from the checkpoint of a model trained on another task or with another architecture (e.g. initializing a BertForSequenceClassification model from a BertForPreTraining model).\n",
      "- This IS NOT expected if you are initializing ElectraModel from the checkpoint of a model that you expect to be exactly identical (initializing a BertForSequenceClassification model from a BertForSequenceClassification model).\n"
     ]
    },
    {
     "name": "stdout",
     "output_type": "stream",
     "text": [
      "22\n",
      "0.1\n",
      "768\n"
     ]
    }
   ],
   "source": [
    "ckpt = \"monologg/koelectra-base-v3-discriminator\"\n",
    "bert = ElectraModel.from_pretrained(ckpt, num_labels=22)\n",
    "tokenizer = ElectraTokenizer.from_pretrained('./tokenizer/')\n",
    "bert.resize_token_embeddings(len(tokenizer))\n",
    "config = bert.config\n",
    "print(config.num_labels)\n",
    "print(config.hidden_dropout_prob)\n",
    "print(config.hidden_size)\n",
    "\n",
    "model = BERT_BiLSTM_CRF(bert, config, need_birnn=True, rnn_dim=128)"
   ]
  },
  {
   "cell_type": "markdown",
   "metadata": {},
   "source": [
    "모델을 학습시키기 위한 옵티마이저와 목적함수(cross entropy)를 호출합니다."
   ]
  },
  {
   "cell_type": "code",
   "execution_count": 46,
   "metadata": {},
   "outputs": [],
   "source": [
    "LEARNING_RATE = 5e-5\n",
    "optimizer = optim.Adam(model.parameters(), lr = LEARNING_RATE)\n",
    "# criterion = nn.CrossEntropyLoss(ignore_index = 0)"
   ]
  },
  {
   "cell_type": "markdown",
   "metadata": {},
   "source": [
    "GPU 연산을 위해 cuda를 호출합니다. 이 때 복수의 연산장치(GPU)가 있을 경우 모든 연산장치를 활용하여 연산의 속도를 높이도록 설정합니다."
   ]
  },
  {
   "cell_type": "code",
   "execution_count": 47,
   "metadata": {},
   "outputs": [],
   "source": [
    "device = torch.device('cuda' if torch.cuda.is_available() else 'cpu')\n",
    "\n",
    "NGPU = torch.cuda.device_count()\n",
    "if NGPU > 1:\n",
    "    model = torch.nn.DataParallel(model, device_ids=list(range(NGPU))).cuda()\n",
    "    # model = torch.nn.DataParallel(model, device_ids=[0,1])\n",
    "    # torch.multiprocessing.set_start_method('spawn', force=True)\n",
    "\n",
    "# model = model.to(device)\n",
    "# criterion = criterion.to(device)"
   ]
  },
  {
   "cell_type": "code",
   "execution_count": 48,
   "metadata": {},
   "outputs": [],
   "source": [
    "# model.module.predict()"
   ]
  },
  {
   "cell_type": "markdown",
   "metadata": {},
   "source": [
    "정확도를 계산하기 위한 함수를 생성합니다."
   ]
  },
  {
   "cell_type": "code",
   "execution_count": 49,
   "metadata": {},
   "outputs": [],
   "source": [
    "def categorical_accuracy(preds, y, tag_pad_idx):\n",
    "    \"\"\"\n",
    "    Returns accuracy per batch, i.e. if you get 8/10 right, this returns 0.8, NOT 8\n",
    "    \"\"\"\n",
    "    # max_preds = preds.argmax(dim = -1, keepdim = True) # get the index of the max probability\n",
    "    non_pad_elements = torch.nonzero((y != tag_pad_idx))\n",
    "    correct = preds[non_pad_elements].eq(y[non_pad_elements])\n",
    "    return correct.sum() / torch.FloatTensor([y[non_pad_elements].shape[0]]).to(device)"
   ]
  },
  {
   "cell_type": "code",
   "execution_count": 50,
   "metadata": {},
   "outputs": [],
   "source": [
    "def categorical_f1(preds, y, tag_pad_idx):\n",
    "    \"\"\"\n",
    "    Returns accuracy per batch, i.e. if you get 8/10 right, this returns 0.8, NOT 8\n",
    "    \"\"\"\n",
    "    # max_preds = preds.argmax(dim = -1, keepdim = True) # get the index of the max probability\n",
    "    non_pad_elements = torch.nonzero((y != tag_pad_idx))\n",
    "    preds_no_pad = preds[non_pad_elements].squeeze(1).detach().cpu()\n",
    "    y_no_pad = y[non_pad_elements].detach().cpu()\n",
    "    \n",
    "    f1_macro = f1_score(y_no_pad, preds_no_pad, average='macro')\n",
    "    f1_micro = f1_score(y_no_pad, preds_no_pad, average='micro')    \n",
    "    \n",
    "    return f1_macro, f1_micro"
   ]
  },
  {
   "cell_type": "markdown",
   "metadata": {},
   "source": [
    "모델을 훈련시키기 위한 함수입니다."
   ]
  },
  {
   "cell_type": "code",
   "execution_count": 51,
   "metadata": {},
   "outputs": [],
   "source": [
    "def train(model, iterator, optimizer, tag_pad_idx):\n",
    "    \n",
    "    epoch_loss = 0\n",
    "    epoch_acc = 0\n",
    "    \n",
    "    model.train()\n",
    "    \n",
    "    for batch in iterator:\n",
    "        \n",
    "        input_ids = batch[0].to(device)\n",
    "        attention_mask = batch[1].to(device)\n",
    "        tags = batch[2].to(device)\n",
    "\n",
    "        optimizer.zero_grad()\n",
    "\n",
    "        loss = model(input_ids, tags, attention_mask).mean()\n",
    "        loss =  loss / batch_size\n",
    "        # if NGPU > 1:\n",
    "        #     loss = loss.mean() / batch_size # mean() to average on multi-gpu.\n",
    "        predictions = model.module.predict(input_ids, attention_mask)\n",
    "        predictions = list(map(lambda x: x + [0 for _ in range(max_length - len(x))], predictions))\n",
    "        predictions = torch.LongTensor(predictions).to(device)\n",
    "        predictions = predictions.view(-1)\n",
    "        tags = tags.view(-1)\n",
    "        acc = categorical_accuracy(predictions, tags, tag_pad_idx)\n",
    "        \n",
    "        \n",
    "        loss.backward()\n",
    "        optimizer.step()\n",
    "        \n",
    "        epoch_loss += loss.item()\n",
    "        epoch_acc += acc.item()\n",
    "        \n",
    "    return epoch_loss / len(iterator), epoch_acc / len(iterator)"
   ]
  },
  {
   "cell_type": "markdown",
   "metadata": {},
   "source": [
    "모델의 성능을 평가하기 위한 함수입니다."
   ]
  },
  {
   "cell_type": "code",
   "execution_count": 52,
   "metadata": {},
   "outputs": [],
   "source": [
    "def evaluate(model, iterator, tag_pad_idx):\n",
    "    epoch_loss = 0\n",
    "    epoch_acc = 0\n",
    "    \n",
    "    model.eval()\n",
    "    \n",
    "    predictions_set = None\n",
    "    tags_set = None\n",
    "    \n",
    "    with torch.no_grad():\n",
    "        for batch in iterator:\n",
    "            input_ids = batch[0].to(device)\n",
    "            attention_mask = batch[1].to(device)\n",
    "            tags = batch[2].to(device)\n",
    "            \n",
    "            loss = model(input_ids, tags, attention_mask).mean()\n",
    "            loss =  loss / batch_size\n",
    "            # if NGPU > 1:\n",
    "            #     loss = loss.mean() / batch_size # mean() to average on multi-gpu.\n",
    "            predictions = model.module.predict(input_ids, attention_mask)\n",
    "            predictions = list(map(lambda x: x + [0 for _ in range(max_length - len(x))], predictions))\n",
    "            predictions = torch.LongTensor(predictions).to(device)\n",
    "            predictions = predictions.view(-1)\n",
    "            tags = tags.view(-1)\n",
    "            \n",
    "            if predictions_set == None:\n",
    "                predictions_set = predictions\n",
    "                tags_set = tags\n",
    "            else:\n",
    "                predictions_set = torch.cat([predictions_set, predictions], dim=0)\n",
    "                tags_set = torch.cat([tags_set, tags], dim=0)\n",
    "            acc = categorical_accuracy(predictions, tags, tag_pad_idx)\n",
    "            \n",
    "\n",
    "            epoch_loss += loss.item()\n",
    "            epoch_acc += acc.item()\n",
    "\n",
    "        f1_macro, f1_micro = categorical_f1(predictions_set, tags_set, tag_pad_idx)\n",
    "        \n",
    "    return epoch_loss / len(iterator), epoch_acc / len(iterator), f1_macro, f1_micro"
   ]
  },
  {
   "cell_type": "markdown",
   "metadata": {},
   "source": [
    "에폭마다 걸리는 시간을 계산하기 위한 함수입니다."
   ]
  },
  {
   "cell_type": "code",
   "execution_count": 53,
   "metadata": {},
   "outputs": [],
   "source": [
    "def epoch_time(start_time, end_time):\n",
    "    elapsed_time = end_time - start_time\n",
    "    elapsed_mins = int(elapsed_time / 60)\n",
    "    elapsed_secs = int(elapsed_time - (elapsed_mins * 60))\n",
    "    return elapsed_mins, elapsed_secs"
   ]
  },
  {
   "cell_type": "markdown",
   "metadata": {},
   "source": [
    "실질적으로 모델을 학습시킵니다. 에폭마다 검증데이터셋에서 성능을 평가하여 검증데이터셋에서 가장 좋은 성능을 보여줬을 때의 모델의 weight를 저장합니다."
   ]
  },
  {
   "cell_type": "code",
   "execution_count": 54,
   "metadata": {},
   "outputs": [
    {
     "name": "stderr",
     "output_type": "stream",
     "text": [
      "/home/ubuntu/anaconda3/envs/jeonghyeon/lib/python3.8/site-packages/torch/nn/parallel/_functions.py:64: UserWarning: Was asked to gather along dimension 0, but all input tensors were scalars; will instead unsqueeze and return a vector.\n",
      "  warnings.warn('Was asked to gather along dimension 0, but all '\n"
     ]
    },
    {
     "name": "stdout",
     "output_type": "stream",
     "text": [
      "Epoch: 01 | Epoch Time: 6m 5s\n",
      "\tTrain Loss: 17.540 | Train Acc: 66.31%\n",
      "\t Val. Loss: 10.010 |  Val. Acc: 78.34%\n",
      "\t Val. F1 Mac: 0.43 |  Val. F1 Mic: 0.79\n"
     ]
    },
    {
     "name": "stderr",
     "output_type": "stream",
     "text": [
      "/home/ubuntu/anaconda3/envs/jeonghyeon/lib/python3.8/site-packages/torch/nn/parallel/_functions.py:64: UserWarning: Was asked to gather along dimension 0, but all input tensors were scalars; will instead unsqueeze and return a vector.\n",
      "  warnings.warn('Was asked to gather along dimension 0, but all '\n"
     ]
    },
    {
     "ename": "KeyboardInterrupt",
     "evalue": "",
     "output_type": "error",
     "traceback": [
      "\u001b[0;31m---------------------------------------------------------------------------\u001b[0m",
      "\u001b[0;31mKeyboardInterrupt\u001b[0m                         Traceback (most recent call last)",
      "Cell \u001b[0;32mIn [54], line 9\u001b[0m\n\u001b[1;32m      5\u001b[0m \u001b[39mfor\u001b[39;00m epoch \u001b[39min\u001b[39;00m \u001b[39mrange\u001b[39m(N_EPOCHS):\n\u001b[1;32m      7\u001b[0m     start_time \u001b[39m=\u001b[39m time\u001b[39m.\u001b[39mtime()\n\u001b[0;32m----> 9\u001b[0m     train_loss, train_acc \u001b[39m=\u001b[39m train(model, train_loader, optimizer, \u001b[39m0\u001b[39;49m)\n\u001b[1;32m     10\u001b[0m     valid_loss, valid_acc, f1_mac, f1_mic \u001b[39m=\u001b[39m evaluate(model, valid_loader, \u001b[39m0\u001b[39m)\n\u001b[1;32m     12\u001b[0m     end_time \u001b[39m=\u001b[39m time\u001b[39m.\u001b[39mtime()\n",
      "Cell \u001b[0;32mIn [51], line 28\u001b[0m, in \u001b[0;36mtrain\u001b[0;34m(model, iterator, optimizer, tag_pad_idx)\u001b[0m\n\u001b[1;32m     24\u001b[0m tags \u001b[39m=\u001b[39m tags\u001b[39m.\u001b[39mview(\u001b[39m-\u001b[39m\u001b[39m1\u001b[39m)\n\u001b[1;32m     25\u001b[0m acc \u001b[39m=\u001b[39m categorical_accuracy(predictions, tags, tag_pad_idx)\n\u001b[0;32m---> 28\u001b[0m loss\u001b[39m.\u001b[39;49mbackward()\n\u001b[1;32m     29\u001b[0m optimizer\u001b[39m.\u001b[39mstep()\n\u001b[1;32m     31\u001b[0m epoch_loss \u001b[39m+\u001b[39m\u001b[39m=\u001b[39m loss\u001b[39m.\u001b[39mitem()\n",
      "File \u001b[0;32m~/anaconda3/envs/jeonghyeon/lib/python3.8/site-packages/torch/tensor.py:221\u001b[0m, in \u001b[0;36mTensor.backward\u001b[0;34m(self, gradient, retain_graph, create_graph)\u001b[0m\n\u001b[1;32m    213\u001b[0m \u001b[39mif\u001b[39;00m \u001b[39mtype\u001b[39m(\u001b[39mself\u001b[39m) \u001b[39mis\u001b[39;00m \u001b[39mnot\u001b[39;00m Tensor \u001b[39mand\u001b[39;00m has_torch_function(relevant_args):\n\u001b[1;32m    214\u001b[0m     \u001b[39mreturn\u001b[39;00m handle_torch_function(\n\u001b[1;32m    215\u001b[0m         Tensor\u001b[39m.\u001b[39mbackward,\n\u001b[1;32m    216\u001b[0m         relevant_args,\n\u001b[0;32m   (...)\u001b[0m\n\u001b[1;32m    219\u001b[0m         retain_graph\u001b[39m=\u001b[39mretain_graph,\n\u001b[1;32m    220\u001b[0m         create_graph\u001b[39m=\u001b[39mcreate_graph)\n\u001b[0;32m--> 221\u001b[0m torch\u001b[39m.\u001b[39;49mautograd\u001b[39m.\u001b[39;49mbackward(\u001b[39mself\u001b[39;49m, gradient, retain_graph, create_graph)\n",
      "File \u001b[0;32m~/anaconda3/envs/jeonghyeon/lib/python3.8/site-packages/torch/autograd/__init__.py:130\u001b[0m, in \u001b[0;36mbackward\u001b[0;34m(tensors, grad_tensors, retain_graph, create_graph, grad_variables)\u001b[0m\n\u001b[1;32m    127\u001b[0m \u001b[39mif\u001b[39;00m retain_graph \u001b[39mis\u001b[39;00m \u001b[39mNone\u001b[39;00m:\n\u001b[1;32m    128\u001b[0m     retain_graph \u001b[39m=\u001b[39m create_graph\n\u001b[0;32m--> 130\u001b[0m Variable\u001b[39m.\u001b[39;49m_execution_engine\u001b[39m.\u001b[39;49mrun_backward(\n\u001b[1;32m    131\u001b[0m     tensors, grad_tensors_, retain_graph, create_graph,\n\u001b[1;32m    132\u001b[0m     allow_unreachable\u001b[39m=\u001b[39;49m\u001b[39mTrue\u001b[39;49;00m)\n",
      "\u001b[0;31mKeyboardInterrupt\u001b[0m: "
     ]
    }
   ],
   "source": [
    "N_EPOCHS = 30\n",
    "\n",
    "best_valid_loss = float('inf')\n",
    "\n",
    "for epoch in range(N_EPOCHS):\n",
    "\n",
    "    start_time = time.time()\n",
    "    \n",
    "    train_loss, train_acc = train(model, train_loader, optimizer, 0)\n",
    "    valid_loss, valid_acc, f1_mac, f1_mic = evaluate(model, valid_loader, 0)\n",
    "    \n",
    "    end_time = time.time()\n",
    "\n",
    "    epoch_mins, epoch_secs = epoch_time(start_time, end_time)\n",
    "    \n",
    "    if valid_loss < best_valid_loss:\n",
    "        best_valid_loss = valid_loss\n",
    "        torch.save(model.state_dict(), 'tut2-model-bert-bilstm-crf.pt')\n",
    "    \n",
    "    print(f'Epoch: {epoch+1:02} | Epoch Time: {epoch_mins}m {epoch_secs}s')\n",
    "    print(f'\\tTrain Loss: {train_loss:.3f} | Train Acc: {train_acc*100:.2f}%')\n",
    "    print(f'\\t Val. Loss: {valid_loss:.3f} |  Val. Acc: {valid_acc*100:.2f}%')\n",
    "    print(f'\\t Val. F1 Mac: {f1_mac:.2f} |  Val. F1 Mic: {f1_mic:.2f}')"
   ]
  },
  {
   "cell_type": "markdown",
   "metadata": {},
   "source": [
    "학습된 모델을 이용하여 예시 문장으로 inference 합니다."
   ]
  },
  {
   "cell_type": "code",
   "execution_count": null,
   "metadata": {},
   "outputs": [],
   "source": [
    "model.load_state_dict(torch.load(\"tut2-model-bert-bilstm-crf.pt\"))\n",
    "model.eval()\n",
    "with torch.no_grad():\n",
    "    sample = '2013년 11월 18일 인천항 4부두에서 컨테이너 작업 중 핸들러 집게가 풀리면서 피해자 끼임. 허리에 경상을 입음'\n",
    "    input_ids, token_type_ids, attention_mask = dict(tokenizer(sample, return_tensors='pt')).values()\n",
    "    input_ids, token_type_ids, attention_mask = input_ids.to(device), token_type_ids.to(device), attention_mask.to(device)\n",
    "    prediction = model.predict(input_ids, attention_mask)\n",
    "encoded = tokenizer.encode(sample)\n",
    "decoded = tokenizer.convert_ids_to_tokens(encoded)\n",
    "pred2tag = [index_to_ner[idx] for idx in prediction[0]]\n",
    "for token, tag in zip(decoded, pred2tag):\n",
    "    print(token, end='\\t'), print(tag)"
   ]
  },
  {
   "cell_type": "markdown",
   "metadata": {},
   "source": [
    "검증 데이터셋에서 5%의 데이터를 임의로 추출하여 inference 한 다음 그 결과를 csv파일로 저장합니다."
   ]
  },
  {
   "cell_type": "code",
   "execution_count": null,
   "metadata": {},
   "outputs": [],
   "source": [
    "import random\n",
    "import numpy as np\n",
    "\n",
    "num = len(valid)\n",
    "random_choice = np.random.choice(num, int(num*0.05), replace=False).tolist()\n",
    "selected_sample = []\n",
    "\n",
    "for i in random_choice:\n",
    "    selected_sample.append(valid[i])\n",
    "    \n",
    "print(len(selected_sample))"
   ]
  },
  {
   "cell_type": "code",
   "execution_count": null,
   "metadata": {},
   "outputs": [],
   "source": [
    "model.eval()\n",
    "with torch.no_grad():\n",
    "    sample_results = []\n",
    "    for idx, _ in enumerate(selected_sample):\n",
    "        item = selected_sample[idx]\n",
    "        token_ids = list(map(lambda x:tokenizer.convert_tokens_to_ids(x), item[0]))\n",
    "        input_tensor = torch.LongTensor(token_ids).unsqueeze(0).to(device)\n",
    "        mask_tensor = torch.LongTensor(item[1]).unsqueeze(0).to(device)\n",
    "        output = model(input_tensor, mask_tensor)\n",
    "        pred = torch.argmax(output, dim=-1).squeeze().detach().cpu().tolist()\n",
    "        sample_results.append(pred)"
   ]
  },
  {
   "cell_type": "code",
   "execution_count": null,
   "metadata": {},
   "outputs": [],
   "source": [
    "k = random.randrange(len(selected_sample))\n",
    "\n",
    "id2label = lambda x: index_to_ner[x]\n",
    "result_labels = []\n",
    "for id in sample_results[k]:\n",
    "    result_labels.append(id2label(id))\n",
    "for tok, id in zip(selected_sample[k][0], result_labels):\n",
    "    print(tok, id)"
   ]
  },
  {
   "cell_type": "code",
   "execution_count": null,
   "metadata": {},
   "outputs": [],
   "source": [
    "f = open('sample_result.csv', 'w', encoding='utf-8-sig')\n",
    "for idx, item in enumerate(selected_sample):\n",
    "    all_tokens = item[0]\n",
    "    if '[PAD]' not in all_tokens:\n",
    "        continue\n",
    "    pad_loc = all_tokens.index('[PAD]')\n",
    "    tokens = all_tokens[:pad_loc][1:-1]\n",
    "    labels = item[-1][:pad_loc][1:-1]\n",
    "    predicts = sample_results[idx][:pad_loc][1:-1]\n",
    "    length = len(tokens)\n",
    "    \n",
    "    f.write('token'+','+'label'+','+'predict'+'\\n')\n",
    "    for i in range(length):\n",
    "        token = tokens[i]\n",
    "        label = labels[i]\n",
    "        predict = index_to_ner[predicts[i]]\n",
    "        f.write(token+','+label+','+predict+'\\n')\n",
    "    f.write('\\n')\n",
    "f.close()"
   ]
  },
  {
   "cell_type": "code",
   "execution_count": null,
   "metadata": {},
   "outputs": [],
   "source": [
    "df = pd.read_csv('./sample_result.csv')\n",
    "df.head(50)"
   ]
  },
  {
   "cell_type": "code",
   "execution_count": null,
   "metadata": {},
   "outputs": [],
   "source": [
    "# num = len(df)\n",
    "# idx_to_label = {0:\"pad\", 1:\"O\", 2:\"C\", 3:\"CE\", 4:\"E\"}\n",
    "# result = []\n",
    "# for i in range(num):\n",
    "#     sentence = df.iloc[i,0]\n",
    "#     tokenizer_result = tokenizer.encode_plus(sentence)\n",
    "#     tokens = tokenizer.tokenize(sentence)\n",
    "#     input_ids = tokenizer_result[\"input_ids\"]\n",
    "#     mask = tokenizer_result[\"attention_mask\"]\n",
    "#     input_tensor = torch.LongTensor(input_ids).unsqueeze(0).to(device)\n",
    "#     mask_tensor = torch.LongTensor(mask).unsqueeze(0).to(device)\n",
    "#     output = model(input_tensor, mask_tensor)\n",
    "#     pred = torch.argmax(output, dim=-1).squeeze().detach().cpu().tolist()\n",
    "#     pred_label = list(map(lambda x:idx_to_label[x], pred))\n",
    "#     result.append([tokens, pred_label[1:-1]])\n",
    "    "
   ]
  },
  {
   "cell_type": "code",
   "execution_count": null,
   "metadata": {},
   "outputs": [],
   "source": [
    "# f = open('./8-9_cause_effec_result.csv', 'w', encoding='utf-8-sig')\n",
    "# for item in result:\n",
    "#     length = len(item[0])\n",
    "#     for i in range(length):\n",
    "#         f.write(item[0][i]+','+item[1][i]+'\\n')\n",
    "#     f.write('\\n')\n",
    "# f.close()"
   ]
  },
  {
   "cell_type": "code",
   "execution_count": null,
   "metadata": {},
   "outputs": [],
   "source": []
  }
 ],
 "metadata": {
  "kernelspec": {
   "display_name": "Python 3.10.6 ('jeonghyeon')",
   "language": "python",
   "name": "python3"
  },
  "language_info": {
   "codemirror_mode": {
    "name": "ipython",
    "version": 3
   },
   "file_extension": ".py",
   "mimetype": "text/x-python",
   "name": "python",
   "nbconvert_exporter": "python",
   "pygments_lexer": "ipython3",
   "version": "3.8.13"
  },
  "orig_nbformat": 4,
  "vscode": {
   "interpreter": {
    "hash": "df12b971f0e4e081474c4ac44bd338416eac6f5401e1e938ba342788cee78ecd"
   }
  }
 },
 "nbformat": 4,
 "nbformat_minor": 2
}
