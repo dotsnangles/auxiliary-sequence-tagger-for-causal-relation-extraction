{
 "cells": [
  {
   "cell_type": "code",
   "execution_count": 300,
   "metadata": {},
   "outputs": [],
   "source": [
    "import torch\n",
    "import torch.nn as nn\n",
    "import torch.optim as optim\n",
    "import torch.nn.functional as F\n",
    "\n",
    "from torch.utils.data import Dataset\n",
    "from torch.utils.data import DataLoader\n",
    "\n",
    "from transformers import ElectraModel, ElectraTokenizer\n",
    "\n",
    "from sklearn.model_selection import train_test_split\n",
    "from sklearn.metrics import f1_score\n",
    "\n",
    "import os\n",
    "import random\n",
    "import time\n",
    "import pandas as pd"
   ]
  },
  {
   "cell_type": "markdown",
   "metadata": {},
   "source": [
    "# Data Preparation"
   ]
  },
  {
   "cell_type": "markdown",
   "metadata": {},
   "source": [
    "## Loading"
   ]
  },
  {
   "cell_type": "code",
   "execution_count": 301,
   "metadata": {},
   "outputs": [
    {
     "data": {
      "text/plain": [
       "(17688, 6819, 69241, 26984)"
      ]
     },
     "execution_count": 301,
     "metadata": {},
     "output_type": "execute_result"
    }
   ],
   "source": [
    "df_1 = pd.read_excel('dataset/eshc_NER_v2.xlsx').set_axis(['index', 'src', 'tar'], axis='columns')\n",
    "df_2 = pd.read_excel('dataset/port_NER_v2.xlsx').set_axis(['index', 'src', 'tar'], axis='columns')\n",
    "df_3 = pd.read_excel('dataset/ulsan_2021-2019_NER_v2.xlsx').set_axis(['index', 'src', 'tar'], axis='columns')\n",
    "df_4 = pd.read_excel('dataset/ulsan_2022_NER_v2.xlsx').set_axis(['index', 'src', 'tar'], axis='columns')\n",
    "len(df_1), len(df_2), len(df_3), len(df_4)"
   ]
  },
  {
   "cell_type": "code",
   "execution_count": 302,
   "metadata": {},
   "outputs": [],
   "source": [
    "### start_num\n",
    "\n",
    "# df_1[100:150] # 0\n",
    "# df_2[100:150] # 0\n",
    "# df_3[100:150] # 1\n",
    "# df_4[100:150] # 1"
   ]
  },
  {
   "cell_type": "markdown",
   "metadata": {},
   "source": [
    "## Cleansing"
   ]
  },
  {
   "cell_type": "code",
   "execution_count": 303,
   "metadata": {},
   "outputs": [],
   "source": [
    "def preprocess(df):\n",
    "    df = df.fillna(\"-\")\n",
    "    df['src'] = df['src'].astype(str)\n",
    "    df['src'] = df['src'].str.replace(\"．\", \".\", regex=False)\n",
    "    df['src'] = df['src'].str.replace(r'[^ㄱ-ㅣ가-힣0-9a-zA-Z.]+', \"\", regex=True)\n",
    "    df['tar'] = df['tar'].astype(str)\n",
    "    df['tar'] = df['tar'].str.replace(\"1\", \"-\", regex=False)\n",
    "    df['tar'] = df['tar'].str.replace(\"(삭제)\", \"-\", regex=False)\n",
    "    df['tar'] = df['tar'].str.replace(\"AFW_b\", \"AFW_B\", regex=False)\n",
    "    df['tar'] = df['tar'].str.replace('AFW_O', 'AFW_I', regex=False)\n",
    "    df['tar'] = df['tar'].str.replace(\"ANW_B\", \"ANM_B\", regex=False)\n",
    "    df['tar'] = df['tar'].str.replace(\"ANM_b\", \"ANM_B\", regex=False)\n",
    "    df['tar'] = df['tar'].str.replace(\"LOC_2\", \"LOC_I\", regex=False)\n",
    "    df['tar'] = df['tar'].str.replace(r'^C$', 'MAT_B', regex=True)\n",
    "    df['tar'] = df['tar'].str.replace(\"NUMB\", \"NUM_B\", regex=False)\n",
    "    df['tar'] = df['tar'].str.replace(\"NUM_b\", \"NUM_B\", regex=False)\n",
    "    df['tar'] = df['tar'].str.replace(\"NIM_B\", \"NUM_B\", regex=False)\n",
    "    df['tar'] = df['tar'].str.replace(\"TIM_b\", \"TIM_B\", regex=False)\n",
    "    df['tar'] = df['tar'].str.replace('TIOM_I', 'TIM_I', regex=False)\n",
    "    df['tar'] = df['tar'].str.replace(\"WRK_L\", \"WRK_I\", regex=False)\n",
    "    df['tar'] = df['tar'].str.replace(r'^WRK_$', 'WRK_I', regex=True)\n",
    "    df['tar'] = df['tar'].str.replace('WRL_I', 'WRK_I', regex=False)\n",
    "    return df"
   ]
  },
  {
   "cell_type": "code",
   "execution_count": 304,
   "metadata": {},
   "outputs": [],
   "source": [
    "df_1 = preprocess(df_1)\n",
    "df_2 = preprocess(df_2)\n",
    "df_3 = preprocess(df_3)\n",
    "df_4 = preprocess(df_4)"
   ]
  },
  {
   "cell_type": "code",
   "execution_count": 305,
   "metadata": {},
   "outputs": [],
   "source": [
    "# df_1.isnull().any(), df_2.isnull().any(), df_3.isnull().any(), df_4.isnull().any() # not found"
   ]
  },
  {
   "cell_type": "markdown",
   "metadata": {},
   "source": [
    "## Reformat / Tokenization / Integrity Check"
   ]
  },
  {
   "cell_type": "code",
   "execution_count": 306,
   "metadata": {},
   "outputs": [],
   "source": [
    "train = pd.concat([df_1, df_2, df_3, df_4])"
   ]
  },
  {
   "cell_type": "code",
   "execution_count": 307,
   "metadata": {},
   "outputs": [
    {
     "name": "stdout",
     "output_type": "stream",
     "text": [
      "{'[PAD]': 0, '-': 1, 'AFW_B': 2, 'AFW_I': 3, 'ANM_B': 4, 'ANM_I': 5, 'CVL_B': 6, 'CVL_I': 7, 'DAT_B': 8, 'DAT_I': 9, 'LOC_B': 10, 'LOC_I': 11, 'MAT_B': 12, 'MAT_I': 13, 'NUM_B': 14, 'NUM_I': 15, 'TIM_B': 16, 'TIM_I': 17, 'TRM_B': 18, 'TRM_I': 19, 'WRK_B': 20, 'WRK_I': 21}\n",
      "\n",
      "{0: '[PAD]', 1: '-', 2: 'AFW_B', 3: 'AFW_I', 4: 'ANM_B', 5: 'ANM_I', 6: 'CVL_B', 7: 'CVL_I', 8: 'DAT_B', 9: 'DAT_I', 10: 'LOC_B', 11: 'LOC_I', 12: 'MAT_B', 13: 'MAT_I', 14: 'NUM_B', 15: 'NUM_I', 16: 'TIM_B', 17: 'TIM_I', 18: 'TRM_B', 19: 'TRM_I', 20: 'WRK_B', 21: 'WRK_I'}\n",
      "\n",
      "['[PAD]', '-', 'AFW_B', 'AFW_I', 'ANM_B', 'ANM_I', 'CVL_B', 'CVL_I', 'DAT_B', 'DAT_I', 'LOC_B', 'LOC_I', 'MAT_B', 'MAT_I', 'NUM_B', 'NUM_I', 'TIM_B', 'TIM_I', 'TRM_B', 'TRM_I', 'WRK_B', 'WRK_I']\n",
      "\n",
      "num_labels: 22\n"
     ]
    },
    {
     "data": {
      "text/plain": [
       "(None, None, None, None, None, None, None)"
      ]
     },
     "execution_count": 307,
     "metadata": {},
     "output_type": "execute_result"
    }
   ],
   "source": [
    "label = train['tar'].unique().tolist()\n",
    "label.sort()\n",
    "label = ['[PAD]'] +label\n",
    "label_dict = {word:i for i, word in enumerate(label)}\n",
    "# label_dict.update({\"[PAD]\":len(label_dict)})\n",
    "index_to_ner = {i:j for j, i in label_dict.items()}\n",
    "\n",
    "num_labels = len(label)\n",
    "\n",
    "print(label_dict), print(), print(index_to_ner), print(), print(label), print(), print(f'num_labels: {num_labels}')"
   ]
  },
  {
   "cell_type": "code",
   "execution_count": 9,
   "metadata": {},
   "outputs": [],
   "source": [
    "df_1_list = [list(x) for x in df_1[['index', 'src', 'tar']].to_numpy()]\n",
    "df_2_list = [list(x) for x in df_2[['index', 'src', 'tar']].to_numpy()]\n",
    "df_3_list = [list(x) for x in df_3[['index', 'src', 'tar']].to_numpy()]\n",
    "df_4_list = [list(x) for x in df_4[['index', 'src', 'tar']].to_numpy()]"
   ]
  },
  {
   "cell_type": "code",
   "execution_count": 10,
   "metadata": {},
   "outputs": [],
   "source": [
    "def makeTups(data, start_num):\n",
    "    tups = []\n",
    "    temp_tup = []\n",
    "    temp_tup.append(data[0][1:])\n",
    "    for i, j, k in data: # index src tgt\n",
    "        if i != start_num:\n",
    "            temp_tup.append([j,k])\n",
    "        if i == start_num:\n",
    "            if len(temp_tup) != 0:\n",
    "                tups.append(temp_tup)\n",
    "                temp_tup = []\n",
    "                temp_tup.append([j,k])\n",
    "\n",
    "    tups[0].pop(0)\n",
    "    return tups"
   ]
  },
  {
   "cell_type": "code",
   "execution_count": 11,
   "metadata": {},
   "outputs": [
    {
     "name": "stdout",
     "output_type": "stream",
     "text": [
      "1028 151 2236 1299\n"
     ]
    }
   ],
   "source": [
    "tups_1 = makeTups(df_1_list, 0) # start_num 0\n",
    "tups_2 = makeTups(df_2_list, 0) # start_num 0\n",
    "tups_3 = makeTups(df_3_list, 1) # start_num 1\n",
    "tups_4 = makeTups(df_4_list, 1) # start_num 1\n",
    "print(len(tups_1), len(tups_2), len(tups_3), len(tups_4))"
   ]
  },
  {
   "cell_type": "code",
   "execution_count": 12,
   "metadata": {},
   "outputs": [
    {
     "name": "stdout",
     "output_type": "stream",
     "text": [
      "number of samples: 4714\n"
     ]
    }
   ],
   "source": [
    "tups = tups_1 + tups_2 + tups_3 + tups_4\n",
    "print(f'number of samples: {len(tups)}')"
   ]
  },
  {
   "cell_type": "markdown",
   "metadata": {},
   "source": [
    "### Check If Empty"
   ]
  },
  {
   "cell_type": "code",
   "execution_count": 13,
   "metadata": {},
   "outputs": [
    {
     "name": "stdout",
     "output_type": "stream",
     "text": [
      "16 empty elements removed.\n",
      "number of samples: 4698\n"
     ]
    }
   ],
   "source": [
    "# check and remove if there is any empty row\n",
    "\n",
    "empties = []\n",
    "for i, row in enumerate(tups):\n",
    "    if len(row) < 2 and row[0][0] == '':\n",
    "        # print(i, row)\n",
    "        empties.append(i)\n",
    "\n",
    "empties.sort(reverse=True)\n",
    "\n",
    "print(f'{len(empties)} empty elements removed.')\n",
    "\n",
    "for idx in empties:\n",
    "    tups.pop(idx)\n",
    "\n",
    "for i, row in enumerate(tups):\n",
    "    if len(row) < 2 and row[0][0] == '':\n",
    "        print(i, row)\n",
    "\n",
    "print(f'number of samples: {len(tups)}')"
   ]
  },
  {
   "cell_type": "markdown",
   "metadata": {},
   "source": [
    "### Load Tokenizer and Check Special Tokens"
   ]
  },
  {
   "cell_type": "code",
   "execution_count": 14,
   "metadata": {},
   "outputs": [],
   "source": [
    "tokenizer = ElectraTokenizer.from_pretrained('./tokenizer/')"
   ]
  },
  {
   "cell_type": "code",
   "execution_count": 15,
   "metadata": {},
   "outputs": [
    {
     "data": {
      "text/plain": [
       "0"
      ]
     },
     "execution_count": 15,
     "metadata": {},
     "output_type": "execute_result"
    }
   ],
   "source": [
    "tokenizer.pad_token_id"
   ]
  },
  {
   "cell_type": "code",
   "execution_count": 16,
   "metadata": {},
   "outputs": [
    {
     "data": {
      "text/plain": [
       "('[CLS]', '[PAD]', '[UNK]', '[SEP]')"
      ]
     },
     "execution_count": 16,
     "metadata": {},
     "output_type": "execute_result"
    }
   ],
   "source": [
    "init_token = tokenizer.cls_token\n",
    "sep_token = tokenizer.sep_token\n",
    "pad_token = tokenizer.pad_token\n",
    "unk_token = tokenizer.unk_token\n",
    "init_token, pad_token, unk_token, sep_token"
   ]
  },
  {
   "cell_type": "code",
   "execution_count": 17,
   "metadata": {},
   "outputs": [
    {
     "data": {
      "text/plain": [
       "[['소재', 'LOC_I'],\n",
       " ['창고', 'WRK_B'],\n",
       " ['대수선', 'WRK_I'],\n",
       " ['공사현장에서', 'WRK_I'],\n",
       " ['지붕판넬', 'WRK_B'],\n",
       " ['철거작업', 'WRK_I'],\n",
       " ['중', '-'],\n",
       " ['절단', '-'],\n",
       " ['및', '-'],\n",
       " ['고정볼트가', 'AFW_I'],\n",
       " ['해체된', '-'],\n",
       " ['지붕판넬을', 'AFW_B'],\n",
       " ['밟아', '-'],\n",
       " ['떨어짐.', '-']]"
      ]
     },
     "execution_count": 17,
     "metadata": {},
     "output_type": "execute_result"
    }
   ],
   "source": [
    "tups[0]"
   ]
  },
  {
   "cell_type": "code",
   "execution_count": 18,
   "metadata": {},
   "outputs": [],
   "source": [
    "sentences = []\n",
    "targets = []\n",
    "for tup in tups:\n",
    "    sentence = []\n",
    "    target = []\n",
    "    for i, j in tup:\n",
    "        sentence.append(i)\n",
    "        target.append(j)\n",
    "    sentences.append(sentence)\n",
    "    targets.append(target)"
   ]
  },
  {
   "cell_type": "code",
   "execution_count": 19,
   "metadata": {},
   "outputs": [
    {
     "name": "stdout",
     "output_type": "stream",
     "text": [
      "random inddex k is 1054\n",
      "4698\n",
      "4698\n",
      "17\n",
      "17\n",
      "['2014년', '2월', '1일', '인천항', '4부두', '41선석에서', '하역작업', '후', '출거차량이', '후진', '중', '뒤', '섀시를', '부딪친', '사고.', '차량이', '파손됨.']\n",
      "['DAT_B', 'DAT_I', 'DAT_I', 'LOC_B', 'LOC_I', 'LOC_I', 'WRK_B', '-', 'AFW_B', '-', '-', '-', '-', '-', '-', '-', '-']\n"
     ]
    },
    {
     "data": {
      "text/plain": [
       "(None, None)"
      ]
     },
     "execution_count": 19,
     "metadata": {},
     "output_type": "execute_result"
    }
   ],
   "source": [
    "k = random.randrange(len(sentences))\n",
    "print(f'random inddex k is {k}')\n",
    "print(len(sentences)), print(len(targets))\n",
    "print(len(sentences[k])), print(len(targets[k]))\n",
    "print(sentences[k]), print(targets[k])"
   ]
  },
  {
   "cell_type": "code",
   "execution_count": 20,
   "metadata": {},
   "outputs": [],
   "source": [
    "### 길이 검사\n",
    "for sent, tgt in zip(sentences, targets):\n",
    "    if len(sent) != len(tgt):\n",
    "        print(sent)\n",
    "        print(tgt)"
   ]
  },
  {
   "cell_type": "markdown",
   "metadata": {},
   "source": [
    "### Tokenization and Label Matching"
   ]
  },
  {
   "cell_type": "code",
   "execution_count": 21,
   "metadata": {},
   "outputs": [],
   "source": [
    "def tokenize_and_preserve_labels(sentence, text_labels):\n",
    "    tokenized_sentence = []\n",
    "    labels = []\n",
    "    for word, label in zip(sentence, text_labels):\n",
    "        tokenized_word = tokenizer.tokenize(word)\n",
    "        n_subwords = len(tokenized_word)\n",
    "\n",
    "        tokenized_sentence.extend(tokenized_word)\n",
    "\n",
    "        if label[-1] == 'B' and n_subwords > 1:\n",
    "            tail = list(label)\n",
    "            tail[-1] = 'I'\n",
    "            tail = ''.join(tail)\n",
    "            labels.extend([label] + [tail]*(n_subwords-1))\n",
    "        else:\n",
    "            labels.extend([label] * n_subwords)\n",
    "\n",
    "    return tokenized_sentence, labels"
   ]
  },
  {
   "cell_type": "code",
   "execution_count": 22,
   "metadata": {},
   "outputs": [],
   "source": [
    "tokenized_texts_and_labels = [\n",
    "                              tokenize_and_preserve_labels(sent, labs)\n",
    "                              for sent, labs in zip(sentences, targets)\n",
    "                              ]"
   ]
  },
  {
   "cell_type": "code",
   "execution_count": 23,
   "metadata": {},
   "outputs": [],
   "source": [
    "# # [(문장, 개체들), (문장, 개체들),...] 형식으로 저장되어 있음.\n",
    "# k = random.randrange(len(tokenized_texts_and_labels))\n",
    "# print(f'random inddex k is {k}')\n",
    "# print(len(tokenized_texts_and_labels)), print(len(tokenized_texts_and_labels))\n",
    "# print(len(tokenized_texts_and_labels[k][0])), print(len(tokenized_texts_and_labels[k][1]))\n",
    "# print(tokenized_texts_and_labels[k][0]), print(), print(tokenized_texts_and_labels[k][1])"
   ]
  },
  {
   "cell_type": "code",
   "execution_count": 24,
   "metadata": {},
   "outputs": [],
   "source": [
    "tokenized_texts = [token_label_pair[0] for token_label_pair in tokenized_texts_and_labels]\n",
    "labels = [token_label_pair[1] for token_label_pair in tokenized_texts_and_labels]"
   ]
  },
  {
   "cell_type": "code",
   "execution_count": 25,
   "metadata": {},
   "outputs": [],
   "source": [
    "# k = random.randrange(len(tokenized_texts))\n",
    "# print(f'random inddex k is {k}')\n",
    "# print(len(tokenized_texts)), print(len(labels))\n",
    "# print(len(tokenized_texts[k])), print(len(labels[k])), print()\n",
    "# print(tokenized_texts[k]), print(labels[k])\n",
    "# for tok, lab in zip(tokenized_texts[k], labels[k]):\n",
    "#     print(tok, '\\t',lab)"
   ]
  },
  {
   "cell_type": "code",
   "execution_count": 26,
   "metadata": {},
   "outputs": [
    {
     "name": "stdout",
     "output_type": "stream",
     "text": [
      "0\n"
     ]
    }
   ],
   "source": [
    "error_count = 0\n",
    "for txt, lab in zip(tokenized_texts, labels):\n",
    "    if len(txt) != len(lab):\n",
    "        # print(txt)\n",
    "        # print(lab)\n",
    "        error_count += 1\n",
    "print(error_count)"
   ]
  },
  {
   "cell_type": "code",
   "execution_count": 27,
   "metadata": {},
   "outputs": [
    {
     "data": {
      "text/plain": [
       "'the longest is 395'"
      ]
     },
     "execution_count": 27,
     "metadata": {},
     "output_type": "execute_result"
    }
   ],
   "source": [
    "lengths = []\n",
    "for tokens in tokenized_texts:\n",
    "    lengths.append(len(tokens))\n",
    "\n",
    "f'the longest is {max(lengths)}'"
   ]
  },
  {
   "cell_type": "code",
   "execution_count": 28,
   "metadata": {},
   "outputs": [],
   "source": [
    "tokenized_texts_list, labels_list = tokenized_texts, labels"
   ]
  },
  {
   "cell_type": "markdown",
   "metadata": {},
   "source": [
    "### Add Special Tokens and Pad Inputs"
   ]
  },
  {
   "cell_type": "code",
   "execution_count": 29,
   "metadata": {},
   "outputs": [
    {
     "name": "stdout",
     "output_type": "stream",
     "text": [
      "['[PAD]', '-', 'AFW_B', 'AFW_I', 'ANM_B', 'ANM_I', 'CVL_B', 'CVL_I', 'DAT_B', 'DAT_I', 'LOC_B', 'LOC_I', 'MAT_B', 'MAT_I', 'NUM_B', 'NUM_I', 'TIM_B', 'TIM_I', 'TRM_B', 'TRM_I', 'WRK_B', 'WRK_I']\n"
     ]
    }
   ],
   "source": [
    "# print(len(label_dict)), print(len(index_to_ner))\n",
    "# print(label_dict)\n",
    "# print(index_to_ner)\n",
    "print(label)"
   ]
  },
  {
   "cell_type": "code",
   "execution_count": 30,
   "metadata": {},
   "outputs": [],
   "source": [
    "def make_inputs(tokenized_texts_list, labels_list, max_length):\n",
    "    max_length = max_length\n",
    "    input_tokens = []\n",
    "    input_mask = []\n",
    "    input_labels = []\n",
    "    num = len(tokenized_texts_list)\n",
    "    for i in range(num):\n",
    "        data = tokenized_texts_list[i]\n",
    "        labels = labels_list[i]\n",
    "        tmp_tokens = [init_token] + data\n",
    "        tmp_labels = ['-'] + labels\n",
    "        if len(tmp_tokens) < max_length-1:\n",
    "            tmp_tokens += [sep_token]\n",
    "            tmp_labels += ['-']\n",
    "            tmp_mask = [1] * len(tmp_tokens)\n",
    "            for _ in range(max_length-len(tmp_tokens)):\n",
    "                tmp_tokens.append(pad_token)\n",
    "                tmp_labels.append('[PAD]')\n",
    "                tmp_mask.append(0)\n",
    "            input_tokens.append(tmp_tokens)\n",
    "            input_labels.append(tmp_labels)\n",
    "            input_mask.append(tmp_mask)\n",
    "        elif len(tmp_tokens) > max_length-1:\n",
    "            tmp_tokens = tmp_tokens[:max_length-1] + [sep_token]\n",
    "            tmp_labels = tmp_labels[:max_length-1] + ['-']\n",
    "            tmp_mask = [1] * max_length\n",
    "            input_tokens.append(tmp_tokens)\n",
    "            input_labels.append(tmp_labels)\n",
    "            input_mask.append(tmp_mask)\n",
    "        elif len(tmp_tokens) == max_length-1:\n",
    "            tmp_tokens += [sep_token]\n",
    "            tmp_labels += [label_dict['-']]\n",
    "            tmp_mask = [1] * max_length\n",
    "            input_tokens.append(tmp_tokens)\n",
    "            input_labels.append(tmp_labels)\n",
    "            input_mask.append(tmp_mask)\n",
    "\n",
    "    return input_tokens, input_mask, input_labels"
   ]
  },
  {
   "cell_type": "code",
   "execution_count": 31,
   "metadata": {},
   "outputs": [],
   "source": [
    "max_length = 256\n",
    "input_tokens, input_mask, input_labels = make_inputs(tokenized_texts, labels, max_length)"
   ]
  },
  {
   "cell_type": "code",
   "execution_count": 32,
   "metadata": {},
   "outputs": [
    {
     "name": "stdout",
     "output_type": "stream",
     "text": [
      "length of input_tokens: 4698\n",
      "length of input_labels: 4698\n",
      "length of input_mask: 4698\n",
      "random inddex k is 2584\n",
      "256\n",
      "256\n",
      "256\n",
      "\n",
      "['[CLS]', '2021', '##년', '1', '##월', '13', '##일', '오후', '3', '##시', '##경', '경기', '성남시', '분당', '##구', '야', '##탑', '동', '반도체', '실험', '연구소', '##의', '폐', '##용', '##액', '보', '관', '용기', '##에', '##서', '가스', '##가', '누출', '##되', '##는', '사고', '##가', '발생', '##하', '##였', '##다', '.', '1', '##시간', '##여', '만', '##에', '방재', '##는', '완료', '되', '##었', '##다', '.', '반도체', '관련', '실험', '후', '발생', '##한', '폐', '##알', '##칼리', '##성', '용액', '##에', '실수', '##로', '산성', '물질', '##을', '넣', '##어', '화학', '반', '응', '을', '일으킨', '것', '##으로', '추정', '##하', '##고', '있', '##다', '.', '다행히', '인명', '##피', '##해', '##는', '없', '##다', '.', '[SEP]', '[PAD]', '[PAD]', '[PAD]', '[PAD]', '[PAD]', '[PAD]', '[PAD]', '[PAD]', '[PAD]', '[PAD]', '[PAD]', '[PAD]', '[PAD]', '[PAD]', '[PAD]', '[PAD]', '[PAD]', '[PAD]', '[PAD]', '[PAD]', '[PAD]', '[PAD]', '[PAD]', '[PAD]', '[PAD]', '[PAD]', '[PAD]', '[PAD]', '[PAD]', '[PAD]', '[PAD]', '[PAD]', '[PAD]', '[PAD]', '[PAD]', '[PAD]', '[PAD]', '[PAD]', '[PAD]', '[PAD]', '[PAD]', '[PAD]', '[PAD]', '[PAD]', '[PAD]', '[PAD]', '[PAD]', '[PAD]', '[PAD]', '[PAD]', '[PAD]', '[PAD]', '[PAD]', '[PAD]', '[PAD]', '[PAD]', '[PAD]', '[PAD]', '[PAD]', '[PAD]', '[PAD]', '[PAD]', '[PAD]', '[PAD]', '[PAD]', '[PAD]', '[PAD]', '[PAD]', '[PAD]', '[PAD]', '[PAD]', '[PAD]', '[PAD]', '[PAD]', '[PAD]', '[PAD]', '[PAD]', '[PAD]', '[PAD]', '[PAD]', '[PAD]', '[PAD]', '[PAD]', '[PAD]', '[PAD]', '[PAD]', '[PAD]', '[PAD]', '[PAD]', '[PAD]', '[PAD]', '[PAD]', '[PAD]', '[PAD]', '[PAD]', '[PAD]', '[PAD]', '[PAD]', '[PAD]', '[PAD]', '[PAD]', '[PAD]', '[PAD]', '[PAD]', '[PAD]', '[PAD]', '[PAD]', '[PAD]', '[PAD]', '[PAD]', '[PAD]', '[PAD]', '[PAD]', '[PAD]', '[PAD]', '[PAD]', '[PAD]', '[PAD]', '[PAD]', '[PAD]', '[PAD]', '[PAD]', '[PAD]', '[PAD]', '[PAD]', '[PAD]', '[PAD]', '[PAD]', '[PAD]', '[PAD]', '[PAD]', '[PAD]', '[PAD]', '[PAD]', '[PAD]', '[PAD]', '[PAD]', '[PAD]', '[PAD]', '[PAD]', '[PAD]', '[PAD]', '[PAD]', '[PAD]', '[PAD]', '[PAD]', '[PAD]', '[PAD]', '[PAD]', '[PAD]', '[PAD]', '[PAD]', '[PAD]', '[PAD]', '[PAD]', '[PAD]', '[PAD]', '[PAD]', '[PAD]', '[PAD]', '[PAD]']\n",
      "\n",
      "['-', 'DAT_B', 'DAT_I', 'DAT_I', 'DAT_I', 'DAT_I', 'DAT_I', 'TIM_B', 'TIM_I', 'TIM_I', 'TIM_I', 'LOC_B', 'LOC_I', 'LOC_I', 'LOC_I', 'LOC_I', 'LOC_I', 'LOC_I', 'LOC_B', 'LOC_I', 'LOC_I', 'LOC_I', 'LOC_B', 'LOC_I', 'LOC_I', 'LOC_I', 'LOC_I', 'LOC_I', 'LOC_I', 'LOC_I', '-', '-', '-', '-', '-', '-', '-', '-', '-', '-', '-', '-', 'NUM_B', 'NUM_I', 'NUM_I', '-', '-', '-', '-', '-', '-', '-', '-', '-', '-', '-', '-', '-', '-', '-', 'MAT_B', 'MAT_I', 'MAT_I', 'MAT_I', 'MAT_I', 'MAT_I', '-', '-', 'MAT_B', 'MAT_I', 'MAT_I', '-', '-', '-', '-', '-', '-', '-', '-', '-', '-', '-', '-', '-', '-', '-', '-', '-', '-', '-', '-', '-', '-', '-', '-', '[PAD]', '[PAD]', '[PAD]', '[PAD]', '[PAD]', '[PAD]', '[PAD]', '[PAD]', '[PAD]', '[PAD]', '[PAD]', '[PAD]', '[PAD]', '[PAD]', '[PAD]', '[PAD]', '[PAD]', '[PAD]', '[PAD]', '[PAD]', '[PAD]', '[PAD]', '[PAD]', '[PAD]', '[PAD]', '[PAD]', '[PAD]', '[PAD]', '[PAD]', '[PAD]', '[PAD]', '[PAD]', '[PAD]', '[PAD]', '[PAD]', '[PAD]', '[PAD]', '[PAD]', '[PAD]', '[PAD]', '[PAD]', '[PAD]', '[PAD]', '[PAD]', '[PAD]', '[PAD]', '[PAD]', '[PAD]', '[PAD]', '[PAD]', '[PAD]', '[PAD]', '[PAD]', '[PAD]', '[PAD]', '[PAD]', '[PAD]', '[PAD]', '[PAD]', '[PAD]', '[PAD]', '[PAD]', '[PAD]', '[PAD]', '[PAD]', '[PAD]', '[PAD]', '[PAD]', '[PAD]', '[PAD]', '[PAD]', '[PAD]', '[PAD]', '[PAD]', '[PAD]', '[PAD]', '[PAD]', '[PAD]', '[PAD]', '[PAD]', '[PAD]', '[PAD]', '[PAD]', '[PAD]', '[PAD]', '[PAD]', '[PAD]', '[PAD]', '[PAD]', '[PAD]', '[PAD]', '[PAD]', '[PAD]', '[PAD]', '[PAD]', '[PAD]', '[PAD]', '[PAD]', '[PAD]', '[PAD]', '[PAD]', '[PAD]', '[PAD]', '[PAD]', '[PAD]', '[PAD]', '[PAD]', '[PAD]', '[PAD]', '[PAD]', '[PAD]', '[PAD]', '[PAD]', '[PAD]', '[PAD]', '[PAD]', '[PAD]', '[PAD]', '[PAD]', '[PAD]', '[PAD]', '[PAD]', '[PAD]', '[PAD]', '[PAD]', '[PAD]', '[PAD]', '[PAD]', '[PAD]', '[PAD]', '[PAD]', '[PAD]', '[PAD]', '[PAD]', '[PAD]', '[PAD]', '[PAD]', '[PAD]', '[PAD]', '[PAD]', '[PAD]', '[PAD]', '[PAD]', '[PAD]', '[PAD]', '[PAD]', '[PAD]', '[PAD]', '[PAD]', '[PAD]', '[PAD]', '[PAD]', '[PAD]', '[PAD]', '[PAD]', '[PAD]', '[PAD]', '[PAD]', '[PAD]', '[PAD]', '[PAD]']\n",
      "\n",
      "[1, 1, 1, 1, 1, 1, 1, 1, 1, 1, 1, 1, 1, 1, 1, 1, 1, 1, 1, 1, 1, 1, 1, 1, 1, 1, 1, 1, 1, 1, 1, 1, 1, 1, 1, 1, 1, 1, 1, 1, 1, 1, 1, 1, 1, 1, 1, 1, 1, 1, 1, 1, 1, 1, 1, 1, 1, 1, 1, 1, 1, 1, 1, 1, 1, 1, 1, 1, 1, 1, 1, 1, 1, 1, 1, 1, 1, 1, 1, 1, 1, 1, 1, 1, 1, 1, 1, 1, 1, 1, 1, 1, 1, 1, 1, 0, 0, 0, 0, 0, 0, 0, 0, 0, 0, 0, 0, 0, 0, 0, 0, 0, 0, 0, 0, 0, 0, 0, 0, 0, 0, 0, 0, 0, 0, 0, 0, 0, 0, 0, 0, 0, 0, 0, 0, 0, 0, 0, 0, 0, 0, 0, 0, 0, 0, 0, 0, 0, 0, 0, 0, 0, 0, 0, 0, 0, 0, 0, 0, 0, 0, 0, 0, 0, 0, 0, 0, 0, 0, 0, 0, 0, 0, 0, 0, 0, 0, 0, 0, 0, 0, 0, 0, 0, 0, 0, 0, 0, 0, 0, 0, 0, 0, 0, 0, 0, 0, 0, 0, 0, 0, 0, 0, 0, 0, 0, 0, 0, 0, 0, 0, 0, 0, 0, 0, 0, 0, 0, 0, 0, 0, 0, 0, 0, 0, 0, 0, 0, 0, 0, 0, 0, 0, 0, 0, 0, 0, 0, 0, 0, 0, 0, 0, 0, 0, 0, 0, 0, 0, 0, 0, 0, 0, 0, 0, 0]\n"
     ]
    },
    {
     "data": {
      "text/plain": [
       "(None, None, None, None, None, None)"
      ]
     },
     "execution_count": 32,
     "metadata": {},
     "output_type": "execute_result"
    }
   ],
   "source": [
    "print(f'length of input_tokens: {len(input_tokens)}')\n",
    "print(f'length of input_labels: {len(input_labels)}')\n",
    "print(f'length of input_mask: {len(input_mask)}')\n",
    "\n",
    "k = random.randrange(len(input_tokens))\n",
    "print(f'random inddex k is {k}')\n",
    "print(len(input_tokens[k])), print(len(input_labels[k])), print(len(input_mask[k]))\n",
    "print(), print(input_tokens[k]), print(), print(input_labels[k]), print(), print(input_mask[k])"
   ]
  },
  {
   "cell_type": "markdown",
   "metadata": {},
   "source": [
    "### Check Lengths"
   ]
  },
  {
   "cell_type": "code",
   "execution_count": 33,
   "metadata": {},
   "outputs": [
    {
     "name": "stdout",
     "output_type": "stream",
     "text": [
      "0\n"
     ]
    }
   ],
   "source": [
    "temp = 0\n",
    "num = len(input_tokens)\n",
    "for i in range(num):\n",
    "    curr_tokens = input_tokens[i]\n",
    "    curr_label = input_labels[i]\n",
    "    curr_mask = input_mask[i]\n",
    "    \n",
    "    count_tokens, count_label, count_mask = 0,0,0\n",
    "    for count, token in enumerate(curr_tokens):\n",
    "        if token == '[PAD]':\n",
    "            break\n",
    "    count_tokens = count\n",
    "    for count, label in enumerate(curr_label):\n",
    "        if label == '[PAD]':\n",
    "            break\n",
    "    count_label = count\n",
    "    for count, mask in enumerate(curr_mask):\n",
    "        if mask == 0:\n",
    "            break\n",
    "    count_mask = count\n",
    "    if not (count_tokens == count_label == count_mask):\n",
    "        # print(count_tokens, count_label, count_mask)\n",
    "        temp += 1\n",
    "print(temp)"
   ]
  },
  {
   "cell_type": "markdown",
   "metadata": {},
   "source": [
    "### Pair Inputs and Split to Ratio"
   ]
  },
  {
   "cell_type": "code",
   "execution_count": 34,
   "metadata": {},
   "outputs": [],
   "source": [
    "input_pair = []\n",
    "num = len(input_tokens)\n",
    "for i in range(num):\n",
    "    tmp_token_idx = input_tokens[i]\n",
    "    tmp_mask = input_mask[i]\n",
    "    tmp_label_idx = input_labels[i]\n",
    "    input_pair.append((tmp_token_idx, tmp_mask, tmp_label_idx))"
   ]
  },
  {
   "cell_type": "code",
   "execution_count": 35,
   "metadata": {},
   "outputs": [],
   "source": [
    "# k = random.randrange(len(input_tokens))\n",
    "# print(input_pair[k])"
   ]
  },
  {
   "cell_type": "markdown",
   "metadata": {},
   "source": [
    "데이터셋을 8:2 비율로 훈련 데이터셋과 검증 데이터셋으로 분할합니다. 데이터셋의 양이 적어 테스트셋은 생성하지 않았습니다."
   ]
  },
  {
   "cell_type": "code",
   "execution_count": 36,
   "metadata": {},
   "outputs": [],
   "source": [
    "train, valid = train_test_split(input_pair, test_size=0.2)"
   ]
  },
  {
   "cell_type": "code",
   "execution_count": 37,
   "metadata": {},
   "outputs": [
    {
     "name": "stdout",
     "output_type": "stream",
     "text": [
      "3758\n",
      "940\n"
     ]
    },
    {
     "data": {
      "text/plain": [
       "(None, None)"
      ]
     },
     "execution_count": 37,
     "metadata": {},
     "output_type": "execute_result"
    }
   ],
   "source": [
    "print(len(train)), print(len(valid))\n",
    "# print(train[0]), print(valid[0])"
   ]
  },
  {
   "cell_type": "code",
   "execution_count": 38,
   "metadata": {},
   "outputs": [],
   "source": [
    "# temp = []\n",
    "# for e in train[0][0]:\n",
    "#     encoded = tokenizer.convert_tokens_to_ids(str(e))\n",
    "#     temp.append(encoded)\n",
    "# print(temp)"
   ]
  },
  {
   "cell_type": "markdown",
   "metadata": {},
   "source": [
    "### Delcare Dataset (Iterator)"
   ]
  },
  {
   "cell_type": "markdown",
   "metadata": {},
   "source": [
    "pytorch에서 데이터를 받아들일 수 있도록 커스텀 데이터셋을 생성합니다. 이 때 문장을 구성하는 토큰들을 고유한 인덱스 번호로 변환합니다. 마찬가지로 레이블도 인덱스 번호로 변환합니다."
   ]
  },
  {
   "cell_type": "code",
   "execution_count": 39,
   "metadata": {},
   "outputs": [],
   "source": [
    "class CustomDataset(Dataset): \n",
    "    def __init__(self, data, tokenizer):\n",
    "        self.data = data\n",
    "        self.tokenizer = tokenizer\n",
    "    def __len__(self): \n",
    "        return len(self.data)\n",
    "\n",
    "    def __getitem__(self, idx):\n",
    "        tokens = self.data[idx][0]\n",
    "        masks = self.data[idx][1]\n",
    "        labels = self.data[idx][2]\n",
    "        token_ids = []\n",
    "        for token in tokens:\n",
    "            ids = tokenizer.convert_tokens_to_ids(str(token))\n",
    "            token_ids.append(ids)\n",
    "        label_ids = []\n",
    "        for label in labels:\n",
    "            label_ids.append(label_dict[label])\n",
    "                \n",
    "        return (torch.LongTensor(token_ids), torch.LongTensor(masks), torch.LongTensor(label_ids))"
   ]
  },
  {
   "cell_type": "code",
   "execution_count": 40,
   "metadata": {},
   "outputs": [],
   "source": [
    "trainset = CustomDataset(train, tokenizer)\n",
    "validset = CustomDataset(valid, tokenizer)"
   ]
  },
  {
   "cell_type": "markdown",
   "metadata": {},
   "source": [
    "배치 크기가 128인 데이터로더를 생성합니다."
   ]
  },
  {
   "cell_type": "code",
   "execution_count": 41,
   "metadata": {},
   "outputs": [],
   "source": [
    "train_loader = DataLoader(trainset, batch_size = 128, shuffle = True)\n",
    "valid_loader = DataLoader(validset, batch_size = 128, shuffle = True)"
   ]
  },
  {
   "cell_type": "code",
   "execution_count": 42,
   "metadata": {},
   "outputs": [
    {
     "name": "stdout",
     "output_type": "stream",
     "text": [
      "256\n",
      "256\n",
      "256\n"
     ]
    }
   ],
   "source": [
    "for i, el in enumerate(train_loader):\n",
    "    print(len(el[0][0]))\n",
    "    print(len(el[1][0]))\n",
    "    print(len(el[2][0]))\n",
    "    # print(el[0][0])\n",
    "    # print(el[1][0])\n",
    "    # print(el[2][0])\n",
    "    break"
   ]
  },
  {
   "cell_type": "markdown",
   "metadata": {},
   "source": [
    "# Create Model / Training / Evaluation / Inference"
   ]
  },
  {
   "cell_type": "markdown",
   "metadata": {},
   "source": [
    "모델을 생성합니다."
   ]
  },
  {
   "cell_type": "code",
   "execution_count": 43,
   "metadata": {},
   "outputs": [],
   "source": [
    "class BERTPoSTagger(nn.Module):\n",
    "    def __init__(self,\n",
    "                 bert,\n",
    "                 output_dim, \n",
    "                 dropout):\n",
    "        \n",
    "        super().__init__()\n",
    "        \n",
    "        self.bert = bert\n",
    "        \n",
    "        embedding_dim = bert.config.to_dict()['hidden_size']\n",
    "        \n",
    "        self.fc = nn.Linear(embedding_dim, output_dim)\n",
    "        \n",
    "        self.dropout = nn.Dropout(dropout)\n",
    "        \n",
    "    def forward(self, text, mask):\n",
    "        \n",
    "        #text = [batch size, sent len]\n",
    "        embedded = self.dropout(self.bert(text, mask)[0])\n",
    "        #embedded = [batch size, seq len, emb dim]\n",
    "        \n",
    "        predictions = self.fc(self.dropout(embedded))\n",
    "        \n",
    "        \n",
    "        return predictions"
   ]
  },
  {
   "cell_type": "code",
   "execution_count": 44,
   "metadata": {},
   "outputs": [
    {
     "name": "stderr",
     "output_type": "stream",
     "text": [
      "Some weights of the model checkpoint at monologg/koelectra-base-v3-discriminator were not used when initializing ElectraModel: ['discriminator_predictions.dense_prediction.bias', 'discriminator_predictions.dense.weight', 'discriminator_predictions.dense.bias', 'discriminator_predictions.dense_prediction.weight']\n",
      "- This IS expected if you are initializing ElectraModel from the checkpoint of a model trained on another task or with another architecture (e.g. initializing a BertForSequenceClassification model from a BertForPreTraining model).\n",
      "- This IS NOT expected if you are initializing ElectraModel from the checkpoint of a model that you expect to be exactly identical (initializing a BertForSequenceClassification model from a BertForSequenceClassification model).\n"
     ]
    },
    {
     "name": "stdout",
     "output_type": "stream",
     "text": [
      "36223\n"
     ]
    }
   ],
   "source": [
    "bert = ElectraModel.from_pretrained(\"monologg/koelectra-base-v3-discriminator\")\n",
    "print(len(tokenizer))"
   ]
  },
  {
   "cell_type": "code",
   "execution_count": 45,
   "metadata": {},
   "outputs": [],
   "source": [
    "# bert.config.save_pretrained('./bert_config')"
   ]
  },
  {
   "cell_type": "code",
   "execution_count": 46,
   "metadata": {},
   "outputs": [
    {
     "data": {
      "text/plain": [
       "Embedding(36223, 768)"
      ]
     },
     "execution_count": 46,
     "metadata": {},
     "output_type": "execute_result"
    }
   ],
   "source": [
    "OUTPUT_DIM = num_labels\n",
    "DROPOUT = 0.25\n",
    "\n",
    "model = BERTPoSTagger(bert,\n",
    "                      OUTPUT_DIM, \n",
    "                      DROPOUT)\n",
    "model.bert.resize_token_embeddings(len(tokenizer))"
   ]
  },
  {
   "cell_type": "code",
   "execution_count": 47,
   "metadata": {},
   "outputs": [
    {
     "data": {
      "text/plain": [
       "768"
      ]
     },
     "execution_count": 47,
     "metadata": {},
     "output_type": "execute_result"
    }
   ],
   "source": [
    "model.bert.config.to_dict()['hidden_size']"
   ]
  },
  {
   "cell_type": "code",
   "execution_count": 48,
   "metadata": {},
   "outputs": [
    {
     "data": {
      "text/plain": [
       "torch.Size([1, 256, 768])"
      ]
     },
     "execution_count": 48,
     "metadata": {},
     "output_type": "execute_result"
    }
   ],
   "source": [
    "bert_result = model.bert(trainset[0][0].unsqueeze(0), trainset[0][1].unsqueeze(0))\n",
    "bert_result.last_hidden_state.shape"
   ]
  },
  {
   "cell_type": "code",
   "execution_count": 49,
   "metadata": {},
   "outputs": [
    {
     "data": {
      "text/plain": [
       "torch.Size([1, 256, 22])"
      ]
     },
     "execution_count": 49,
     "metadata": {},
     "output_type": "execute_result"
    }
   ],
   "source": [
    "tagger_result = model(trainset[0][0].unsqueeze(0), trainset[0][1].unsqueeze(0))\n",
    "tagger_result.shape"
   ]
  },
  {
   "cell_type": "markdown",
   "metadata": {},
   "source": [
    "모델을 학습시키기 위한 옵티마이저와 목적함수(cross entropy)를 호출합니다."
   ]
  },
  {
   "cell_type": "code",
   "execution_count": 50,
   "metadata": {},
   "outputs": [],
   "source": [
    "LEARNING_RATE = 5e-5\n",
    "\n",
    "optimizer = optim.Adam(model.parameters(), lr = LEARNING_RATE)"
   ]
  },
  {
   "cell_type": "code",
   "execution_count": 51,
   "metadata": {},
   "outputs": [],
   "source": [
    "criterion = nn.CrossEntropyLoss(ignore_index = 0)"
   ]
  },
  {
   "cell_type": "markdown",
   "metadata": {},
   "source": [
    "GPU 연산을 위해 cuda를 호출합니다. 이 때 복수의 연산장치(GPU)가 있을 경우 모든 연산장치를 활용하여 연산의 속도를 높이도록 설정합니다."
   ]
  },
  {
   "cell_type": "code",
   "execution_count": 52,
   "metadata": {},
   "outputs": [],
   "source": [
    "device = torch.device('cuda' if torch.cuda.is_available() else 'cpu')\n",
    "\n",
    "NGPU = torch.cuda.device_count()\n",
    "if NGPU > 1:\n",
    "    model = torch.nn.DataParallel(model, device_ids=list(range(NGPU)))\n",
    "    # model = torch.nn.DataParallel(model, device_ids=[0,1])\n",
    "    # torch.multiprocessing.set_start_method('spawn', force=True)\n",
    "model = model.to(device)\n",
    "criterion = criterion.to(device)"
   ]
  },
  {
   "cell_type": "markdown",
   "metadata": {},
   "source": [
    "정확도를 계산하기 위한 함수를 생성합니다."
   ]
  },
  {
   "cell_type": "code",
   "execution_count": 53,
   "metadata": {},
   "outputs": [],
   "source": [
    "def categorical_accuracy(preds, y, tag_pad_idx):\n",
    "    \"\"\"\n",
    "    Returns accuracy per batch, i.e. if you get 8/10 right, this returns 0.8, NOT 8\n",
    "    \"\"\"\n",
    "    max_preds = preds.argmax(dim = -1, keepdim = True) # get the index of the max probability\n",
    "    non_pad_elements = (y != tag_pad_idx).nonzero()\n",
    "    correct = max_preds[non_pad_elements].squeeze(1).eq(y[non_pad_elements])\n",
    "    return correct.sum() / torch.FloatTensor([y[non_pad_elements].shape[0]]).to(device)"
   ]
  },
  {
   "cell_type": "code",
   "execution_count": 54,
   "metadata": {},
   "outputs": [],
   "source": [
    "def categorical_f1(preds, y, tag_pad_idx):\n",
    "    \"\"\"\n",
    "    Returns accuracy per batch, i.e. if you get 8/10 right, this returns 0.8, NOT 8\n",
    "    \"\"\"\n",
    "    max_preds = preds.argmax(dim = -1, keepdim = True) # get the index of the max probability\n",
    "    non_pad_elements = (y != tag_pad_idx).nonzero()\n",
    "    max_preds_no_pad = max_preds[non_pad_elements].squeeze(1).detach().cpu()\n",
    "    y_no_pad = y[non_pad_elements].detach().cpu()\n",
    "    \n",
    "    f1_macro = f1_score(y_no_pad, max_preds_no_pad, average='macro')\n",
    "    f1_micro = f1_score(y_no_pad, max_preds_no_pad, average='micro')    \n",
    "    \n",
    "    return f1_macro, f1_micro"
   ]
  },
  {
   "cell_type": "markdown",
   "metadata": {},
   "source": [
    "모델을 훈련시키기 위한 함수입니다."
   ]
  },
  {
   "cell_type": "code",
   "execution_count": 55,
   "metadata": {},
   "outputs": [],
   "source": [
    "def train(model, iterator, optimizer, criterion, tag_pad_idx):\n",
    "    \n",
    "    epoch_loss = 0\n",
    "    epoch_acc = 0\n",
    "    \n",
    "    model.train()\n",
    "    \n",
    "    for batch in iterator:\n",
    "        \n",
    "        text = batch[0].to(device)\n",
    "        mask = batch[1].to(device)\n",
    "        tags = batch[2].to(device)\n",
    "\n",
    "        optimizer.zero_grad()\n",
    "        \n",
    "        #text = [sent len, batch size]\n",
    "        \n",
    "        # print(text)\n",
    "        # print()\n",
    "        # print(mask)\n",
    "        # print()\n",
    "        # print(tags)\n",
    "                \n",
    "        predictions = model(text, mask)\n",
    "\n",
    "        # print()\n",
    "        # print(predictions)\n",
    "        \n",
    "        #predictions = [sent len, batch size, output dim]\n",
    "        #tags = [sent len, batch size]\n",
    "        # torch.Size([32, 256, 40])\n",
    "        predictions = predictions.view(-1, predictions.shape[-1]) # shape(batchsize, length, ouputdim) --> shape(batchsize, length*outputdim)\n",
    "        # torch.Size([8192, 40])\n",
    "        tags = tags.view(-1)\n",
    "        \n",
    "        #predictions = [sent len * batch size, output dim]\n",
    "        #tags = [sent len * batch size]\n",
    "        \n",
    "        loss = criterion(predictions, tags)\n",
    "                \n",
    "        acc = categorical_accuracy(predictions, tags, tag_pad_idx)\n",
    "        \n",
    "        loss.backward()\n",
    "        \n",
    "        optimizer.step()\n",
    "        \n",
    "        epoch_loss += loss.item()\n",
    "        epoch_acc += acc.item()\n",
    "        \n",
    "    return epoch_loss / len(iterator), epoch_acc / len(iterator)"
   ]
  },
  {
   "cell_type": "markdown",
   "metadata": {},
   "source": [
    "모델의 성능을 평가하기 위한 함수입니다."
   ]
  },
  {
   "cell_type": "code",
   "execution_count": 56,
   "metadata": {},
   "outputs": [],
   "source": [
    "def evaluate(model, iterator, criterion, tag_pad_idx):\n",
    "    epoch_loss = 0\n",
    "    epoch_acc = 0\n",
    "    \n",
    "    model.eval()\n",
    "    \n",
    "    predictions_set = None\n",
    "    tags_set = None\n",
    "    \n",
    "    with torch.no_grad():\n",
    "        for batch in iterator:\n",
    "            text = batch[0].to(device)\n",
    "            mask = batch[1].to(device)\n",
    "            tags = batch[2].to(device)\n",
    "            \n",
    "            predictions = model(text, mask)\n",
    "            predictions = predictions.view(-1, predictions.shape[-1])\n",
    "            tags = tags.view(-1)\n",
    "            \n",
    "            if predictions_set == None:\n",
    "                predictions_set = predictions\n",
    "                tags_set = tags\n",
    "            else:\n",
    "                predictions_set = torch.cat([predictions_set, predictions], dim=0)\n",
    "                tags_set = torch.cat([tags_set, tags], dim=0)\n",
    "            \n",
    "            loss = criterion(predictions, tags)\n",
    "            acc = categorical_accuracy(predictions, tags, tag_pad_idx)\n",
    "\n",
    "            epoch_loss += loss.item()\n",
    "            epoch_acc += acc.item()\n",
    "\n",
    "        f1_macro, f1_micro = categorical_f1(predictions_set, tags_set, tag_pad_idx)\n",
    "        \n",
    "    return epoch_loss / len(iterator), epoch_acc / len(iterator), f1_macro, f1_micro"
   ]
  },
  {
   "cell_type": "markdown",
   "metadata": {},
   "source": [
    "에폭마다 걸리는 시간을 계산하기 위한 함수입니다."
   ]
  },
  {
   "cell_type": "code",
   "execution_count": 57,
   "metadata": {},
   "outputs": [],
   "source": [
    "def epoch_time(start_time, end_time):\n",
    "    elapsed_time = end_time - start_time\n",
    "    elapsed_mins = int(elapsed_time / 60)\n",
    "    elapsed_secs = int(elapsed_time - (elapsed_mins * 60))\n",
    "    return elapsed_mins, elapsed_secs"
   ]
  },
  {
   "cell_type": "markdown",
   "metadata": {},
   "source": [
    "실질적으로 모델을 학습시킵니다. 에폭마다 검증데이터셋에서 성능을 평가하여 검증데이터셋에서 가장 좋은 성능을 보여줬을 때의 모델의 weight를 저장합니다."
   ]
  },
  {
   "cell_type": "code",
   "execution_count": 58,
   "metadata": {},
   "outputs": [
    {
     "name": "stderr",
     "output_type": "stream",
     "text": [
      "/tmp/ipykernel_1500/2392774607.py:6: UserWarning: This overload of nonzero is deprecated:\n",
      "\tnonzero()\n",
      "Consider using one of the following signatures instead:\n",
      "\tnonzero(*, bool as_tuple) (Triggered internally at  /opt/conda/conda-bld/pytorch_1607370172916/work/torch/csrc/utils/python_arg_parser.cpp:882.)\n",
      "  non_pad_elements = (y != tag_pad_idx).nonzero()\n"
     ]
    },
    {
     "name": "stdout",
     "output_type": "stream",
     "text": [
      "Epoch: 01 | Epoch Time: 1m 16s\n",
      "\tTrain Loss: 1.811 | Train Acc: 55.65%\n",
      "\t Val. Loss: 1.157 |  Val. Acc: 70.03%\n",
      "\t Val. F1 Mac: 0.16 |  Val. F1 Mic: 0.70\n",
      "Epoch: 02 | Epoch Time: 0m 54s\n",
      "\tTrain Loss: 0.982 | Train Acc: 74.47%\n",
      "\t Val. Loss: 0.728 |  Val. Acc: 80.48%\n",
      "\t Val. F1 Mac: 0.47 |  Val. F1 Mic: 0.80\n",
      "Epoch: 03 | Epoch Time: 0m 55s\n",
      "\tTrain Loss: 0.676 | Train Acc: 82.02%\n",
      "\t Val. Loss: 0.557 |  Val. Acc: 84.25%\n",
      "\t Val. F1 Mac: 0.59 |  Val. F1 Mic: 0.84\n",
      "Epoch: 04 | Epoch Time: 0m 55s\n",
      "\tTrain Loss: 0.528 | Train Acc: 85.43%\n",
      "\t Val. Loss: 0.506 |  Val. Acc: 84.28%\n",
      "\t Val. F1 Mac: 0.61 |  Val. F1 Mic: 0.84\n",
      "Epoch: 05 | Epoch Time: 0m 56s\n",
      "\tTrain Loss: 0.451 | Train Acc: 86.96%\n",
      "\t Val. Loss: 0.491 |  Val. Acc: 84.31%\n",
      "\t Val. F1 Mac: 0.62 |  Val. F1 Mic: 0.84\n",
      "Epoch: 06 | Epoch Time: 0m 55s\n",
      "\tTrain Loss: 0.397 | Train Acc: 88.18%\n",
      "\t Val. Loss: 0.450 |  Val. Acc: 85.93%\n",
      "\t Val. F1 Mac: 0.68 |  Val. F1 Mic: 0.86\n",
      "Epoch: 07 | Epoch Time: 0m 55s\n",
      "\tTrain Loss: 0.354 | Train Acc: 89.41%\n",
      "\t Val. Loss: 0.450 |  Val. Acc: 86.59%\n",
      "\t Val. F1 Mac: 0.71 |  Val. F1 Mic: 0.87\n",
      "Epoch: 08 | Epoch Time: 0m 55s\n",
      "\tTrain Loss: 0.323 | Train Acc: 90.35%\n",
      "\t Val. Loss: 0.440 |  Val. Acc: 86.83%\n",
      "\t Val. F1 Mac: 0.75 |  Val. F1 Mic: 0.87\n",
      "Epoch: 09 | Epoch Time: 0m 55s\n",
      "\tTrain Loss: 0.294 | Train Acc: 91.28%\n",
      "\t Val. Loss: 0.439 |  Val. Acc: 86.93%\n",
      "\t Val. F1 Mac: 0.76 |  Val. F1 Mic: 0.87\n",
      "Epoch: 10 | Epoch Time: 0m 54s\n",
      "\tTrain Loss: 0.269 | Train Acc: 91.93%\n",
      "\t Val. Loss: 0.442 |  Val. Acc: 86.97%\n",
      "\t Val. F1 Mac: 0.77 |  Val. F1 Mic: 0.87\n",
      "Epoch: 11 | Epoch Time: 0m 55s\n",
      "\tTrain Loss: 0.247 | Train Acc: 92.71%\n",
      "\t Val. Loss: 0.439 |  Val. Acc: 87.24%\n",
      "\t Val. F1 Mac: 0.78 |  Val. F1 Mic: 0.87\n",
      "Epoch: 12 | Epoch Time: 0m 55s\n",
      "\tTrain Loss: 0.228 | Train Acc: 93.32%\n",
      "\t Val. Loss: 0.437 |  Val. Acc: 87.58%\n",
      "\t Val. F1 Mac: 0.78 |  Val. F1 Mic: 0.88\n",
      "Epoch: 13 | Epoch Time: 0m 55s\n",
      "\tTrain Loss: 0.216 | Train Acc: 93.64%\n",
      "\t Val. Loss: 0.452 |  Val. Acc: 87.30%\n",
      "\t Val. F1 Mac: 0.79 |  Val. F1 Mic: 0.88\n",
      "Epoch: 14 | Epoch Time: 0m 55s\n",
      "\tTrain Loss: 0.198 | Train Acc: 94.20%\n",
      "\t Val. Loss: 0.433 |  Val. Acc: 88.17%\n",
      "\t Val. F1 Mac: 0.80 |  Val. F1 Mic: 0.88\n",
      "Epoch: 15 | Epoch Time: 0m 55s\n",
      "\tTrain Loss: 0.184 | Train Acc: 94.58%\n",
      "\t Val. Loss: 0.456 |  Val. Acc: 87.83%\n",
      "\t Val. F1 Mac: 0.80 |  Val. F1 Mic: 0.88\n",
      "Epoch: 16 | Epoch Time: 0m 55s\n",
      "\tTrain Loss: 0.176 | Train Acc: 94.76%\n",
      "\t Val. Loss: 0.457 |  Val. Acc: 87.85%\n",
      "\t Val. F1 Mac: 0.80 |  Val. F1 Mic: 0.88\n",
      "Epoch: 17 | Epoch Time: 0m 57s\n",
      "\tTrain Loss: 0.168 | Train Acc: 95.02%\n",
      "\t Val. Loss: 0.483 |  Val. Acc: 87.68%\n",
      "\t Val. F1 Mac: 0.80 |  Val. F1 Mic: 0.88\n",
      "Epoch: 18 | Epoch Time: 0m 57s\n",
      "\tTrain Loss: 0.164 | Train Acc: 95.12%\n",
      "\t Val. Loss: 0.467 |  Val. Acc: 88.12%\n",
      "\t Val. F1 Mac: 0.80 |  Val. F1 Mic: 0.88\n",
      "Epoch: 19 | Epoch Time: 0m 55s\n",
      "\tTrain Loss: 0.158 | Train Acc: 95.28%\n",
      "\t Val. Loss: 0.466 |  Val. Acc: 88.26%\n",
      "\t Val. F1 Mac: 0.81 |  Val. F1 Mic: 0.88\n",
      "Epoch: 20 | Epoch Time: 0m 55s\n",
      "\tTrain Loss: 0.148 | Train Acc: 95.49%\n",
      "\t Val. Loss: 0.461 |  Val. Acc: 88.09%\n",
      "\t Val. F1 Mac: 0.81 |  Val. F1 Mic: 0.88\n",
      "Epoch: 21 | Epoch Time: 0m 56s\n",
      "\tTrain Loss: 0.135 | Train Acc: 95.93%\n",
      "\t Val. Loss: 0.487 |  Val. Acc: 88.02%\n",
      "\t Val. F1 Mac: 0.81 |  Val. F1 Mic: 0.88\n",
      "Epoch: 22 | Epoch Time: 0m 56s\n",
      "\tTrain Loss: 0.134 | Train Acc: 95.89%\n",
      "\t Val. Loss: 0.481 |  Val. Acc: 88.40%\n",
      "\t Val. F1 Mac: 0.81 |  Val. F1 Mic: 0.88\n",
      "Epoch: 23 | Epoch Time: 0m 55s\n",
      "\tTrain Loss: 0.127 | Train Acc: 96.05%\n",
      "\t Val. Loss: 0.493 |  Val. Acc: 88.31%\n",
      "\t Val. F1 Mac: 0.81 |  Val. F1 Mic: 0.88\n",
      "Epoch: 24 | Epoch Time: 0m 55s\n",
      "\tTrain Loss: 0.126 | Train Acc: 96.00%\n",
      "\t Val. Loss: 0.488 |  Val. Acc: 88.38%\n",
      "\t Val. F1 Mac: 0.81 |  Val. F1 Mic: 0.88\n",
      "Epoch: 25 | Epoch Time: 0m 55s\n",
      "\tTrain Loss: 0.119 | Train Acc: 96.14%\n",
      "\t Val. Loss: 0.483 |  Val. Acc: 88.23%\n",
      "\t Val. F1 Mac: 0.81 |  Val. F1 Mic: 0.88\n",
      "Epoch: 26 | Epoch Time: 0m 55s\n",
      "\tTrain Loss: 0.114 | Train Acc: 96.28%\n",
      "\t Val. Loss: 0.494 |  Val. Acc: 88.52%\n",
      "\t Val. F1 Mac: 0.81 |  Val. F1 Mic: 0.88\n",
      "Epoch: 27 | Epoch Time: 0m 56s\n",
      "\tTrain Loss: 0.109 | Train Acc: 96.41%\n",
      "\t Val. Loss: 0.516 |  Val. Acc: 88.24%\n",
      "\t Val. F1 Mac: 0.81 |  Val. F1 Mic: 0.88\n",
      "Epoch: 28 | Epoch Time: 0m 55s\n",
      "\tTrain Loss: 0.106 | Train Acc: 96.51%\n",
      "\t Val. Loss: 0.489 |  Val. Acc: 88.65%\n",
      "\t Val. F1 Mac: 0.82 |  Val. F1 Mic: 0.89\n",
      "Epoch: 29 | Epoch Time: 0m 55s\n",
      "\tTrain Loss: 0.104 | Train Acc: 96.49%\n",
      "\t Val. Loss: 0.498 |  Val. Acc: 88.58%\n",
      "\t Val. F1 Mac: 0.81 |  Val. F1 Mic: 0.88\n",
      "Epoch: 30 | Epoch Time: 0m 55s\n",
      "\tTrain Loss: 0.100 | Train Acc: 96.58%\n",
      "\t Val. Loss: 0.518 |  Val. Acc: 88.26%\n",
      "\t Val. F1 Mac: 0.81 |  Val. F1 Mic: 0.88\n"
     ]
    }
   ],
   "source": [
    "N_EPOCHS = 30\n",
    "\n",
    "best_valid_loss = float('inf')\n",
    "\n",
    "for epoch in range(N_EPOCHS):\n",
    "\n",
    "    start_time = time.time()\n",
    "    \n",
    "    train_loss, train_acc = train(model, train_loader, optimizer, criterion, 0)\n",
    "    valid_loss, valid_acc, f1_mac, f1_mic = evaluate(model, valid_loader, criterion, 0)\n",
    "    \n",
    "    end_time = time.time()\n",
    "\n",
    "    epoch_mins, epoch_secs = epoch_time(start_time, end_time)\n",
    "    \n",
    "    if valid_loss < best_valid_loss:\n",
    "        best_valid_loss = valid_loss\n",
    "        torch.save(model.state_dict(), 'tut2-model.pt')\n",
    "    \n",
    "    print(f'Epoch: {epoch+1:02} | Epoch Time: {epoch_mins}m {epoch_secs}s')\n",
    "    print(f'\\tTrain Loss: {train_loss:.3f} | Train Acc: {train_acc*100:.2f}%')\n",
    "    print(f'\\t Val. Loss: {valid_loss:.3f} |  Val. Acc: {valid_acc*100:.2f}%')\n",
    "    print(f'\\t Val. F1 Mac: {f1_mac:.2f} |  Val. F1 Mic: {f1_mic:.2f}')"
   ]
  },
  {
   "cell_type": "markdown",
   "metadata": {},
   "source": [
    "학습된 모델을 이용하여 예시 문장으로 inference 합니다."
   ]
  },
  {
   "cell_type": "code",
   "execution_count": 59,
   "metadata": {},
   "outputs": [
    {
     "name": "stdout",
     "output_type": "stream",
     "text": [
      "2013 DAT_B\n",
      "##년 DAT_I\n",
      "11 DAT_I\n",
      "##월 DAT_I\n",
      "18 DAT_I\n",
      "##일 DAT_I\n",
      "인천 LOC_B\n",
      "항 LOC_I\n",
      "4 LOC_I\n",
      "부두 LOC_I\n",
      "에서 LOC_I\n",
      "컨테이너 WRK_B\n",
      "작업 WRK_I\n",
      "중 -\n",
      "핸들러 AFW_B\n",
      "집게 AFW_I\n",
      "##가 AFW_I\n",
      "풀리 -\n",
      "##면 -\n",
      "##서 -\n",
      "피해자 CVL_B\n",
      "끼 -\n",
      "##임 -\n",
      ". -\n",
      "허리 ANM_B\n",
      "##에 ANM_I\n",
      "경상 -\n",
      "##을 -\n",
      "입 -\n",
      "##음 -\n"
     ]
    }
   ],
   "source": [
    "model.load_state_dict(torch.load(\"tut2-model.pt\"))\n",
    "model.eval()\n",
    "with torch.no_grad():\n",
    "    sample = '2013년 11월 18일 인천항 4부두에서 컨테이너 작업 중 핸들러 집게가 풀리면서 피해자 끼임. 허리에 경상을 입음'\n",
    "    words = tokenizer.tokenize(sample)\n",
    "    tokens = tokenizer(sample)[\"input_ids\"]\n",
    "    mask = tokenizer(sample)['attention_mask']\n",
    "    tensor = torch.LongTensor(tokens).unsqueeze(0).to(device)\n",
    "    tensor_mask = torch.LongTensor(mask).unsqueeze(0).to(device)\n",
    "    logit = model(tensor, tensor_mask)\n",
    "    pred = torch.argmax(logit, dim=-1).squeeze().detach().cpu().tolist()\n",
    "    for i in range(len(words)):\n",
    "        print(words[i], index_to_ner[pred[i+1]])"
   ]
  },
  {
   "cell_type": "markdown",
   "metadata": {},
   "source": [
    "검증 데이터셋에서 5%의 데이터를 임의로 추출하여 inference 한 다음 그 결과를 csv파일로 저장합니다."
   ]
  },
  {
   "cell_type": "code",
   "execution_count": 60,
   "metadata": {},
   "outputs": [
    {
     "name": "stdout",
     "output_type": "stream",
     "text": [
      "47\n"
     ]
    }
   ],
   "source": [
    "import random\n",
    "import numpy as np\n",
    "\n",
    "num = len(valid)\n",
    "random_choice = np.random.choice(num, int(num*0.05), replace=False).tolist()\n",
    "selected_sample = []\n",
    "\n",
    "for i in random_choice:\n",
    "    selected_sample.append(valid[i])\n",
    "    \n",
    "print(len(selected_sample))"
   ]
  },
  {
   "cell_type": "code",
   "execution_count": 61,
   "metadata": {},
   "outputs": [],
   "source": [
    "model.eval()\n",
    "with torch.no_grad():\n",
    "    sample_results = []\n",
    "    for idx, _ in enumerate(selected_sample):\n",
    "        item = selected_sample[idx]\n",
    "        token_ids = list(map(lambda x:tokenizer.convert_tokens_to_ids(x), item[0]))\n",
    "        input_tensor = torch.LongTensor(token_ids).unsqueeze(0).to(device)\n",
    "        mask_tensor = torch.LongTensor(item[1]).unsqueeze(0).to(device)\n",
    "        output = model(input_tensor, mask_tensor)\n",
    "        pred = torch.argmax(output, dim=-1).squeeze().detach().cpu().tolist()\n",
    "        sample_results.append(pred)"
   ]
  },
  {
   "cell_type": "code",
   "execution_count": 62,
   "metadata": {},
   "outputs": [
    {
     "name": "stdout",
     "output_type": "stream",
     "text": [
      "[CLS] -\n",
      "2020 DAT_B\n",
      "##년 DAT_I\n",
      "9 DAT_I\n",
      "##월 DAT_I\n",
      "27 DAT_I\n",
      "##일 DAT_I\n",
      "중 LOC_B\n",
      "국 LOC_I\n",
      "충칭 LOC_I\n",
      "탄광 LOC_I\n",
      "##에 LOC_I\n",
      "##서 LOC_I\n",
      "일산 MAT_B\n",
      "##화 MAT_I\n",
      "##탄소 MAT_I\n",
      "가스 MAT_I\n",
      "중독 -\n",
      "으로 -\n",
      "16 NUM_B\n",
      "##명 NUM_I\n",
      "사망 -\n",
      "##하 -\n",
      "##고 -\n",
      "38 NUM_B\n",
      "##명 NUM_I\n",
      "##이 NUM_I\n",
      "부상 -\n",
      "##을 -\n",
      "입 -\n",
      "##었 -\n",
      "##다 -\n",
      ". -\n",
      "사고 -\n",
      "예비 -\n",
      "##조사 -\n",
      "결과 -\n",
      "석 MAT_B\n",
      "탄 MAT_I\n",
      "##을 MAT_I\n",
      "운반 -\n",
      "한 -\n",
      "커 TRM_B\n",
      "##넵 TRM_I\n",
      "##이 TRM_I\n",
      "##어 TRM_I\n",
      "벨트 TRM_I\n",
      "는 TRM_I\n",
      "마찰 -\n",
      "##과 -\n",
      "석 MAT_B\n",
      "탄 MAT_I\n",
      "연소 -\n",
      "##를 -\n",
      "유발 -\n",
      "##했 -\n",
      "##다 -\n",
      ". -\n",
      "이 -\n",
      "결과 -\n",
      "유해 -\n",
      "및 -\n",
      "유독 -\n",
      "가스 -\n",
      "발생 -\n",
      "##과 -\n",
      "긴급 -\n",
      "구조 -\n",
      "##에 -\n",
      "실패 -\n",
      "##하여 -\n",
      "16 NUM_B\n",
      "명이 NUM_I\n",
      "사망 -\n",
      "##하 -\n",
      "##고 -\n",
      "38 NUM_B\n",
      "명이 NUM_I\n",
      "중독 -\n",
      "및 -\n",
      "부상 -\n",
      "##을 -\n",
      "입 -\n",
      "##었 -\n",
      "##습 -\n",
      "##니다 -\n",
      ". -\n",
      "[SEP] -\n",
      "[PAD] -\n",
      "[PAD] -\n",
      "[PAD] -\n",
      "[PAD] -\n",
      "[PAD] -\n",
      "[PAD] -\n",
      "[PAD] -\n",
      "[PAD] -\n",
      "[PAD] -\n",
      "[PAD] -\n",
      "[PAD] -\n",
      "[PAD] -\n",
      "[PAD] -\n",
      "[PAD] -\n",
      "[PAD] -\n",
      "[PAD] -\n",
      "[PAD] -\n",
      "[PAD] -\n",
      "[PAD] -\n",
      "[PAD] DAT_B\n",
      "[PAD] DAT_B\n",
      "[PAD] DAT_B\n",
      "[PAD] DAT_I\n",
      "[PAD] DAT_I\n",
      "[PAD] -\n",
      "[PAD] -\n",
      "[PAD] -\n",
      "[PAD] -\n",
      "[PAD] -\n",
      "[PAD] -\n",
      "[PAD] -\n",
      "[PAD] -\n",
      "[PAD] -\n",
      "[PAD] -\n",
      "[PAD] -\n",
      "[PAD] -\n",
      "[PAD] -\n",
      "[PAD] -\n",
      "[PAD] -\n",
      "[PAD] -\n",
      "[PAD] -\n",
      "[PAD] -\n",
      "[PAD] -\n",
      "[PAD] -\n",
      "[PAD] -\n",
      "[PAD] -\n",
      "[PAD] -\n",
      "[PAD] -\n",
      "[PAD] -\n",
      "[PAD] -\n",
      "[PAD] -\n",
      "[PAD] -\n",
      "[PAD] -\n",
      "[PAD] -\n",
      "[PAD] -\n",
      "[PAD] -\n",
      "[PAD] -\n",
      "[PAD] -\n",
      "[PAD] -\n",
      "[PAD] -\n",
      "[PAD] DAT_B\n",
      "[PAD] DAT_I\n",
      "[PAD] DAT_I\n",
      "[PAD] DAT_I\n",
      "[PAD] -\n",
      "[PAD] -\n",
      "[PAD] -\n",
      "[PAD] -\n",
      "[PAD] -\n",
      "[PAD] -\n",
      "[PAD] -\n",
      "[PAD] -\n",
      "[PAD] -\n",
      "[PAD] -\n",
      "[PAD] DAT_B\n",
      "[PAD] -\n",
      "[PAD] -\n",
      "[PAD] DAT_B\n",
      "[PAD] DAT_B\n",
      "[PAD] DAT_I\n",
      "[PAD] DAT_I\n",
      "[PAD] DAT_I\n",
      "[PAD] DAT_I\n",
      "[PAD] DAT_I\n",
      "[PAD] LOC_B\n",
      "[PAD] LOC_I\n",
      "[PAD] LOC_I\n",
      "[PAD] LOC_I\n",
      "[PAD] LOC_I\n",
      "[PAD] LOC_I\n",
      "[PAD] -\n",
      "[PAD] MAT_B\n",
      "[PAD] MAT_B\n",
      "[PAD] MAT_B\n",
      "[PAD] -\n",
      "[PAD] -\n",
      "[PAD] -\n",
      "[PAD] -\n",
      "[PAD] NUM_B\n",
      "[PAD] NUM_I\n",
      "[PAD] -\n",
      "[PAD] -\n",
      "[PAD] -\n",
      "[PAD] NUM_B\n",
      "[PAD] -\n",
      "[PAD] -\n",
      "[PAD] -\n",
      "[PAD] -\n",
      "[PAD] -\n",
      "[PAD] -\n",
      "[PAD] -\n",
      "[PAD] -\n",
      "[PAD] -\n",
      "[PAD] -\n",
      "[PAD] -\n",
      "[PAD] -\n",
      "[PAD] -\n",
      "[PAD] -\n",
      "[PAD] -\n",
      "[PAD] -\n",
      "[PAD] -\n",
      "[PAD] -\n",
      "[PAD] -\n",
      "[PAD] -\n",
      "[PAD] -\n",
      "[PAD] -\n",
      "[PAD] -\n",
      "[PAD] TRM_I\n",
      "[PAD] -\n",
      "[PAD] -\n",
      "[PAD] -\n",
      "[PAD] -\n",
      "[PAD] -\n",
      "[PAD] -\n",
      "[PAD] -\n",
      "[PAD] -\n",
      "[PAD] -\n",
      "[PAD] -\n",
      "[PAD] -\n",
      "[PAD] -\n",
      "[PAD] -\n",
      "[PAD] -\n",
      "[PAD] -\n",
      "[PAD] -\n",
      "[PAD] -\n",
      "[PAD] -\n",
      "[PAD] -\n",
      "[PAD] -\n",
      "[PAD] -\n",
      "[PAD] -\n",
      "[PAD] -\n",
      "[PAD] -\n",
      "[PAD] -\n",
      "[PAD] -\n",
      "[PAD] -\n",
      "[PAD] -\n",
      "[PAD] -\n",
      "[PAD] -\n",
      "[PAD] -\n",
      "[PAD] -\n",
      "[PAD] -\n",
      "[PAD] -\n",
      "[PAD] -\n",
      "[PAD] NUM_I\n",
      "[PAD] -\n",
      "[PAD] -\n",
      "[PAD] -\n",
      "[PAD] -\n"
     ]
    }
   ],
   "source": [
    "k = random.randrange(len(selected_sample))\n",
    "\n",
    "id2label = lambda x: index_to_ner[x]\n",
    "result_labels = []\n",
    "for id in sample_results[k]:\n",
    "    result_labels.append(id2label(id))\n",
    "for tok, id in zip(selected_sample[k][0], result_labels):\n",
    "    print(tok, id)"
   ]
  },
  {
   "cell_type": "code",
   "execution_count": 63,
   "metadata": {},
   "outputs": [],
   "source": [
    "f = open('sample_result.csv', 'w', encoding='utf-8-sig')\n",
    "for idx, item in enumerate(selected_sample):\n",
    "    all_tokens = item[0]\n",
    "    if '[PAD]' not in all_tokens:\n",
    "        continue\n",
    "    pad_loc = all_tokens.index('[PAD]')\n",
    "    tokens = all_tokens[:pad_loc][1:-1]\n",
    "    labels = item[-1][:pad_loc][1:-1]\n",
    "    predicts = sample_results[idx][:pad_loc][1:-1]\n",
    "    length = len(tokens)\n",
    "    \n",
    "    f.write('token'+','+'label'+','+'predict'+'\\n')\n",
    "    for i in range(length):\n",
    "        token = tokens[i]\n",
    "        label = labels[i]\n",
    "        predict = index_to_ner[predicts[i]]\n",
    "        f.write(token+','+label+','+predict+'\\n')\n",
    "    f.write('\\n')\n",
    "f.close()"
   ]
  },
  {
   "cell_type": "code",
   "execution_count": 64,
   "metadata": {},
   "outputs": [
    {
     "data": {
      "text/html": [
       "<div>\n",
       "<style scoped>\n",
       "    .dataframe tbody tr th:only-of-type {\n",
       "        vertical-align: middle;\n",
       "    }\n",
       "\n",
       "    .dataframe tbody tr th {\n",
       "        vertical-align: top;\n",
       "    }\n",
       "\n",
       "    .dataframe thead th {\n",
       "        text-align: right;\n",
       "    }\n",
       "</style>\n",
       "<table border=\"1\" class=\"dataframe\">\n",
       "  <thead>\n",
       "    <tr style=\"text-align: right;\">\n",
       "      <th></th>\n",
       "      <th>token</th>\n",
       "      <th>label</th>\n",
       "      <th>predict</th>\n",
       "    </tr>\n",
       "  </thead>\n",
       "  <tbody>\n",
       "    <tr>\n",
       "      <th>0</th>\n",
       "      <td>성주군</td>\n",
       "      <td>LOC_B</td>\n",
       "      <td>LOC_B</td>\n",
       "    </tr>\n",
       "    <tr>\n",
       "      <th>1</th>\n",
       "      <td>선별작업</td>\n",
       "      <td>WRK_B</td>\n",
       "      <td>WRK_I</td>\n",
       "    </tr>\n",
       "    <tr>\n",
       "      <th>2</th>\n",
       "      <td>현장</td>\n",
       "      <td>LOC_B</td>\n",
       "      <td>LOC_B</td>\n",
       "    </tr>\n",
       "    <tr>\n",
       "      <th>3</th>\n",
       "      <td>에서</td>\n",
       "      <td>LOC_I</td>\n",
       "      <td>LOC_I</td>\n",
       "    </tr>\n",
       "    <tr>\n",
       "      <th>4</th>\n",
       "      <td>골재</td>\n",
       "      <td>-</td>\n",
       "      <td>WRK_B</td>\n",
       "    </tr>\n",
       "    <tr>\n",
       "      <th>5</th>\n",
       "      <td>정리작업</td>\n",
       "      <td>-</td>\n",
       "      <td>WRK_I</td>\n",
       "    </tr>\n",
       "    <tr>\n",
       "      <th>6</th>\n",
       "      <td>을</td>\n",
       "      <td>-</td>\n",
       "      <td>WRK_I</td>\n",
       "    </tr>\n",
       "    <tr>\n",
       "      <th>7</th>\n",
       "      <td>위해</td>\n",
       "      <td>-</td>\n",
       "      <td>-</td>\n",
       "    </tr>\n",
       "    <tr>\n",
       "      <th>8</th>\n",
       "      <td>작업</td>\n",
       "      <td>WRK_B</td>\n",
       "      <td>WRK_B</td>\n",
       "    </tr>\n",
       "    <tr>\n",
       "      <th>9</th>\n",
       "      <td>중</td>\n",
       "      <td>WRK_I</td>\n",
       "      <td>WRK_I</td>\n",
       "    </tr>\n",
       "    <tr>\n",
       "      <th>10</th>\n",
       "      <td>후진</td>\n",
       "      <td>-</td>\n",
       "      <td>-</td>\n",
       "    </tr>\n",
       "    <tr>\n",
       "      <th>11</th>\n",
       "      <td>하</td>\n",
       "      <td>-</td>\n",
       "      <td>-</td>\n",
       "    </tr>\n",
       "    <tr>\n",
       "      <th>12</th>\n",
       "      <td>##는</td>\n",
       "      <td>-</td>\n",
       "      <td>-</td>\n",
       "    </tr>\n",
       "    <tr>\n",
       "      <th>13</th>\n",
       "      <td>페이</td>\n",
       "      <td>TRM_B</td>\n",
       "      <td>TRM_B</td>\n",
       "    </tr>\n",
       "    <tr>\n",
       "      <th>14</th>\n",
       "      <td>로더</td>\n",
       "      <td>TRM_I</td>\n",
       "      <td>TRM_I</td>\n",
       "    </tr>\n",
       "    <tr>\n",
       "      <th>15</th>\n",
       "      <td>에</td>\n",
       "      <td>TRM_I</td>\n",
       "      <td>TRM_I</td>\n",
       "    </tr>\n",
       "    <tr>\n",
       "      <th>16</th>\n",
       "      <td>부딪혀</td>\n",
       "      <td>-</td>\n",
       "      <td>-</td>\n",
       "    </tr>\n",
       "    <tr>\n",
       "      <th>17</th>\n",
       "      <td>사망</td>\n",
       "      <td>-</td>\n",
       "      <td>-</td>\n",
       "    </tr>\n",
       "    <tr>\n",
       "      <th>18</th>\n",
       "      <td>token</td>\n",
       "      <td>label</td>\n",
       "      <td>predict</td>\n",
       "    </tr>\n",
       "    <tr>\n",
       "      <th>19</th>\n",
       "      <td>사천</td>\n",
       "      <td>LOC_B</td>\n",
       "      <td>LOC_B</td>\n",
       "    </tr>\n",
       "    <tr>\n",
       "      <th>20</th>\n",
       "      <td>선박</td>\n",
       "      <td>LOC_I</td>\n",
       "      <td>WRK_B</td>\n",
       "    </tr>\n",
       "    <tr>\n",
       "      <th>21</th>\n",
       "      <td>건조</td>\n",
       "      <td>LOC_I</td>\n",
       "      <td>WRK_I</td>\n",
       "    </tr>\n",
       "    <tr>\n",
       "      <th>22</th>\n",
       "      <td>사업장</td>\n",
       "      <td>LOC_I</td>\n",
       "      <td>LOC_B</td>\n",
       "    </tr>\n",
       "    <tr>\n",
       "      <th>23</th>\n",
       "      <td>내</td>\n",
       "      <td>-</td>\n",
       "      <td>-</td>\n",
       "    </tr>\n",
       "    <tr>\n",
       "      <th>24</th>\n",
       "      <td>메인</td>\n",
       "      <td>WRK_B</td>\n",
       "      <td>AFW_B</td>\n",
       "    </tr>\n",
       "    <tr>\n",
       "      <th>25</th>\n",
       "      <td>##서</td>\n",
       "      <td>WRK_I</td>\n",
       "      <td>AFW_I</td>\n",
       "    </tr>\n",
       "    <tr>\n",
       "      <th>26</th>\n",
       "      <td>포트</td>\n",
       "      <td>WRK_I</td>\n",
       "      <td>AFW_I</td>\n",
       "    </tr>\n",
       "    <tr>\n",
       "      <th>27</th>\n",
       "      <td>연결부</td>\n",
       "      <td>WRK_I</td>\n",
       "      <td>-</td>\n",
       "    </tr>\n",
       "    <tr>\n",
       "      <th>28</th>\n",
       "      <td>위</td>\n",
       "      <td>WRK_I</td>\n",
       "      <td>-</td>\n",
       "    </tr>\n",
       "    <tr>\n",
       "      <th>29</th>\n",
       "      <td>부분</td>\n",
       "      <td>WRK_I</td>\n",
       "      <td>-</td>\n",
       "    </tr>\n",
       "    <tr>\n",
       "      <th>30</th>\n",
       "      <td>도장작업</td>\n",
       "      <td>WRK_I</td>\n",
       "      <td>WRK_B</td>\n",
       "    </tr>\n",
       "    <tr>\n",
       "      <th>31</th>\n",
       "      <td>중</td>\n",
       "      <td>-</td>\n",
       "      <td>-</td>\n",
       "    </tr>\n",
       "    <tr>\n",
       "      <th>32</th>\n",
       "      <td>지지</td>\n",
       "      <td>AFW_B</td>\n",
       "      <td>AFW_B</td>\n",
       "    </tr>\n",
       "    <tr>\n",
       "      <th>33</th>\n",
       "      <td>대에</td>\n",
       "      <td>AFW_I</td>\n",
       "      <td>AFW_I</td>\n",
       "    </tr>\n",
       "    <tr>\n",
       "      <th>34</th>\n",
       "      <td>받</td>\n",
       "      <td>-</td>\n",
       "      <td>-</td>\n",
       "    </tr>\n",
       "    <tr>\n",
       "      <th>35</th>\n",
       "      <td>##혀</td>\n",
       "      <td>-</td>\n",
       "      <td>-</td>\n",
       "    </tr>\n",
       "    <tr>\n",
       "      <th>36</th>\n",
       "      <td>##져</td>\n",
       "      <td>-</td>\n",
       "      <td>-</td>\n",
       "    </tr>\n",
       "    <tr>\n",
       "      <th>37</th>\n",
       "      <td>있</td>\n",
       "      <td>-</td>\n",
       "      <td>-</td>\n",
       "    </tr>\n",
       "    <tr>\n",
       "      <th>38</th>\n",
       "      <td>##던</td>\n",
       "      <td>-</td>\n",
       "      <td>-</td>\n",
       "    </tr>\n",
       "    <tr>\n",
       "      <th>39</th>\n",
       "      <td>서</td>\n",
       "      <td>AFW_B</td>\n",
       "      <td>TRM_B</td>\n",
       "    </tr>\n",
       "    <tr>\n",
       "      <th>40</th>\n",
       "      <td>포트</td>\n",
       "      <td>AFW_I</td>\n",
       "      <td>TRM_I</td>\n",
       "    </tr>\n",
       "    <tr>\n",
       "      <th>41</th>\n",
       "      <td>가</td>\n",
       "      <td>AFW_I</td>\n",
       "      <td>TRM_I</td>\n",
       "    </tr>\n",
       "    <tr>\n",
       "      <th>42</th>\n",
       "      <td>떨어지</td>\n",
       "      <td>-</td>\n",
       "      <td>-</td>\n",
       "    </tr>\n",
       "    <tr>\n",
       "      <th>43</th>\n",
       "      <td>##면</td>\n",
       "      <td>-</td>\n",
       "      <td>-</td>\n",
       "    </tr>\n",
       "    <tr>\n",
       "      <th>44</th>\n",
       "      <td>##서</td>\n",
       "      <td>-</td>\n",
       "      <td>-</td>\n",
       "    </tr>\n",
       "    <tr>\n",
       "      <th>45</th>\n",
       "      <td>이에</td>\n",
       "      <td>-</td>\n",
       "      <td>-</td>\n",
       "    </tr>\n",
       "    <tr>\n",
       "      <th>46</th>\n",
       "      <td>깔</td>\n",
       "      <td>-</td>\n",
       "      <td>-</td>\n",
       "    </tr>\n",
       "    <tr>\n",
       "      <th>47</th>\n",
       "      <td>##림</td>\n",
       "      <td>-</td>\n",
       "      <td>-</td>\n",
       "    </tr>\n",
       "    <tr>\n",
       "      <th>48</th>\n",
       "      <td>.</td>\n",
       "      <td>-</td>\n",
       "      <td>-</td>\n",
       "    </tr>\n",
       "    <tr>\n",
       "      <th>49</th>\n",
       "      <td>token</td>\n",
       "      <td>label</td>\n",
       "      <td>predict</td>\n",
       "    </tr>\n",
       "  </tbody>\n",
       "</table>\n",
       "</div>"
      ],
      "text/plain": [
       "    token  label  predict\n",
       "0     성주군  LOC_B    LOC_B\n",
       "1    선별작업  WRK_B    WRK_I\n",
       "2      현장  LOC_B    LOC_B\n",
       "3      에서  LOC_I    LOC_I\n",
       "4      골재      -    WRK_B\n",
       "5    정리작업      -    WRK_I\n",
       "6       을      -    WRK_I\n",
       "7      위해      -        -\n",
       "8      작업  WRK_B    WRK_B\n",
       "9       중  WRK_I    WRK_I\n",
       "10     후진      -        -\n",
       "11      하      -        -\n",
       "12    ##는      -        -\n",
       "13     페이  TRM_B    TRM_B\n",
       "14     로더  TRM_I    TRM_I\n",
       "15      에  TRM_I    TRM_I\n",
       "16    부딪혀      -        -\n",
       "17     사망      -        -\n",
       "18  token  label  predict\n",
       "19     사천  LOC_B    LOC_B\n",
       "20     선박  LOC_I    WRK_B\n",
       "21     건조  LOC_I    WRK_I\n",
       "22    사업장  LOC_I    LOC_B\n",
       "23      내      -        -\n",
       "24     메인  WRK_B    AFW_B\n",
       "25    ##서  WRK_I    AFW_I\n",
       "26     포트  WRK_I    AFW_I\n",
       "27    연결부  WRK_I        -\n",
       "28      위  WRK_I        -\n",
       "29     부분  WRK_I        -\n",
       "30   도장작업  WRK_I    WRK_B\n",
       "31      중      -        -\n",
       "32     지지  AFW_B    AFW_B\n",
       "33     대에  AFW_I    AFW_I\n",
       "34      받      -        -\n",
       "35    ##혀      -        -\n",
       "36    ##져      -        -\n",
       "37      있      -        -\n",
       "38    ##던      -        -\n",
       "39      서  AFW_B    TRM_B\n",
       "40     포트  AFW_I    TRM_I\n",
       "41      가  AFW_I    TRM_I\n",
       "42    떨어지      -        -\n",
       "43    ##면      -        -\n",
       "44    ##서      -        -\n",
       "45     이에      -        -\n",
       "46      깔      -        -\n",
       "47    ##림      -        -\n",
       "48      .      -        -\n",
       "49  token  label  predict"
      ]
     },
     "execution_count": 64,
     "metadata": {},
     "output_type": "execute_result"
    }
   ],
   "source": [
    "df = pd.read_csv('./sample_result.csv')\n",
    "df.head(50)"
   ]
  },
  {
   "cell_type": "code",
   "execution_count": 65,
   "metadata": {},
   "outputs": [],
   "source": [
    "# num = len(df)\n",
    "# idx_to_label = {0:\"pad\", 1:\"O\", 2:\"C\", 3:\"CE\", 4:\"E\"}\n",
    "# result = []\n",
    "# for i in range(num):\n",
    "#     sentence = df.iloc[i,0]\n",
    "#     tokenizer_result = tokenizer.encode_plus(sentence)\n",
    "#     tokens = tokenizer.tokenize(sentence)\n",
    "#     input_ids = tokenizer_result[\"input_ids\"]\n",
    "#     mask = tokenizer_result[\"attention_mask\"]\n",
    "#     input_tensor = torch.LongTensor(input_ids).unsqueeze(0).to(device)\n",
    "#     mask_tensor = torch.LongTensor(mask).unsqueeze(0).to(device)\n",
    "#     output = model(input_tensor, mask_tensor)\n",
    "#     pred = torch.argmax(output, dim=-1).squeeze().detach().cpu().tolist()\n",
    "#     pred_label = list(map(lambda x:idx_to_label[x], pred))\n",
    "#     result.append([tokens, pred_label[1:-1]])\n",
    "    "
   ]
  },
  {
   "cell_type": "code",
   "execution_count": 66,
   "metadata": {},
   "outputs": [],
   "source": [
    "# f = open('./8-9_cause_effec_result.csv', 'w', encoding='utf-8-sig')\n",
    "# for item in result:\n",
    "#     length = len(item[0])\n",
    "#     for i in range(length):\n",
    "#         f.write(item[0][i]+','+item[1][i]+'\\n')\n",
    "#     f.write('\\n')\n",
    "# f.close()"
   ]
  },
  {
   "cell_type": "code",
   "execution_count": null,
   "metadata": {},
   "outputs": [],
   "source": []
  }
 ],
 "metadata": {
  "kernelspec": {
   "display_name": "Python 3.10.6 ('jeonghyeon')",
   "language": "python",
   "name": "python3"
  },
  "language_info": {
   "codemirror_mode": {
    "name": "ipython",
    "version": 3
   },
   "file_extension": ".py",
   "mimetype": "text/x-python",
   "name": "python",
   "nbconvert_exporter": "python",
   "pygments_lexer": "ipython3",
   "version": "3.8.13"
  },
  "orig_nbformat": 4,
  "vscode": {
   "interpreter": {
    "hash": "df12b971f0e4e081474c4ac44bd338416eac6f5401e1e938ba342788cee78ecd"
   }
  }
 },
 "nbformat": 4,
 "nbformat_minor": 2
}
