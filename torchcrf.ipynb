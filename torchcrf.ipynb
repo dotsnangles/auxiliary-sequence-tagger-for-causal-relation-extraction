{
 "cells": [
  {
   "cell_type": "code",
   "execution_count": 10,
   "metadata": {},
   "outputs": [],
   "source": [
    "import torch\n",
    "from torchcrf import CRF\n",
    "num_tags = 22  # number of tags is 5\n",
    "model = CRF(num_tags, batch_first=True)"
   ]
  },
  {
   "cell_type": "code",
   "execution_count": 18,
   "metadata": {},
   "outputs": [
    {
     "data": {
      "text/plain": [
       "tensor(-23.0485, grad_fn=<SumBackward0>)"
      ]
     },
     "execution_count": 18,
     "metadata": {},
     "output_type": "execute_result"
    }
   ],
   "source": [
    "batch_size = 2  # number of samples in the batch\n",
    "seq_length = 3  # maximum sequence length in a batch\n",
    "emissions = torch.randn(batch_size, seq_length, num_tags)\n",
    "tags = torch.tensor([[0, 1], [2, 4], [3, 1]], dtype=torch.long).transpose(1, 0) # (seq_length, batch_size)\n",
    "model(emissions, tags)"
   ]
  },
  {
   "cell_type": "code",
   "execution_count": 19,
   "metadata": {},
   "outputs": [
    {
     "data": {
      "text/plain": [
       "tensor(-20.0197, grad_fn=<SumBackward0>)"
      ]
     },
     "execution_count": 19,
     "metadata": {},
     "output_type": "execute_result"
    }
   ],
   "source": [
    "# mask size is (seq_length, batch_size)\n",
    "# the last sample has length of 1\n",
    "batch_size = 2  # number of samples in the batch\n",
    "seq_length = 3  # maximum sequence length in a batch\n",
    "emissions = torch.randn(batch_size, seq_length, num_tags)\n",
    "tags = torch.tensor([[0, 1], [2, 4], [3, 1]], dtype=torch.long).transpose(1, 0) # (seq_length, batch_size)\n",
    "mask = torch.tensor([[1, 1], [1, 1], [1, 0]], dtype=torch.uint8).transpose(1, 0)\n",
    "model(emissions, tags, mask=mask)"
   ]
  },
  {
   "cell_type": "code",
   "execution_count": 24,
   "metadata": {},
   "outputs": [
    {
     "data": {
      "text/plain": [
       "[[7, 9, 4], [19, 19, 21]]"
      ]
     },
     "execution_count": 24,
     "metadata": {},
     "output_type": "execute_result"
    }
   ],
   "source": [
    "model.decode(emissions)"
   ]
  }
 ],
 "metadata": {
  "kernelspec": {
   "display_name": "Python 3.8.13 ('jeonghyeon')",
   "language": "python",
   "name": "python3"
  },
  "language_info": {
   "codemirror_mode": {
    "name": "ipython",
    "version": 3
   },
   "file_extension": ".py",
   "mimetype": "text/x-python",
   "name": "python",
   "nbconvert_exporter": "python",
   "pygments_lexer": "ipython3",
   "version": "3.8.13"
  },
  "orig_nbformat": 4,
  "vscode": {
   "interpreter": {
    "hash": "df12b971f0e4e081474c4ac44bd338416eac6f5401e1e938ba342788cee78ecd"
   }
  }
 },
 "nbformat": 4,
 "nbformat_minor": 2
}
